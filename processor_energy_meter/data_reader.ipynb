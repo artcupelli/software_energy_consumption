{
 "cells": [
  {
   "cell_type": "code",
   "execution_count": 8,
   "metadata": {},
   "outputs": [],
   "source": [
    "import pandas as pd\n",
    "import pymongo\n",
    "import plotly.express as px"
   ]
  },
  {
   "cell_type": "code",
   "execution_count": 9,
   "metadata": {},
   "outputs": [],
   "source": [
    "myclient = pymongo.MongoClient(\"mongodb://localhost:27017/\")\n",
    "mydb = myclient[\"db_sensor\"]"
   ]
  },
  {
   "cell_type": "code",
   "execution_count": 10,
   "metadata": {},
   "outputs": [],
   "source": [
    "data = pd.DataFrame(list(mydb['report_0'].find({})))"
   ]
  },
  {
   "cell_type": "code",
   "execution_count": 11,
   "metadata": {},
   "outputs": [
    {
     "data": {
      "text/plain": [
       "array(['all', 'nostalgic_hypatia', 'mongo_destination', 'keen_euler',\n",
       "       'elastic_yonath', 'adoring_lichterman', 'firefox-3'], dtype=object)"
      ]
     },
     "execution_count": 11,
     "metadata": {},
     "output_type": "execute_result"
    }
   ],
   "source": [
    "data.target.unique()"
   ]
  },
  {
   "cell_type": "code",
   "execution_count": 21,
   "metadata": {},
   "outputs": [
    {
     "data": {
      "text/html": [
       "<div>\n",
       "<style scoped>\n",
       "    .dataframe tbody tr th:only-of-type {\n",
       "        vertical-align: middle;\n",
       "    }\n",
       "\n",
       "    .dataframe tbody tr th {\n",
       "        vertical-align: top;\n",
       "    }\n",
       "\n",
       "    .dataframe thead th {\n",
       "        text-align: right;\n",
       "    }\n",
       "</style>\n",
       "<table border=\"1\" class=\"dataframe\">\n",
       "  <thead>\n",
       "    <tr style=\"text-align: right;\">\n",
       "      <th></th>\n",
       "      <th>_id</th>\n",
       "      <th>timestamp</th>\n",
       "      <th>sensor</th>\n",
       "      <th>target</th>\n",
       "      <th>groups</th>\n",
       "    </tr>\n",
       "  </thead>\n",
       "  <tbody>\n",
       "    <tr>\n",
       "      <th>0</th>\n",
       "      <td>666f64ced4ec39332902c781</td>\n",
       "      <td>2024-06-16 22:18:54.301</td>\n",
       "      <td>artur</td>\n",
       "      <td>all</td>\n",
       "      <td>{'rapl': {'0': {'3': {'RAPL_ENERGY_PKG': 13495...</td>\n",
       "    </tr>\n",
       "    <tr>\n",
       "      <th>1</th>\n",
       "      <td>666f64ced4ec39332902c782</td>\n",
       "      <td>2024-06-16 22:18:54.301</td>\n",
       "      <td>artur</td>\n",
       "      <td>nostalgic_hypatia</td>\n",
       "      <td>{'core': {'0': {'3': {'CPU_CLK_THREAD_UNHALTED...</td>\n",
       "    </tr>\n",
       "    <tr>\n",
       "      <th>2</th>\n",
       "      <td>666f64ced4ec39332902c783</td>\n",
       "      <td>2024-06-16 22:18:54.301</td>\n",
       "      <td>artur</td>\n",
       "      <td>mongo_destination</td>\n",
       "      <td>{'core': {'0': {'3': {'CPU_CLK_THREAD_UNHALTED...</td>\n",
       "    </tr>\n",
       "    <tr>\n",
       "      <th>3</th>\n",
       "      <td>666f64cfd4ec39332902c784</td>\n",
       "      <td>2024-06-16 22:18:55.303</td>\n",
       "      <td>artur</td>\n",
       "      <td>all</td>\n",
       "      <td>{'rapl': {'0': {'3': {'RAPL_ENERGY_PKG': 42155...</td>\n",
       "    </tr>\n",
       "    <tr>\n",
       "      <th>4</th>\n",
       "      <td>666f64cfd4ec39332902c785</td>\n",
       "      <td>2024-06-16 22:18:55.303</td>\n",
       "      <td>artur</td>\n",
       "      <td>mongo_destination</td>\n",
       "      <td>{'core': {'0': {'3': {'CPU_CLK_THREAD_UNHALTED...</td>\n",
       "    </tr>\n",
       "    <tr>\n",
       "      <th>5</th>\n",
       "      <td>666f64cfd4ec39332902c786</td>\n",
       "      <td>2024-06-16 22:18:55.303</td>\n",
       "      <td>artur</td>\n",
       "      <td>nostalgic_hypatia</td>\n",
       "      <td>{'core': {'0': {'3': {'CPU_CLK_THREAD_UNHALTED...</td>\n",
       "    </tr>\n",
       "    <tr>\n",
       "      <th>6</th>\n",
       "      <td>666f64d0d4ec39332902c787</td>\n",
       "      <td>2024-06-16 22:18:56.305</td>\n",
       "      <td>artur</td>\n",
       "      <td>all</td>\n",
       "      <td>{'rapl': {'0': {'3': {'RAPL_ENERGY_PKG': 17114...</td>\n",
       "    </tr>\n",
       "    <tr>\n",
       "      <th>7</th>\n",
       "      <td>666f64d0d4ec39332902c788</td>\n",
       "      <td>2024-06-16 22:18:56.305</td>\n",
       "      <td>artur</td>\n",
       "      <td>mongo_destination</td>\n",
       "      <td>{'core': {'0': {'3': {'CPU_CLK_THREAD_UNHALTED...</td>\n",
       "    </tr>\n",
       "    <tr>\n",
       "      <th>8</th>\n",
       "      <td>666f64d0d4ec39332902c789</td>\n",
       "      <td>2024-06-16 22:18:56.305</td>\n",
       "      <td>artur</td>\n",
       "      <td>nostalgic_hypatia</td>\n",
       "      <td>{'core': {'0': {'3': {'CPU_CLK_THREAD_UNHALTED...</td>\n",
       "    </tr>\n",
       "    <tr>\n",
       "      <th>9</th>\n",
       "      <td>666f64d1d4ec39332902c78a</td>\n",
       "      <td>2024-06-16 22:18:57.306</td>\n",
       "      <td>artur</td>\n",
       "      <td>all</td>\n",
       "      <td>{'rapl': {'0': {'3': {'RAPL_ENERGY_PKG': 47398...</td>\n",
       "    </tr>\n",
       "    <tr>\n",
       "      <th>10</th>\n",
       "      <td>666f64d1d4ec39332902c78b</td>\n",
       "      <td>2024-06-16 22:18:57.306</td>\n",
       "      <td>artur</td>\n",
       "      <td>mongo_destination</td>\n",
       "      <td>{'core': {'0': {'3': {'CPU_CLK_THREAD_UNHALTED...</td>\n",
       "    </tr>\n",
       "    <tr>\n",
       "      <th>11</th>\n",
       "      <td>666f64d1d4ec39332902c78c</td>\n",
       "      <td>2024-06-16 22:18:57.306</td>\n",
       "      <td>artur</td>\n",
       "      <td>nostalgic_hypatia</td>\n",
       "      <td>{'core': {'0': {'3': {'CPU_CLK_THREAD_UNHALTED...</td>\n",
       "    </tr>\n",
       "    <tr>\n",
       "      <th>12</th>\n",
       "      <td>666f64d2d4ec39332902c78d</td>\n",
       "      <td>2024-06-16 22:18:58.308</td>\n",
       "      <td>artur</td>\n",
       "      <td>all</td>\n",
       "      <td>{'rapl': {'0': {'3': {'RAPL_ENERGY_PKG': 44677...</td>\n",
       "    </tr>\n",
       "    <tr>\n",
       "      <th>13</th>\n",
       "      <td>666f64d2d4ec39332902c78e</td>\n",
       "      <td>2024-06-16 22:18:58.308</td>\n",
       "      <td>artur</td>\n",
       "      <td>mongo_destination</td>\n",
       "      <td>{'core': {'0': {'3': {'CPU_CLK_THREAD_UNHALTED...</td>\n",
       "    </tr>\n",
       "    <tr>\n",
       "      <th>14</th>\n",
       "      <td>666f64d2d4ec39332902c78f</td>\n",
       "      <td>2024-06-16 22:18:58.308</td>\n",
       "      <td>artur</td>\n",
       "      <td>nostalgic_hypatia</td>\n",
       "      <td>{'core': {'0': {'3': {'CPU_CLK_THREAD_UNHALTED...</td>\n",
       "    </tr>\n",
       "    <tr>\n",
       "      <th>15</th>\n",
       "      <td>666f64d3d4ec39332902c790</td>\n",
       "      <td>2024-06-16 22:18:59.309</td>\n",
       "      <td>artur</td>\n",
       "      <td>mongo_destination</td>\n",
       "      <td>{'core': {'0': {'3': {'CPU_CLK_THREAD_UNHALTED...</td>\n",
       "    </tr>\n",
       "    <tr>\n",
       "      <th>16</th>\n",
       "      <td>666f64d3d4ec39332902c791</td>\n",
       "      <td>2024-06-16 22:18:59.309</td>\n",
       "      <td>artur</td>\n",
       "      <td>all</td>\n",
       "      <td>{'rapl': {'0': {'3': {'RAPL_ENERGY_PKG': 20509...</td>\n",
       "    </tr>\n",
       "    <tr>\n",
       "      <th>17</th>\n",
       "      <td>666f64d3d4ec39332902c792</td>\n",
       "      <td>2024-06-16 22:18:59.309</td>\n",
       "      <td>artur</td>\n",
       "      <td>nostalgic_hypatia</td>\n",
       "      <td>{'core': {'0': {'3': {'CPU_CLK_THREAD_UNHALTED...</td>\n",
       "    </tr>\n",
       "    <tr>\n",
       "      <th>18</th>\n",
       "      <td>666f64d4d4ec39332902c793</td>\n",
       "      <td>2024-06-16 22:19:00.311</td>\n",
       "      <td>artur</td>\n",
       "      <td>mongo_destination</td>\n",
       "      <td>{'core': {'0': {'3': {'CPU_CLK_THREAD_UNHALTED...</td>\n",
       "    </tr>\n",
       "    <tr>\n",
       "      <th>19</th>\n",
       "      <td>666f64d4d4ec39332902c794</td>\n",
       "      <td>2024-06-16 22:19:00.311</td>\n",
       "      <td>artur</td>\n",
       "      <td>all</td>\n",
       "      <td>{'rapl': {'0': {'3': {'RAPL_ENERGY_PKG': 10173...</td>\n",
       "    </tr>\n",
       "  </tbody>\n",
       "</table>\n",
       "</div>"
      ],
      "text/plain": [
       "                         _id               timestamp sensor  \\\n",
       "0   666f64ced4ec39332902c781 2024-06-16 22:18:54.301  artur   \n",
       "1   666f64ced4ec39332902c782 2024-06-16 22:18:54.301  artur   \n",
       "2   666f64ced4ec39332902c783 2024-06-16 22:18:54.301  artur   \n",
       "3   666f64cfd4ec39332902c784 2024-06-16 22:18:55.303  artur   \n",
       "4   666f64cfd4ec39332902c785 2024-06-16 22:18:55.303  artur   \n",
       "5   666f64cfd4ec39332902c786 2024-06-16 22:18:55.303  artur   \n",
       "6   666f64d0d4ec39332902c787 2024-06-16 22:18:56.305  artur   \n",
       "7   666f64d0d4ec39332902c788 2024-06-16 22:18:56.305  artur   \n",
       "8   666f64d0d4ec39332902c789 2024-06-16 22:18:56.305  artur   \n",
       "9   666f64d1d4ec39332902c78a 2024-06-16 22:18:57.306  artur   \n",
       "10  666f64d1d4ec39332902c78b 2024-06-16 22:18:57.306  artur   \n",
       "11  666f64d1d4ec39332902c78c 2024-06-16 22:18:57.306  artur   \n",
       "12  666f64d2d4ec39332902c78d 2024-06-16 22:18:58.308  artur   \n",
       "13  666f64d2d4ec39332902c78e 2024-06-16 22:18:58.308  artur   \n",
       "14  666f64d2d4ec39332902c78f 2024-06-16 22:18:58.308  artur   \n",
       "15  666f64d3d4ec39332902c790 2024-06-16 22:18:59.309  artur   \n",
       "16  666f64d3d4ec39332902c791 2024-06-16 22:18:59.309  artur   \n",
       "17  666f64d3d4ec39332902c792 2024-06-16 22:18:59.309  artur   \n",
       "18  666f64d4d4ec39332902c793 2024-06-16 22:19:00.311  artur   \n",
       "19  666f64d4d4ec39332902c794 2024-06-16 22:19:00.311  artur   \n",
       "\n",
       "               target                                             groups  \n",
       "0                 all  {'rapl': {'0': {'3': {'RAPL_ENERGY_PKG': 13495...  \n",
       "1   nostalgic_hypatia  {'core': {'0': {'3': {'CPU_CLK_THREAD_UNHALTED...  \n",
       "2   mongo_destination  {'core': {'0': {'3': {'CPU_CLK_THREAD_UNHALTED...  \n",
       "3                 all  {'rapl': {'0': {'3': {'RAPL_ENERGY_PKG': 42155...  \n",
       "4   mongo_destination  {'core': {'0': {'3': {'CPU_CLK_THREAD_UNHALTED...  \n",
       "5   nostalgic_hypatia  {'core': {'0': {'3': {'CPU_CLK_THREAD_UNHALTED...  \n",
       "6                 all  {'rapl': {'0': {'3': {'RAPL_ENERGY_PKG': 17114...  \n",
       "7   mongo_destination  {'core': {'0': {'3': {'CPU_CLK_THREAD_UNHALTED...  \n",
       "8   nostalgic_hypatia  {'core': {'0': {'3': {'CPU_CLK_THREAD_UNHALTED...  \n",
       "9                 all  {'rapl': {'0': {'3': {'RAPL_ENERGY_PKG': 47398...  \n",
       "10  mongo_destination  {'core': {'0': {'3': {'CPU_CLK_THREAD_UNHALTED...  \n",
       "11  nostalgic_hypatia  {'core': {'0': {'3': {'CPU_CLK_THREAD_UNHALTED...  \n",
       "12                all  {'rapl': {'0': {'3': {'RAPL_ENERGY_PKG': 44677...  \n",
       "13  mongo_destination  {'core': {'0': {'3': {'CPU_CLK_THREAD_UNHALTED...  \n",
       "14  nostalgic_hypatia  {'core': {'0': {'3': {'CPU_CLK_THREAD_UNHALTED...  \n",
       "15  mongo_destination  {'core': {'0': {'3': {'CPU_CLK_THREAD_UNHALTED...  \n",
       "16                all  {'rapl': {'0': {'3': {'RAPL_ENERGY_PKG': 20509...  \n",
       "17  nostalgic_hypatia  {'core': {'0': {'3': {'CPU_CLK_THREAD_UNHALTED...  \n",
       "18  mongo_destination  {'core': {'0': {'3': {'CPU_CLK_THREAD_UNHALTED...  \n",
       "19                all  {'rapl': {'0': {'3': {'RAPL_ENERGY_PKG': 10173...  "
      ]
     },
     "execution_count": 21,
     "metadata": {},
     "output_type": "execute_result"
    }
   ],
   "source": [
    "data.head(20)"
   ]
  },
  {
   "cell_type": "code",
   "execution_count": 35,
   "metadata": {},
   "outputs": [
    {
     "data": {
      "text/plain": [
       "(59, 5)"
      ]
     },
     "execution_count": 35,
     "metadata": {},
     "output_type": "execute_result"
    }
   ],
   "source": [
    "data[data.target == 'all'].shape"
   ]
  },
  {
   "cell_type": "code",
   "execution_count": 23,
   "metadata": {},
   "outputs": [],
   "source": [
    "data = data[data.groups.astype(str).str.contains('rapl')]"
   ]
  },
  {
   "cell_type": "code",
   "execution_count": 24,
   "metadata": {},
   "outputs": [
    {
     "data": {
      "text/plain": [
       "1349517312.0"
      ]
     },
     "execution_count": 24,
     "metadata": {},
     "output_type": "execute_result"
    }
   ],
   "source": [
    "start = data.iloc[0].groups['rapl']['0']['3']['RAPL_ENERGY_PKG']\n",
    "start"
   ]
  },
  {
   "cell_type": "code",
   "execution_count": 25,
   "metadata": {},
   "outputs": [
    {
     "data": {
      "text/plain": [
       "8397520896.0"
      ]
     },
     "execution_count": 25,
     "metadata": {},
     "output_type": "execute_result"
    }
   ],
   "source": [
    "finish = data.iloc[58].groups['rapl']['0']['3']['RAPL_ENERGY_PKG']\n",
    "finish"
   ]
  },
  {
   "cell_type": "code",
   "execution_count": 26,
   "metadata": {},
   "outputs": [],
   "source": [
    "data.reset_index(inplace=True)\n",
    "\n",
    "for index, row in data.iterrows():\n",
    "    data.loc[index, 'power'] = data.iloc[index].groups['rapl']['0']['3']['RAPL_ENERGY_PKG']"
   ]
  },
  {
   "cell_type": "code",
   "execution_count": 27,
   "metadata": {},
   "outputs": [
    {
     "data": {
      "text/html": [
       "<div>\n",
       "<style scoped>\n",
       "    .dataframe tbody tr th:only-of-type {\n",
       "        vertical-align: middle;\n",
       "    }\n",
       "\n",
       "    .dataframe tbody tr th {\n",
       "        vertical-align: top;\n",
       "    }\n",
       "\n",
       "    .dataframe thead th {\n",
       "        text-align: right;\n",
       "    }\n",
       "</style>\n",
       "<table border=\"1\" class=\"dataframe\">\n",
       "  <thead>\n",
       "    <tr style=\"text-align: right;\">\n",
       "      <th></th>\n",
       "      <th>level_0</th>\n",
       "      <th>index</th>\n",
       "      <th>_id</th>\n",
       "      <th>timestamp</th>\n",
       "      <th>sensor</th>\n",
       "      <th>target</th>\n",
       "      <th>groups</th>\n",
       "      <th>power</th>\n",
       "    </tr>\n",
       "  </thead>\n",
       "  <tbody>\n",
       "    <tr>\n",
       "      <th>0</th>\n",
       "      <td>0</td>\n",
       "      <td>0</td>\n",
       "      <td>666f64ced4ec39332902c781</td>\n",
       "      <td>2024-06-16 22:18:54.301</td>\n",
       "      <td>artur</td>\n",
       "      <td>all</td>\n",
       "      <td>{'rapl': {'0': {'3': {'RAPL_ENERGY_PKG': 13495...</td>\n",
       "      <td>1.349517e+09</td>\n",
       "    </tr>\n",
       "    <tr>\n",
       "      <th>1</th>\n",
       "      <td>3</td>\n",
       "      <td>3</td>\n",
       "      <td>666f64cfd4ec39332902c784</td>\n",
       "      <td>2024-06-16 22:18:55.303</td>\n",
       "      <td>artur</td>\n",
       "      <td>all</td>\n",
       "      <td>{'rapl': {'0': {'3': {'RAPL_ENERGY_PKG': 42155...</td>\n",
       "      <td>4.215564e+10</td>\n",
       "    </tr>\n",
       "    <tr>\n",
       "      <th>2</th>\n",
       "      <td>6</td>\n",
       "      <td>6</td>\n",
       "      <td>666f64d0d4ec39332902c787</td>\n",
       "      <td>2024-06-16 22:18:56.305</td>\n",
       "      <td>artur</td>\n",
       "      <td>all</td>\n",
       "      <td>{'rapl': {'0': {'3': {'RAPL_ENERGY_PKG': 17114...</td>\n",
       "      <td>1.711407e+10</td>\n",
       "    </tr>\n",
       "    <tr>\n",
       "      <th>3</th>\n",
       "      <td>9</td>\n",
       "      <td>9</td>\n",
       "      <td>666f64d1d4ec39332902c78a</td>\n",
       "      <td>2024-06-16 22:18:57.306</td>\n",
       "      <td>artur</td>\n",
       "      <td>all</td>\n",
       "      <td>{'rapl': {'0': {'3': {'RAPL_ENERGY_PKG': 47398...</td>\n",
       "      <td>4.739826e+09</td>\n",
       "    </tr>\n",
       "    <tr>\n",
       "      <th>4</th>\n",
       "      <td>12</td>\n",
       "      <td>12</td>\n",
       "      <td>666f64d2d4ec39332902c78d</td>\n",
       "      <td>2024-06-16 22:18:58.308</td>\n",
       "      <td>artur</td>\n",
       "      <td>all</td>\n",
       "      <td>{'rapl': {'0': {'3': {'RAPL_ENERGY_PKG': 44677...</td>\n",
       "      <td>4.467720e+09</td>\n",
       "    </tr>\n",
       "  </tbody>\n",
       "</table>\n",
       "</div>"
      ],
      "text/plain": [
       "   level_0  index                       _id               timestamp sensor  \\\n",
       "0        0      0  666f64ced4ec39332902c781 2024-06-16 22:18:54.301  artur   \n",
       "1        3      3  666f64cfd4ec39332902c784 2024-06-16 22:18:55.303  artur   \n",
       "2        6      6  666f64d0d4ec39332902c787 2024-06-16 22:18:56.305  artur   \n",
       "3        9      9  666f64d1d4ec39332902c78a 2024-06-16 22:18:57.306  artur   \n",
       "4       12     12  666f64d2d4ec39332902c78d 2024-06-16 22:18:58.308  artur   \n",
       "\n",
       "  target                                             groups         power  \n",
       "0    all  {'rapl': {'0': {'3': {'RAPL_ENERGY_PKG': 13495...  1.349517e+09  \n",
       "1    all  {'rapl': {'0': {'3': {'RAPL_ENERGY_PKG': 42155...  4.215564e+10  \n",
       "2    all  {'rapl': {'0': {'3': {'RAPL_ENERGY_PKG': 17114...  1.711407e+10  \n",
       "3    all  {'rapl': {'0': {'3': {'RAPL_ENERGY_PKG': 47398...  4.739826e+09  \n",
       "4    all  {'rapl': {'0': {'3': {'RAPL_ENERGY_PKG': 44677...  4.467720e+09  "
      ]
     },
     "execution_count": 27,
     "metadata": {},
     "output_type": "execute_result"
    }
   ],
   "source": [
    "data.head()"
   ]
  },
  {
   "cell_type": "code",
   "execution_count": 28,
   "metadata": {},
   "outputs": [],
   "source": [
    "data.drop(columns=['level_0', 'index'], inplace=True)"
   ]
  },
  {
   "cell_type": "code",
   "execution_count": 29,
   "metadata": {},
   "outputs": [
    {
     "data": {
      "application/vnd.plotly.v1+json": {
       "config": {
        "plotlyServerURL": "https://plot.ly"
       },
       "data": [
        {
         "hovertemplate": "timestamp=%{x}<br>power=%{y}<extra></extra>",
         "legendgroup": "",
         "line": {
          "color": "#636efa",
          "dash": "solid"
         },
         "marker": {
          "symbol": "circle"
         },
         "mode": "lines",
         "name": "",
         "orientation": "v",
         "showlegend": false,
         "type": "scatter",
         "x": [
          "2024-06-16T22:18:54.301000",
          "2024-06-16T22:18:55.303000",
          "2024-06-16T22:18:56.305000",
          "2024-06-16T22:18:57.306000",
          "2024-06-16T22:18:58.308000",
          "2024-06-16T22:18:59.309000",
          "2024-06-16T22:19:00.311000",
          "2024-06-16T22:19:01.314000",
          "2024-06-16T22:19:02.315000",
          "2024-06-16T22:19:03.316000",
          "2024-06-16T22:19:04.317000",
          "2024-06-16T22:19:05.317000",
          "2024-06-16T22:19:06.318000",
          "2024-06-16T22:19:07.319000",
          "2024-06-16T22:19:08.321000",
          "2024-06-16T22:19:09.324000",
          "2024-06-16T22:19:10.325000",
          "2024-06-16T22:19:11.333000",
          "2024-06-16T22:19:12.335000",
          "2024-06-16T22:19:13.337000",
          "2024-06-16T22:19:14.338000",
          "2024-06-16T22:19:15.341000",
          "2024-06-16T22:19:16.342000",
          "2024-06-16T22:19:17.343000",
          "2024-06-16T22:19:18.345000",
          "2024-06-16T22:19:19.347000",
          "2024-06-16T22:19:20.347000",
          "2024-06-16T22:19:21.348000",
          "2024-06-16T22:19:22.350000",
          "2024-06-16T22:19:23.354000",
          "2024-06-16T22:19:24.356000",
          "2024-06-16T22:19:25.357000",
          "2024-06-16T22:19:26.359000",
          "2024-06-16T22:19:27.361000",
          "2024-06-16T22:19:28.362000",
          "2024-06-16T22:19:29.364000",
          "2024-06-16T22:19:30.365000",
          "2024-06-16T22:19:31.366000",
          "2024-06-16T22:19:32.367000",
          "2024-06-16T22:19:33.368000",
          "2024-06-16T22:19:34.369000",
          "2024-06-16T22:19:35.369000",
          "2024-06-16T22:19:36.372000",
          "2024-06-16T22:19:37.375000",
          "2024-06-16T22:19:38.376000",
          "2024-06-16T22:19:39.377000",
          "2024-06-16T22:19:40.378000",
          "2024-06-16T22:19:41.378000",
          "2024-06-16T22:19:42.379000",
          "2024-06-16T22:19:43.380000",
          "2024-06-16T22:19:44.382000",
          "2024-06-16T22:19:45.384000",
          "2024-06-16T22:19:46.386000",
          "2024-06-16T22:19:47.387000",
          "2024-06-16T22:19:48.388000",
          "2024-06-16T22:19:49.390000",
          "2024-06-16T22:19:50.391000",
          "2024-06-16T22:19:51.392000",
          "2024-06-16T22:19:52.394000",
          "2024-06-16T22:19:53.397000",
          "2024-06-16T22:19:54.399000",
          "2024-06-16T22:19:55.402000",
          "2024-06-16T22:19:56.403000",
          "2024-06-16T22:19:57.406000",
          "2024-06-16T22:19:58.406000",
          "2024-06-16T22:19:59.409000",
          "2024-06-16T22:20:00.410000",
          "2024-06-16T22:20:01.410000",
          "2024-06-16T22:20:02.413000",
          "2024-06-16T22:20:03.416000",
          "2024-06-16T22:20:04.416000",
          "2024-06-16T22:20:05.419000",
          "2024-06-16T22:20:06.419000",
          "2024-06-16T22:20:07.422000",
          "2024-06-16T22:20:08.425000",
          "2024-06-16T22:20:09.427000",
          "2024-06-16T22:20:10.427000",
          "2024-06-16T22:20:11.429000",
          "2024-06-16T22:20:12.432000",
          "2024-06-16T22:20:13.435000",
          "2024-06-16T22:20:14.436000",
          "2024-06-16T22:20:15.438000",
          "2024-06-16T22:20:16.440000",
          "2024-06-16T22:20:17.443000",
          "2024-06-16T22:20:18.444000",
          "2024-06-16T22:20:19.445000",
          "2024-06-16T22:20:20.446000",
          "2024-06-16T22:20:21.447000",
          "2024-06-16T22:20:22.449000",
          "2024-06-16T22:20:23.451000",
          "2024-06-16T22:20:24.451000",
          "2024-06-16T22:20:25.453000",
          "2024-06-16T22:20:26.454000",
          "2024-06-16T22:20:27.455000",
          "2024-06-16T22:20:28.456000",
          "2024-06-16T22:20:29.457000",
          "2024-06-16T22:20:30.458000",
          "2024-06-16T22:20:31.459000",
          "2024-06-16T22:20:32.460000",
          "2024-06-16T22:20:33.463000",
          "2024-06-16T22:20:34.464000",
          "2024-06-16T22:20:35.467000",
          "2024-06-16T22:20:36.470000",
          "2024-06-16T22:20:37.471000",
          "2024-06-16T22:23:58.187000",
          "2024-06-16T22:23:59.189000",
          "2024-06-16T22:24:00.191000",
          "2024-06-16T22:24:01.191000",
          "2024-06-16T22:24:02.193000",
          "2024-06-16T22:24:03.194000",
          "2024-06-16T22:24:04.195000",
          "2024-06-16T22:24:05.196000",
          "2024-06-16T22:24:06.196000",
          "2024-06-16T22:24:07.197000",
          "2024-06-16T22:24:08.199000",
          "2024-06-16T22:24:09.200000",
          "2024-06-16T22:24:10.201000",
          "2024-06-16T22:24:11.203000",
          "2024-06-16T22:24:12.204000",
          "2024-06-16T22:24:13.205000",
          "2024-06-16T22:24:14.207000",
          "2024-06-16T22:24:15.210000",
          "2024-06-16T22:24:16.212000",
          "2024-06-16T22:24:17.215000",
          "2024-06-16T22:24:18.216000",
          "2024-06-16T22:24:19.216000",
          "2024-06-16T22:24:20.219000",
          "2024-06-16T22:24:21.221000",
          "2024-06-16T22:24:22.221000",
          "2024-06-16T22:24:23.224000",
          "2024-06-16T22:24:24.226000",
          "2024-06-16T22:24:25.228000",
          "2024-06-16T22:24:26.229000",
          "2024-06-16T22:24:27.233000",
          "2024-06-16T22:24:28.236000",
          "2024-06-16T22:24:29.236000",
          "2024-06-16T22:24:30.239000",
          "2024-06-16T22:24:31.242000",
          "2024-06-16T22:24:32.243000",
          "2024-06-16T22:24:33.245000",
          "2024-06-16T22:24:34.245000",
          "2024-06-16T22:24:35.247000",
          "2024-06-16T22:24:36.250000",
          "2024-06-16T22:24:37.252000",
          "2024-06-16T22:24:38.254000",
          "2024-06-16T22:24:39.258000",
          "2024-06-16T22:24:40.259000",
          "2024-06-16T22:24:41.260000",
          "2024-06-16T22:24:42.260000",
          "2024-06-16T22:24:43.261000",
          "2024-06-16T22:24:44.263000",
          "2024-06-16T22:24:45.263000",
          "2024-06-16T22:24:46.264000",
          "2024-06-16T22:24:47.265000",
          "2024-06-16T22:24:48.266000",
          "2024-06-16T22:24:49.267000",
          "2024-06-16T22:24:50.273000",
          "2024-06-16T22:24:51.276000",
          "2024-06-16T22:24:52.277000",
          "2024-06-16T22:24:53.278000",
          "2024-06-16T22:24:54.279000",
          "2024-06-16T22:24:55.280000",
          "2024-06-16T22:24:56.282000",
          "2024-06-16T22:24:57.284000",
          "2024-06-16T22:24:58.284000",
          "2024-06-16T22:24:59.286000",
          "2024-06-16T22:25:00.287000",
          "2024-06-16T22:25:01.289000",
          "2024-06-16T22:25:02.291000",
          "2024-06-16T22:25:03.291000",
          "2024-06-16T22:25:04.293000",
          "2024-06-16T22:25:05.295000",
          "2024-06-16T22:25:06.295000",
          "2024-06-16T22:25:07.298000",
          "2024-06-16T22:25:08.299000",
          "2024-06-16T22:25:09.301000",
          "2024-06-16T22:25:10.304000",
          "2024-06-16T22:25:11.306000",
          "2024-06-16T22:25:12.307000"
         ],
         "xaxis": "x",
         "y": [
          1349517312,
          42155638784,
          17114071040,
          4739825664,
          4467720192,
          20509097984,
          10173808640,
          9520545792,
          34902900736,
          84847099904,
          89142853632,
          89050316800,
          86311960576,
          89417580544,
          25595740160,
          20596129792,
          78622228480,
          89802932224,
          49420173312,
          20338966528,
          28724690944,
          24141365248,
          5143003136,
          26685997056,
          6533677056,
          13185056768,
          12696420352,
          22571122688,
          21077688320,
          24306778112,
          14603255808,
          13877903360,
          8458076160,
          6780354560,
          6255542272,
          18043109376,
          5766905856,
          22056009728,
          36369072128,
          57172295680,
          49920081920,
          65242923008,
          49326063616,
          5710544896,
          68792352768,
          90605355008,
          31028150272,
          13377732608,
          28820373504,
          36916953088,
          7496269824,
          6796869632,
          6021709824,
          8852865024,
          26948927488,
          12437946368,
          16665018368,
          23847239680,
          8397520896,
          18196725760,
          20888944640,
          9659482112,
          15554052096,
          25964052480,
          19469697024,
          25140920320,
          16734486528,
          21663318016,
          17689214976,
          19189202944,
          32560906240,
          24291049472,
          26484670464,
          14836039680,
          15669133312,
          22703767552,
          13442744320,
          24148705280,
          7720927232,
          10095689728,
          12226658304,
          17971544064,
          5801508864,
          11685593088,
          24162598912,
          70666682368,
          84495302656,
          6437732352,
          5789188096,
          4157603840,
          73338191872,
          43852496896,
          39310327808,
          68060446720,
          40747139072,
          75963301888,
          65972731904,
          90354221056,
          90042793984,
          70231523328,
          30780424192,
          61796253696,
          4609277952,
          4973395968,
          161480704,
          62677843968,
          47622127616,
          59257651200,
          55123378176,
          25097928704,
          94247845888,
          44808536064,
          50710708224,
          91876229120,
          68639522816,
          43890245632,
          89958383616,
          12796821504,
          17904435200,
          34132459520,
          33822343168,
          6054215680,
          23703846912,
          20490223616,
          15381561344,
          18110218240,
          10109321216,
          16947085312,
          21411921920,
          17435459584,
          11830034432,
          24334041088,
          18291621888,
          28396748800,
          13229883392,
          28240248832,
          10731651072,
          6001262592,
          34516762624,
          16148332544,
          10875305984,
          13158842368,
          9546498048,
          22741516288,
          22006726656,
          20351549440,
          15326248960,
          26019627008,
          13263699968,
          32252887040,
          20312489984,
          22829072384,
          36681023488,
          13180600320,
          24551096320,
          22202286080,
          8831631360,
          12511870976,
          20852768768,
          14111997952,
          24433917952,
          33667940352,
          12252610560,
          21507866624,
          21680881664,
          8448114688,
          30221795328,
          24042799104,
          22064136192,
          22661562368,
          26902003712,
          23344447488,
          42282254336,
          19811008512,
          25774784512,
          30369382400,
          8763211776,
          62245306368,
          55208050688
         ],
         "yaxis": "y"
        }
       ],
       "layout": {
        "legend": {
         "tracegroupgap": 0
        },
        "margin": {
         "t": 60
        },
        "template": {
         "data": {
          "bar": [
           {
            "error_x": {
             "color": "#2a3f5f"
            },
            "error_y": {
             "color": "#2a3f5f"
            },
            "marker": {
             "line": {
              "color": "#E5ECF6",
              "width": 0.5
             },
             "pattern": {
              "fillmode": "overlay",
              "size": 10,
              "solidity": 0.2
             }
            },
            "type": "bar"
           }
          ],
          "barpolar": [
           {
            "marker": {
             "line": {
              "color": "#E5ECF6",
              "width": 0.5
             },
             "pattern": {
              "fillmode": "overlay",
              "size": 10,
              "solidity": 0.2
             }
            },
            "type": "barpolar"
           }
          ],
          "carpet": [
           {
            "aaxis": {
             "endlinecolor": "#2a3f5f",
             "gridcolor": "white",
             "linecolor": "white",
             "minorgridcolor": "white",
             "startlinecolor": "#2a3f5f"
            },
            "baxis": {
             "endlinecolor": "#2a3f5f",
             "gridcolor": "white",
             "linecolor": "white",
             "minorgridcolor": "white",
             "startlinecolor": "#2a3f5f"
            },
            "type": "carpet"
           }
          ],
          "choropleth": [
           {
            "colorbar": {
             "outlinewidth": 0,
             "ticks": ""
            },
            "type": "choropleth"
           }
          ],
          "contour": [
           {
            "colorbar": {
             "outlinewidth": 0,
             "ticks": ""
            },
            "colorscale": [
             [
              0,
              "#0d0887"
             ],
             [
              0.1111111111111111,
              "#46039f"
             ],
             [
              0.2222222222222222,
              "#7201a8"
             ],
             [
              0.3333333333333333,
              "#9c179e"
             ],
             [
              0.4444444444444444,
              "#bd3786"
             ],
             [
              0.5555555555555556,
              "#d8576b"
             ],
             [
              0.6666666666666666,
              "#ed7953"
             ],
             [
              0.7777777777777778,
              "#fb9f3a"
             ],
             [
              0.8888888888888888,
              "#fdca26"
             ],
             [
              1,
              "#f0f921"
             ]
            ],
            "type": "contour"
           }
          ],
          "contourcarpet": [
           {
            "colorbar": {
             "outlinewidth": 0,
             "ticks": ""
            },
            "type": "contourcarpet"
           }
          ],
          "heatmap": [
           {
            "colorbar": {
             "outlinewidth": 0,
             "ticks": ""
            },
            "colorscale": [
             [
              0,
              "#0d0887"
             ],
             [
              0.1111111111111111,
              "#46039f"
             ],
             [
              0.2222222222222222,
              "#7201a8"
             ],
             [
              0.3333333333333333,
              "#9c179e"
             ],
             [
              0.4444444444444444,
              "#bd3786"
             ],
             [
              0.5555555555555556,
              "#d8576b"
             ],
             [
              0.6666666666666666,
              "#ed7953"
             ],
             [
              0.7777777777777778,
              "#fb9f3a"
             ],
             [
              0.8888888888888888,
              "#fdca26"
             ],
             [
              1,
              "#f0f921"
             ]
            ],
            "type": "heatmap"
           }
          ],
          "heatmapgl": [
           {
            "colorbar": {
             "outlinewidth": 0,
             "ticks": ""
            },
            "colorscale": [
             [
              0,
              "#0d0887"
             ],
             [
              0.1111111111111111,
              "#46039f"
             ],
             [
              0.2222222222222222,
              "#7201a8"
             ],
             [
              0.3333333333333333,
              "#9c179e"
             ],
             [
              0.4444444444444444,
              "#bd3786"
             ],
             [
              0.5555555555555556,
              "#d8576b"
             ],
             [
              0.6666666666666666,
              "#ed7953"
             ],
             [
              0.7777777777777778,
              "#fb9f3a"
             ],
             [
              0.8888888888888888,
              "#fdca26"
             ],
             [
              1,
              "#f0f921"
             ]
            ],
            "type": "heatmapgl"
           }
          ],
          "histogram": [
           {
            "marker": {
             "pattern": {
              "fillmode": "overlay",
              "size": 10,
              "solidity": 0.2
             }
            },
            "type": "histogram"
           }
          ],
          "histogram2d": [
           {
            "colorbar": {
             "outlinewidth": 0,
             "ticks": ""
            },
            "colorscale": [
             [
              0,
              "#0d0887"
             ],
             [
              0.1111111111111111,
              "#46039f"
             ],
             [
              0.2222222222222222,
              "#7201a8"
             ],
             [
              0.3333333333333333,
              "#9c179e"
             ],
             [
              0.4444444444444444,
              "#bd3786"
             ],
             [
              0.5555555555555556,
              "#d8576b"
             ],
             [
              0.6666666666666666,
              "#ed7953"
             ],
             [
              0.7777777777777778,
              "#fb9f3a"
             ],
             [
              0.8888888888888888,
              "#fdca26"
             ],
             [
              1,
              "#f0f921"
             ]
            ],
            "type": "histogram2d"
           }
          ],
          "histogram2dcontour": [
           {
            "colorbar": {
             "outlinewidth": 0,
             "ticks": ""
            },
            "colorscale": [
             [
              0,
              "#0d0887"
             ],
             [
              0.1111111111111111,
              "#46039f"
             ],
             [
              0.2222222222222222,
              "#7201a8"
             ],
             [
              0.3333333333333333,
              "#9c179e"
             ],
             [
              0.4444444444444444,
              "#bd3786"
             ],
             [
              0.5555555555555556,
              "#d8576b"
             ],
             [
              0.6666666666666666,
              "#ed7953"
             ],
             [
              0.7777777777777778,
              "#fb9f3a"
             ],
             [
              0.8888888888888888,
              "#fdca26"
             ],
             [
              1,
              "#f0f921"
             ]
            ],
            "type": "histogram2dcontour"
           }
          ],
          "mesh3d": [
           {
            "colorbar": {
             "outlinewidth": 0,
             "ticks": ""
            },
            "type": "mesh3d"
           }
          ],
          "parcoords": [
           {
            "line": {
             "colorbar": {
              "outlinewidth": 0,
              "ticks": ""
             }
            },
            "type": "parcoords"
           }
          ],
          "pie": [
           {
            "automargin": true,
            "type": "pie"
           }
          ],
          "scatter": [
           {
            "fillpattern": {
             "fillmode": "overlay",
             "size": 10,
             "solidity": 0.2
            },
            "type": "scatter"
           }
          ],
          "scatter3d": [
           {
            "line": {
             "colorbar": {
              "outlinewidth": 0,
              "ticks": ""
             }
            },
            "marker": {
             "colorbar": {
              "outlinewidth": 0,
              "ticks": ""
             }
            },
            "type": "scatter3d"
           }
          ],
          "scattercarpet": [
           {
            "marker": {
             "colorbar": {
              "outlinewidth": 0,
              "ticks": ""
             }
            },
            "type": "scattercarpet"
           }
          ],
          "scattergeo": [
           {
            "marker": {
             "colorbar": {
              "outlinewidth": 0,
              "ticks": ""
             }
            },
            "type": "scattergeo"
           }
          ],
          "scattergl": [
           {
            "marker": {
             "colorbar": {
              "outlinewidth": 0,
              "ticks": ""
             }
            },
            "type": "scattergl"
           }
          ],
          "scattermapbox": [
           {
            "marker": {
             "colorbar": {
              "outlinewidth": 0,
              "ticks": ""
             }
            },
            "type": "scattermapbox"
           }
          ],
          "scatterpolar": [
           {
            "marker": {
             "colorbar": {
              "outlinewidth": 0,
              "ticks": ""
             }
            },
            "type": "scatterpolar"
           }
          ],
          "scatterpolargl": [
           {
            "marker": {
             "colorbar": {
              "outlinewidth": 0,
              "ticks": ""
             }
            },
            "type": "scatterpolargl"
           }
          ],
          "scatterternary": [
           {
            "marker": {
             "colorbar": {
              "outlinewidth": 0,
              "ticks": ""
             }
            },
            "type": "scatterternary"
           }
          ],
          "surface": [
           {
            "colorbar": {
             "outlinewidth": 0,
             "ticks": ""
            },
            "colorscale": [
             [
              0,
              "#0d0887"
             ],
             [
              0.1111111111111111,
              "#46039f"
             ],
             [
              0.2222222222222222,
              "#7201a8"
             ],
             [
              0.3333333333333333,
              "#9c179e"
             ],
             [
              0.4444444444444444,
              "#bd3786"
             ],
             [
              0.5555555555555556,
              "#d8576b"
             ],
             [
              0.6666666666666666,
              "#ed7953"
             ],
             [
              0.7777777777777778,
              "#fb9f3a"
             ],
             [
              0.8888888888888888,
              "#fdca26"
             ],
             [
              1,
              "#f0f921"
             ]
            ],
            "type": "surface"
           }
          ],
          "table": [
           {
            "cells": {
             "fill": {
              "color": "#EBF0F8"
             },
             "line": {
              "color": "white"
             }
            },
            "header": {
             "fill": {
              "color": "#C8D4E3"
             },
             "line": {
              "color": "white"
             }
            },
            "type": "table"
           }
          ]
         },
         "layout": {
          "annotationdefaults": {
           "arrowcolor": "#2a3f5f",
           "arrowhead": 0,
           "arrowwidth": 1
          },
          "autotypenumbers": "strict",
          "coloraxis": {
           "colorbar": {
            "outlinewidth": 0,
            "ticks": ""
           }
          },
          "colorscale": {
           "diverging": [
            [
             0,
             "#8e0152"
            ],
            [
             0.1,
             "#c51b7d"
            ],
            [
             0.2,
             "#de77ae"
            ],
            [
             0.3,
             "#f1b6da"
            ],
            [
             0.4,
             "#fde0ef"
            ],
            [
             0.5,
             "#f7f7f7"
            ],
            [
             0.6,
             "#e6f5d0"
            ],
            [
             0.7,
             "#b8e186"
            ],
            [
             0.8,
             "#7fbc41"
            ],
            [
             0.9,
             "#4d9221"
            ],
            [
             1,
             "#276419"
            ]
           ],
           "sequential": [
            [
             0,
             "#0d0887"
            ],
            [
             0.1111111111111111,
             "#46039f"
            ],
            [
             0.2222222222222222,
             "#7201a8"
            ],
            [
             0.3333333333333333,
             "#9c179e"
            ],
            [
             0.4444444444444444,
             "#bd3786"
            ],
            [
             0.5555555555555556,
             "#d8576b"
            ],
            [
             0.6666666666666666,
             "#ed7953"
            ],
            [
             0.7777777777777778,
             "#fb9f3a"
            ],
            [
             0.8888888888888888,
             "#fdca26"
            ],
            [
             1,
             "#f0f921"
            ]
           ],
           "sequentialminus": [
            [
             0,
             "#0d0887"
            ],
            [
             0.1111111111111111,
             "#46039f"
            ],
            [
             0.2222222222222222,
             "#7201a8"
            ],
            [
             0.3333333333333333,
             "#9c179e"
            ],
            [
             0.4444444444444444,
             "#bd3786"
            ],
            [
             0.5555555555555556,
             "#d8576b"
            ],
            [
             0.6666666666666666,
             "#ed7953"
            ],
            [
             0.7777777777777778,
             "#fb9f3a"
            ],
            [
             0.8888888888888888,
             "#fdca26"
            ],
            [
             1,
             "#f0f921"
            ]
           ]
          },
          "colorway": [
           "#636efa",
           "#EF553B",
           "#00cc96",
           "#ab63fa",
           "#FFA15A",
           "#19d3f3",
           "#FF6692",
           "#B6E880",
           "#FF97FF",
           "#FECB52"
          ],
          "font": {
           "color": "#2a3f5f"
          },
          "geo": {
           "bgcolor": "white",
           "lakecolor": "white",
           "landcolor": "#E5ECF6",
           "showlakes": true,
           "showland": true,
           "subunitcolor": "white"
          },
          "hoverlabel": {
           "align": "left"
          },
          "hovermode": "closest",
          "mapbox": {
           "style": "light"
          },
          "paper_bgcolor": "white",
          "plot_bgcolor": "#E5ECF6",
          "polar": {
           "angularaxis": {
            "gridcolor": "white",
            "linecolor": "white",
            "ticks": ""
           },
           "bgcolor": "#E5ECF6",
           "radialaxis": {
            "gridcolor": "white",
            "linecolor": "white",
            "ticks": ""
           }
          },
          "scene": {
           "xaxis": {
            "backgroundcolor": "#E5ECF6",
            "gridcolor": "white",
            "gridwidth": 2,
            "linecolor": "white",
            "showbackground": true,
            "ticks": "",
            "zerolinecolor": "white"
           },
           "yaxis": {
            "backgroundcolor": "#E5ECF6",
            "gridcolor": "white",
            "gridwidth": 2,
            "linecolor": "white",
            "showbackground": true,
            "ticks": "",
            "zerolinecolor": "white"
           },
           "zaxis": {
            "backgroundcolor": "#E5ECF6",
            "gridcolor": "white",
            "gridwidth": 2,
            "linecolor": "white",
            "showbackground": true,
            "ticks": "",
            "zerolinecolor": "white"
           }
          },
          "shapedefaults": {
           "line": {
            "color": "#2a3f5f"
           }
          },
          "ternary": {
           "aaxis": {
            "gridcolor": "white",
            "linecolor": "white",
            "ticks": ""
           },
           "baxis": {
            "gridcolor": "white",
            "linecolor": "white",
            "ticks": ""
           },
           "bgcolor": "#E5ECF6",
           "caxis": {
            "gridcolor": "white",
            "linecolor": "white",
            "ticks": ""
           }
          },
          "title": {
           "x": 0.05
          },
          "xaxis": {
           "automargin": true,
           "gridcolor": "white",
           "linecolor": "white",
           "ticks": "",
           "title": {
            "standoff": 15
           },
           "zerolinecolor": "white",
           "zerolinewidth": 2
          },
          "yaxis": {
           "automargin": true,
           "gridcolor": "white",
           "linecolor": "white",
           "ticks": "",
           "title": {
            "standoff": 15
           },
           "zerolinecolor": "white",
           "zerolinewidth": 2
          }
         }
        },
        "xaxis": {
         "anchor": "y",
         "domain": [
          0,
          1
         ],
         "title": {
          "text": "timestamp"
         }
        },
        "yaxis": {
         "anchor": "x",
         "domain": [
          0,
          1
         ],
         "title": {
          "text": "power"
         }
        }
       }
      }
     },
     "metadata": {},
     "output_type": "display_data"
    }
   ],
   "source": [
    "px.line(data, x='timestamp', y='power')"
   ]
  },
  {
   "cell_type": "code",
   "execution_count": null,
   "metadata": {},
   "outputs": [],
   "source": []
  }
 ],
 "metadata": {
  "kernelspec": {
   "display_name": "venv",
   "language": "python",
   "name": "python3"
  },
  "language_info": {
   "codemirror_mode": {
    "name": "ipython",
    "version": 3
   },
   "file_extension": ".py",
   "mimetype": "text/x-python",
   "name": "python",
   "nbconvert_exporter": "python",
   "pygments_lexer": "ipython3",
   "version": "3.8.10"
  }
 },
 "nbformat": 4,
 "nbformat_minor": 2
}
