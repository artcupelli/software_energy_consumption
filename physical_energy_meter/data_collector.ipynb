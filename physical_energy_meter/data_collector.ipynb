{
 "cells": [
  {
   "cell_type": "markdown",
   "metadata": {},
   "source": [
    "## Physical Energy Meter Data Collection"
   ]
  },
  {
   "cell_type": "code",
   "execution_count": null,
   "metadata": {},
   "outputs": [],
   "source": [
    "import plotly.express as px\n",
    "import pandas as pd\n",
    "import tinytuya\n",
    "import datetime\n",
    "import yaml"
   ]
  },
  {
   "cell_type": "markdown",
   "metadata": {},
   "source": [
    "### 01. Device info\n",
    "In order to connect with the device, we need to specify a few information like the Device ID, IP and KEY (provided by the Tuya Developer plataform)."
   ]
  },
  {
   "cell_type": "code",
   "execution_count": null,
   "metadata": {},
   "outputs": [],
   "source": [
    "# Reading the YAML file with the device info\n",
    "with open('../secrets.yaml', 'r') as file:\n",
    "    secrets_info = yaml.safe_load(file)"
   ]
  },
  {
   "cell_type": "code",
   "execution_count": null,
   "metadata": {},
   "outputs": [],
   "source": [
    "DEVICE_KEY = secrets_info[\"DEVICE_KEY\"]\n",
    "DEVICE_ID = secrets_info[\"DEVICE_ID\"]\n",
    "DEVICE_IP = secrets_info[\"DEVICE_IP\"]\n",
    "LOCAL_KEY = secrets_info[\"LOCAL_KEY\"]\n",
    "VERSION = secrets_info[\"VERSION\"]"
   ]
  },
  {
   "cell_type": "markdown",
   "metadata": {},
   "source": [
    "### 02. Instanciating the device connection\n",
    "\n",
    "Now we can instanciate a connection to the device."
   ]
  },
  {
   "cell_type": "code",
   "execution_count": null,
   "metadata": {},
   "outputs": [],
   "source": [
    "# Following the lib docs, instanciating an OutletDevice\n",
    "device = tinytuya.OutletDevice(\n",
    "    dev_id=DEVICE_ID,\n",
    "    address=DEVICE_IP,      \n",
    "    local_key=LOCAL_KEY, \n",
    "    version=VERSION\n",
    ")\n",
    "\n",
    "device.set_socketPersistent(True)"
   ]
  },
  {
   "cell_type": "markdown",
   "metadata": {},
   "source": [
    "### 03. Collecting the device data\n",
    "\n",
    "To collect the energy data, we just have to create loop making multiple requests and saving the results in a dataframe. "
   ]
  },
  {
   "cell_type": "markdown",
   "metadata": {},
   "source": [
    "#### 03.1. Creating the output dataframe"
   ]
  },
  {
   "cell_type": "code",
   "execution_count": 57,
   "metadata": {},
   "outputs": [],
   "source": [
    "# Request responses dataframe\n",
    "log = pd.DataFrame(columns=['timestamp', 'current', 'power', 'voltage', 'temperature', 'is_on'])"
   ]
  },
  {
   "cell_type": "markdown",
   "metadata": {},
   "source": [
    "#### 03.2. Formating the response output"
   ]
  },
  {
   "cell_type": "code",
   "execution_count": 58,
   "metadata": {},
   "outputs": [],
   "source": [
    "def format_device_response(raw_response: any) -> dict:\n",
    "    \"\"\"\n",
    "    Format the JSON device response to a friendly format for the log dataframe.\n",
    "\n",
    "    Parameters\n",
    "    ----------\n",
    "    response: dict\n",
    "        The raw response fromd device.\n",
    "\n",
    "    Returns\n",
    "    -------\n",
    "    dict:\n",
    "        Formmatted response.\n",
    "    \"\"\"\n",
    "    data = dict(raw_response)\n",
    "    timestamp = datetime.datetime.now()\n",
    "\n",
    "    formatted_data = {\n",
    "            'temperature': data['dps']['101'] if '101' in data['dps'] else -1, \n",
    "            'current': data['dps']['18'] if '18' in data['dps'] else -1, \n",
    "            'voltage': data['dps']['20'] if '20' in data['dps'] else -1, \n",
    "            'power': data['dps']['19'] if '19' in data['dps'] else -1 ,\n",
    "            'is_on': data['dps']['1'] if '1' in data['dps'] else -1, \n",
    "            'device_id': data['devId'],\n",
    "            'timestamp': timestamp, \n",
    "        }\n",
    "    \n",
    "    return formatted_data"
   ]
  },
  {
   "cell_type": "markdown",
   "metadata": {},
   "source": [
    "#### 03.3. Requests loop"
   ]
  },
  {
   "cell_type": "code",
   "execution_count": 59,
   "metadata": {},
   "outputs": [
    {
     "name": "stdout",
     "output_type": "stream",
     "text": [
      "Received data -> {'devId': '16315000c45bbe7da87e', 'dps': {'1': True, '9': 0, '18': 379, '19': 489, '20': 1196, '101': 3134}}\n",
      "Received data -> {'devId': '16315000c45bbe7da87e', 'dps': {'18': 271}, 't': 1718586733}\n",
      "Received data -> {'devId': '16315000c45bbe7da87e', 'dps': {'19': 286}, 't': 1718586733}\n",
      "Received data -> {'devId': '16315000c45bbe7da87e', 'dps': {'1': True, '9': 0, '18': 271, '19': 286, '20': 1194, '101': 3134}}\n",
      "Received data -> {'devId': '16315000c45bbe7da87e', 'dps': {'20': 1194}, 't': 1718586733}\n",
      "Received data -> {'devId': '16315000c45bbe7da87e', 'dps': {'1': True, '9': 0, '18': 271, '19': 286, '20': 1194, '101': 3134}}\n",
      "Received data -> {'devId': '16315000c45bbe7da87e', 'dps': {'1': True, '9': 0, '18': 271, '19': 286, '20': 1194, '101': 3134}}\n",
      "Received data -> {'devId': '16315000c45bbe7da87e', 'dps': {'1': True, '9': 0, '18': 271, '19': 286, '20': 1194, '101': 3134}}\n",
      "Received data -> {'devId': '16315000c45bbe7da87e', 'dps': {'18': 514}, 't': 1718586739}\n",
      "Received data -> {'devId': '16315000c45bbe7da87e', 'dps': {'1': True, '9': 0, '18': 514, '19': 516, '20': 1192, '101': 3134}}\n",
      "Received data -> {'devId': '16315000c45bbe7da87e', 'dps': {'19': 516}, 't': 1718586739}\n",
      "Received data -> {'devId': '16315000c45bbe7da87e', 'dps': {'20': 1192}, 't': 1718586739}\n",
      "Received data -> {'devId': '16315000c45bbe7da87e', 'dps': {'1': True, '9': 0, '18': 514, '19': 516, '20': 1192, '101': 3134}}\n",
      "Received data -> {'devId': '16315000c45bbe7da87e', 'dps': {'1': True, '9': 0, '18': 514, '19': 516, '20': 1192, '101': 3134}}\n",
      "Received data -> {'devId': '16315000c45bbe7da87e', 'dps': {'1': True, '9': 0, '18': 514, '19': 516, '20': 1192, '101': 3134}}\n",
      "Received data -> {'devId': '16315000c45bbe7da87e', 'dps': {'18': 848}, 't': 1718586744}\n",
      "Received data -> {'devId': '16315000c45bbe7da87e', 'dps': {'1': True, '9': 0, '18': 848, '19': 956, '20': 1193, '101': 3134}}\n",
      "Received data -> {'devId': '16315000c45bbe7da87e', 'dps': {'19': 956}, 't': 1718586744}\n",
      "Received data -> {'devId': '16315000c45bbe7da87e', 'dps': {'20': 1193}, 't': 1718586744}\n",
      "Received data -> {'devId': '16315000c45bbe7da87e', 'dps': {'1': True, '9': 0, '18': 848, '19': 956, '20': 1193, '101': 3134}}\n",
      "Received data -> {'devId': '16315000c45bbe7da87e', 'dps': {'1': True, '9': 0, '18': 848, '19': 956, '20': 1193, '101': 3134}}\n",
      "Received data -> {'devId': '16315000c45bbe7da87e', 'dps': {'18': 369}, 't': 1718586744}\n",
      "Received data -> {'devId': '16315000c45bbe7da87e', 'dps': {'19': 383}, 't': 1718586744}\n",
      "Received data -> {'devId': '16315000c45bbe7da87e', 'dps': {'1': True, '9': 0, '18': 369, '19': 383, '20': 1197, '101': 3134}}\n",
      "Received data -> {'devId': '16315000c45bbe7da87e', 'dps': {'20': 1197}, 't': 1718586744}\n",
      "Received data -> {'devId': '16315000c45bbe7da87e', 'dps': {'1': True, '9': 0, '18': 369, '19': 383, '20': 1197, '101': 3134}}\n",
      "Received data -> {'devId': '16315000c45bbe7da87e', 'dps': {'1': True, '9': 0, '18': 369, '19': 383, '20': 1197, '101': 3134}}\n",
      "Received data -> {'devId': '16315000c45bbe7da87e', 'dps': {'1': True, '9': 0, '18': 369, '19': 383, '20': 1197, '101': 3134}}\n",
      "Received data -> {'devId': '16315000c45bbe7da87e', 'dps': {'18': 394}, 't': 1718586750}\n",
      "Received data -> {'devId': '16315000c45bbe7da87e', 'dps': {'19': 427}, 't': 1718586750}\n",
      "Received data -> {'devId': '16315000c45bbe7da87e', 'dps': {'20': 1195}, 't': 1718586750}\n",
      "Received data -> {'devId': '16315000c45bbe7da87e', 'dps': {'1': True, '9': 0, '18': 394, '19': 427, '20': 1195, '101': 3134}}\n",
      "Received data -> {'devId': '16315000c45bbe7da87e', 'dps': {'1': True, '9': 0, '18': 394, '19': 427, '20': 1195, '101': 3134}}\n",
      "Received data -> {'devId': '16315000c45bbe7da87e', 'dps': {'1': True, '9': 0, '18': 394, '19': 427, '20': 1195, '101': 3134}}\n",
      "Received data -> {'devId': '16315000c45bbe7da87e', 'dps': {'18': 426}, 't': 1718586750}\n",
      "Received data -> {'devId': '16315000c45bbe7da87e', 'dps': {'19': 460}, 't': 1718586750}\n",
      "Received data -> {'devId': '16315000c45bbe7da87e', 'dps': {'20': 1193}, 't': 1718586750}\n",
      "Received data -> {'devId': '16315000c45bbe7da87e', 'dps': {'1': True, '9': 0, '18': 426, '19': 460, '20': 1193, '101': 3134}}\n",
      "Received data -> {'devId': '16315000c45bbe7da87e', 'dps': {'1': True, '9': 0, '18': 426, '19': 460, '20': 1193, '101': 3134}}\n",
      "Received data -> {'devId': '16315000c45bbe7da87e', 'dps': {'1': True, '9': 0, '18': 426, '19': 460, '20': 1193, '101': 3134}}\n",
      "Received data -> {'devId': '16315000c45bbe7da87e', 'dps': {'18': 428}, 't': 1718586752}\n",
      "Received data -> {'devId': '16315000c45bbe7da87e', 'dps': {'1': True, '9': 0, '18': 428, '19': 460, '20': 1193, '101': 3134}}\n",
      "Received data -> {'devId': '16315000c45bbe7da87e', 'dps': {'18': 385}, 't': 1718586752}\n",
      "Received data -> {'devId': '16315000c45bbe7da87e', 'dps': {'19': 413}, 't': 1718586752}\n",
      "Received data -> {'devId': '16315000c45bbe7da87e', 'dps': {'1': True, '9': 0, '18': 385, '19': 413, '20': 1193, '101': 3134}}\n",
      "Received data -> {'devId': '16315000c45bbe7da87e', 'dps': {'1': True, '9': 0, '18': 385, '19': 413, '20': 1193, '101': 3134}}\n",
      "Received data -> {'devId': '16315000c45bbe7da87e', 'dps': {'20': 1194}, 't': 1718586754}\n",
      "Received data -> {'devId': '16315000c45bbe7da87e', 'dps': {'1': True, '9': 0, '18': 385, '19': 413, '20': 1194, '101': 3134}}\n",
      "Received data -> {'devId': '16315000c45bbe7da87e', 'dps': {'18': 392}, 't': 1718586754}\n",
      "Received data -> {'devId': '16315000c45bbe7da87e', 'dps': {'19': 421}, 't': 1718586754}\n",
      "Received data -> {'devId': '16315000c45bbe7da87e', 'dps': {'1': True, '9': 0, '18': 392, '19': 421, '20': 1194, '101': 3134}}\n",
      "Received data -> {'devId': '16315000c45bbe7da87e', 'dps': {'1': True, '9': 0, '18': 392, '19': 421, '20': 1194, '101': 3134}}\n",
      "Received data -> {'devId': '16315000c45bbe7da87e', 'dps': {'1': True, '9': 0, '18': 392, '19': 421, '20': 1194, '101': 3134}}\n",
      "Received data -> {'devId': '16315000c45bbe7da87e', 'dps': {'18': 396}, 't': 1718586759}\n",
      "Received data -> {'devId': '16315000c45bbe7da87e', 'dps': {'19': 424}, 't': 1718586759}\n",
      "Received data -> {'devId': '16315000c45bbe7da87e', 'dps': {'1': True, '9': 0, '18': 396, '19': 424, '20': 1194, '101': 3134}}\n",
      "Received data -> {'devId': '16315000c45bbe7da87e', 'dps': {'1': True, '9': 0, '18': 396, '19': 424, '20': 1194, '101': 3134}}\n",
      "Received data -> {'devId': '16315000c45bbe7da87e', 'dps': {'1': True, '9': 0, '18': 396, '19': 424, '20': 1194, '101': 3134}}\n",
      "Received data -> {'devId': '16315000c45bbe7da87e', 'dps': {'18': 401}, 't': 1718586765}\n",
      "Received data -> {'devId': '16315000c45bbe7da87e', 'dps': {'19': 431}, 't': 1718586765}\n",
      "Received data -> {'devId': '16315000c45bbe7da87e', 'dps': {'20': 1195}, 't': 1718586765}\n",
      "Received data -> {'devId': '16315000c45bbe7da87e', 'dps': {'1': True, '9': 0, '18': 401, '19': 431, '20': 1195, '101': 3134}}\n",
      "Received data -> {'devId': '16315000c45bbe7da87e', 'dps': {'1': True, '9': 0, '18': 401, '19': 431, '20': 1195, '101': 3134}}\n",
      "Received data -> {'devId': '16315000c45bbe7da87e', 'dps': {'1': True, '9': 0, '18': 401, '19': 431, '20': 1195, '101': 3134}}\n",
      "Received data -> {'devId': '16315000c45bbe7da87e', 'dps': {'18': 451}, 't': 1718586765}\n",
      "Received data -> {'devId': '16315000c45bbe7da87e', 'dps': {'19': 475}, 't': 1718586765}\n",
      "Received data -> {'devId': '16315000c45bbe7da87e', 'dps': {'1': True, '9': 0, '18': 451, '19': 475, '20': 1195, '101': 3134}}\n",
      "Received data -> {'devId': '16315000c45bbe7da87e', 'dps': {'1': True, '9': 0, '18': 451, '19': 475, '20': 1195, '101': 3134}}\n",
      "Received data -> {'devId': '16315000c45bbe7da87e', 'dps': {'1': True, '9': 0, '18': 451, '19': 475, '20': 1195, '101': 3134}}\n",
      "Received data -> {'devId': '16315000c45bbe7da87e', 'dps': {'18': 309}, 't': 1718586770}\n",
      "Received data -> {'devId': '16315000c45bbe7da87e', 'dps': {'19': 332}, 't': 1718586770}\n",
      "Received data -> {'devId': '16315000c45bbe7da87e', 'dps': {'1': True, '9': 0, '18': 309, '19': 332, '20': 1196, '101': 3134}}\n",
      "Received data -> {'devId': '16315000c45bbe7da87e', 'dps': {'20': 1196}, 't': 1718586770}\n",
      "Received data -> {'devId': '16315000c45bbe7da87e', 'dps': {'1': True, '9': 0, '18': 309, '19': 332, '20': 1196, '101': 3134}}\n",
      "Received data -> {'devId': '16315000c45bbe7da87e', 'dps': {'1': True, '9': 0, '18': 309, '19': 332, '20': 1196, '101': 3134}}\n",
      "Received data -> {'devId': '16315000c45bbe7da87e', 'dps': {'1': True, '9': 0, '18': 309, '19': 332, '20': 1196, '101': 3134}}\n",
      "Received data -> {'devId': '16315000c45bbe7da87e', 'dps': {'18': 373}, 't': 1718586776}\n",
      "Received data -> {'devId': '16315000c45bbe7da87e', 'dps': {'19': 400}, 't': 1718586776}\n",
      "Received data -> {'devId': '16315000c45bbe7da87e', 'dps': {'20': 1197}, 't': 1718586776}\n",
      "Received data -> {'devId': '16315000c45bbe7da87e', 'dps': {'1': True, '9': 0, '18': 373, '19': 400, '20': 1197, '101': 3134}}\n",
      "Received data -> {'devId': '16315000c45bbe7da87e', 'dps': {'1': True, '9': 0, '18': 373, '19': 400, '20': 1197, '101': 3134}}\n",
      "Received data -> {'devId': '16315000c45bbe7da87e', 'dps': {'1': True, '9': 0, '18': 373, '19': 400, '20': 1197, '101': 3134}}\n",
      "Received data -> {'devId': '16315000c45bbe7da87e', 'dps': {'18': 389}, 't': 1718586776}\n",
      "Received data -> {'devId': '16315000c45bbe7da87e', 'dps': {'19': 418}, 't': 1718586776}\n",
      "Received data -> {'devId': '16315000c45bbe7da87e', 'dps': {'1': True, '9': 0, '18': 389, '19': 418, '20': 1197, '101': 3134}}\n",
      "Received data -> {'devId': '16315000c45bbe7da87e', 'dps': {'1': True, '9': 0, '18': 389, '19': 418, '20': 1197, '101': 3134}}\n",
      "Received data -> {'devId': '16315000c45bbe7da87e', 'dps': {'1': True, '9': 0, '18': 389, '19': 418, '20': 1197, '101': 3134}}\n",
      "Received data -> {'devId': '16315000c45bbe7da87e', 'dps': {'18': 376}, 't': 1718586781}\n",
      "Received data -> {'devId': '16315000c45bbe7da87e', 'dps': {'1': True, '9': 0, '18': 376, '19': 404, '20': 1197, '101': 3134}}\n",
      "Received data -> {'devId': '16315000c45bbe7da87e', 'dps': {'19': 404}, 't': 1718586781}\n",
      "Received data -> {'devId': '16315000c45bbe7da87e', 'dps': {'20': 1195}, 't': 1718586781}\n",
      "Received data -> {'devId': '16315000c45bbe7da87e', 'dps': {'1': True, '9': 0, '18': 376, '19': 404, '20': 1195, '101': 3134}}\n",
      "Received data -> {'devId': '16315000c45bbe7da87e', 'dps': {'1': True, '9': 0, '18': 376, '19': 404, '20': 1195, '101': 3134}}\n",
      "Received data -> {'devId': '16315000c45bbe7da87e', 'dps': {'18': 405}, 't': 1718586782}\n",
      "Received data -> {'devId': '16315000c45bbe7da87e', 'dps': {'1': True, '9': 0, '18': 405, '19': 404, '20': 1195, '101': 3134}}\n",
      "Received data -> {'devId': '16315000c45bbe7da87e', 'dps': {'19': 435}, 't': 1718586782}\n",
      "Received data -> {'devId': '16315000c45bbe7da87e', 'dps': {'20': 1194}, 't': 1718586782}\n",
      "Received data -> {'devId': '16315000c45bbe7da87e', 'dps': {'1': True, '9': 0, '18': 405, '19': 435, '20': 1194, '101': 3134}}\n",
      "Received data -> {'devId': '16315000c45bbe7da87e', 'dps': {'1': True, '9': 0, '18': 405, '19': 435, '20': 1194, '101': 3134}}\n",
      "Received data -> {'devId': '16315000c45bbe7da87e', 'dps': {'19': 438}, 't': 1718586783}\n",
      "Received data -> {'devId': '16315000c45bbe7da87e', 'dps': {'1': True, '9': 0, '18': 405, '19': 438, '20': 1194, '101': 3134}}\n",
      "Received data -> {'devId': '16315000c45bbe7da87e', 'dps': {'18': 408}, 't': 1718586783}\n",
      "Received data -> {'devId': '16315000c45bbe7da87e', 'dps': {'20': 1196}, 't': 1718586783}\n",
      "Received data -> {'devId': '16315000c45bbe7da87e', 'dps': {'1': True, '9': 0, '18': 408, '19': 438, '20': 1196, '101': 3134}}\n",
      "Received data -> {'devId': '16315000c45bbe7da87e', 'dps': {'1': True, '9': 0, '18': 408, '19': 438, '20': 1196, '101': 3134}}\n",
      "Received data -> {'devId': '16315000c45bbe7da87e', 'dps': {'1': True, '9': 0, '18': 408, '19': 438, '20': 1196, '101': 3134}}\n",
      "Received data -> {'devId': '16315000c45bbe7da87e', 'dps': {'18': 400}, 't': 1718586788}\n",
      "Received data -> {'devId': '16315000c45bbe7da87e', 'dps': {'19': 430}, 't': 1718586788}\n",
      "Received data -> {'devId': '16315000c45bbe7da87e', 'dps': {'1': True, '9': 0, '18': 400, '19': 430, '20': 1196, '101': 3134}}\n",
      "Received data -> {'devId': '16315000c45bbe7da87e', 'dps': {'1': True, '9': 0, '18': 400, '19': 430, '20': 1196, '101': 3134}}\n",
      "Received data -> {'devId': '16315000c45bbe7da87e', 'dps': {'1': True, '9': 0, '18': 400, '19': 430, '20': 1196, '101': 3134}}\n",
      "Received data -> {'devId': '16315000c45bbe7da87e', 'dps': {'18': 378}, 't': 1718586794}\n",
      "Received data -> {'devId': '16315000c45bbe7da87e', 'dps': {'19': 405}, 't': 1718586794}\n",
      "Received data -> {'devId': '16315000c45bbe7da87e', 'dps': {'20': 1198}, 't': 1718586794}\n",
      "Received data -> {'devId': '16315000c45bbe7da87e', 'dps': {'1': True, '9': 0, '18': 378, '19': 405, '20': 1198, '101': 3134}}\n",
      "Received data -> {'devId': '16315000c45bbe7da87e', 'dps': {'1': True, '9': 0, '18': 378, '19': 405, '20': 1198, '101': 3134}}\n",
      "Received data -> {'devId': '16315000c45bbe7da87e', 'dps': {'1': True, '9': 0, '18': 378, '19': 405, '20': 1198, '101': 3134}}\n",
      "Received data -> {'devId': '16315000c45bbe7da87e', 'dps': {'1': True, '9': 0, '18': 378, '19': 405, '20': 1198, '101': 3134}}\n",
      "Received data -> {'devId': '16315000c45bbe7da87e', 'dps': {'18': 319}, 't': 1718586799}\n",
      "Received data -> {'devId': '16315000c45bbe7da87e', 'dps': {'19': 343}, 't': 1718586799}\n",
      "Received data -> {'devId': '16315000c45bbe7da87e', 'dps': {'20': 1197}, 't': 1718586799}\n",
      "Received data -> {'devId': '16315000c45bbe7da87e', 'dps': {'1': True, '9': 0, '18': 319, '19': 343, '20': 1197, '101': 3134}}\n",
      "Received data -> {'devId': '16315000c45bbe7da87e', 'dps': {'1': True, '9': 0, '18': 319, '19': 343, '20': 1197, '101': 3134}}\n",
      "Received data -> {'devId': '16315000c45bbe7da87e', 'dps': {'1': True, '9': 0, '18': 319, '19': 343, '20': 1197, '101': 3134}}\n",
      "Received data -> {'devId': '16315000c45bbe7da87e', 'dps': {'1': True, '9': 0, '18': 319, '19': 343, '20': 1197, '101': 3134}}\n",
      "Received data -> {'devId': '16315000c45bbe7da87e', 'dps': {'18': 317}, 't': 1718586805}\n",
      "Received data -> {'devId': '16315000c45bbe7da87e', 'dps': {'19': 340}, 't': 1718586805}\n",
      "Received data -> {'devId': '16315000c45bbe7da87e', 'dps': {'20': 1196}, 't': 1718586805}\n",
      "Received data -> {'devId': '16315000c45bbe7da87e', 'dps': {'1': True, '9': 0, '18': 317, '19': 340, '20': 1196, '101': 3134}}\n",
      "Received data -> {'devId': '16315000c45bbe7da87e', 'dps': {'1': True, '9': 0, '18': 317, '19': 340, '20': 1196, '101': 3134}}\n",
      "Received data -> {'devId': '16315000c45bbe7da87e', 'dps': {'1': True, '9': 0, '18': 317, '19': 340, '20': 1196, '101': 3134}}\n",
      "Received data -> {'devId': '16315000c45bbe7da87e', 'dps': {'18': 321}, 't': 1718586805}\n",
      "Received data -> {'devId': '16315000c45bbe7da87e', 'dps': {'19': 344}, 't': 1718586805}\n",
      "Received data -> {'devId': '16315000c45bbe7da87e', 'dps': {'1': True, '9': 0, '18': 321, '19': 344, '20': 1196, '101': 3134}}\n",
      "Received data -> {'devId': '16315000c45bbe7da87e', 'dps': {'1': True, '9': 0, '18': 321, '19': 344, '20': 1196, '101': 3134}}\n",
      "Received data -> {'devId': '16315000c45bbe7da87e', 'dps': {'1': True, '9': 0, '18': 321, '19': 344, '20': 1196, '101': 3134}}\n",
      "Received data -> {'devId': '16315000c45bbe7da87e', 'dps': {'18': 315}, 't': 1718586810}\n",
      "Received data -> {'devId': '16315000c45bbe7da87e', 'dps': {'19': 342}, 't': 1718586810}\n",
      "Received data -> {'devId': '16315000c45bbe7da87e', 'dps': {'20': 1197}, 't': 1718586810}\n",
      "Received data -> {'devId': '16315000c45bbe7da87e', 'dps': {'1': True, '9': 0, '18': 315, '19': 342, '20': 1197, '101': 3134}}\n",
      "Received data -> {'devId': '16315000c45bbe7da87e', 'dps': {'1': True, '9': 0, '18': 315, '19': 342, '20': 1197, '101': 3134}}\n",
      "Received data -> {'devId': '16315000c45bbe7da87e', 'dps': {'1': True, '9': 0, '18': 315, '19': 342, '20': 1197, '101': 3134}}\n",
      "Received data -> {'devId': '16315000c45bbe7da87e', 'dps': {'19': 355}, 't': 1718586813}\n",
      "Received data -> {'devId': '16315000c45bbe7da87e', 'dps': {'1': True, '9': 0, '18': 315, '19': 355, '20': 1197, '101': 3134}}\n",
      "Received data -> {'devId': '16315000c45bbe7da87e', 'dps': {'18': 328}, 't': 1718586813}\n",
      "Received data -> {'devId': '16315000c45bbe7da87e', 'dps': {'20': 1196}, 't': 1718586813}\n",
      "Received data -> {'devId': '16315000c45bbe7da87e', 'dps': {'1': True, '9': 0, '18': 328, '19': 355, '20': 1196, '101': 3134}}\n",
      "Received data -> {'devId': '16315000c45bbe7da87e', 'dps': {'1': True, '9': 0, '18': 328, '19': 355, '20': 1196, '101': 3134}}\n",
      "Received data -> {'devId': '16315000c45bbe7da87e', 'dps': {'1': True, '9': 0, '18': 328, '19': 355, '20': 1196, '101': 3134}}\n",
      "Received data -> {'devId': '16315000c45bbe7da87e', 'dps': {'18': 312}, 't': 1718586819}\n",
      "Received data -> {'devId': '16315000c45bbe7da87e', 'dps': {'19': 338}, 't': 1718586819}\n",
      "Received data -> {'devId': '16315000c45bbe7da87e', 'dps': {'1': True, '9': 0, '18': 312, '19': 338, '20': 1198, '101': 3134}}\n",
      "Received data -> {'devId': '16315000c45bbe7da87e', 'dps': {'20': 1198}, 't': 1718586819}\n",
      "Received data -> {'devId': '16315000c45bbe7da87e', 'dps': {'1': True, '9': 0, '18': 312, '19': 338, '20': 1198, '101': 3134}}\n",
      "Received data -> {'devId': '16315000c45bbe7da87e', 'dps': {'1': True, '9': 0, '18': 312, '19': 338, '20': 1198, '101': 3134}}\n",
      "Received data -> {'devId': '16315000c45bbe7da87e', 'dps': {'18': 339}, 't': 1718586819}\n",
      "Received data -> {'devId': '16315000c45bbe7da87e', 'dps': {'19': 361}, 't': 1718586819}\n",
      "Received data -> {'devId': '16315000c45bbe7da87e', 'dps': {'1': True, '9': 0, '18': 339, '19': 361, '20': 1198, '101': 3134}}\n",
      "Received data -> {'devId': '16315000c45bbe7da87e', 'dps': {'1': True, '9': 0, '18': 339, '19': 361, '20': 1198, '101': 3134}}\n",
      "Received data -> {'devId': '16315000c45bbe7da87e', 'dps': {'1': True, '9': 0, '18': 339, '19': 361, '20': 1198, '101': 3134}}\n",
      "Received data -> {'devId': '16315000c45bbe7da87e', 'dps': {'18': 318}, 't': 1718586824}\n",
      "Received data -> {'devId': '16315000c45bbe7da87e', 'dps': {'1': True, '9': 0, '18': 318, '19': 361, '20': 1198, '101': 3134}}\n",
      "Received data -> {'devId': '16315000c45bbe7da87e', 'dps': {'19': 342}, 't': 1718586824}\n",
      "Received data -> {'devId': '16315000c45bbe7da87e', 'dps': {'1': True, '9': 0, '18': 318, '19': 342, '20': 1198, '101': 3134}}\n",
      "Received data -> {'devId': '16315000c45bbe7da87e', 'dps': {'1': True, '9': 0, '18': 318, '19': 342, '20': 1198, '101': 3134}}\n",
      "Received data -> {'devId': '16315000c45bbe7da87e', 'dps': {'18': 315}, 't': 1718586830}\n",
      "Received data -> {'devId': '16315000c45bbe7da87e', 'dps': {'19': 340}, 't': 1718586830}\n",
      "Received data -> {'devId': '16315000c45bbe7da87e', 'dps': {'1': True, '9': 0, '18': 315, '19': 340, '20': 1198, '101': 3134}}\n",
      "Received data -> {'devId': '16315000c45bbe7da87e', 'dps': {'1': True, '9': 0, '18': 315, '19': 340, '20': 1198, '101': 3134}}\n",
      "Received data -> {'devId': '16315000c45bbe7da87e', 'dps': {'18': 316}, 't': 1718586830}\n",
      "Received data -> {'devId': '16315000c45bbe7da87e', 'dps': {'19': 339}, 't': 1718586830}\n",
      "Received data -> {'devId': '16315000c45bbe7da87e', 'dps': {'1': True, '9': 0, '18': 316, '19': 339, '20': 1198, '101': 3134}}\n",
      "Received data -> {'devId': '16315000c45bbe7da87e', 'dps': {'1': True, '9': 0, '18': 316, '19': 339, '20': 1198, '101': 3134}}\n",
      "Received data -> {'devId': '16315000c45bbe7da87e', 'dps': {'1': True, '9': 0, '18': 316, '19': 339, '20': 1198, '101': 3134}}\n",
      "Received data -> {'devId': '16315000c45bbe7da87e', 'dps': {'18': 318}, 't': 1718586835}\n",
      "Received data -> {'devId': '16315000c45bbe7da87e', 'dps': {'19': 347}, 't': 1718586835}\n",
      "Received data -> {'devId': '16315000c45bbe7da87e', 'dps': {'1': True, '9': 0, '18': 318, '19': 347, '20': 1197, '101': 3134}}\n",
      "Received data -> {'devId': '16315000c45bbe7da87e', 'dps': {'20': 1197}, 't': 1718586835}\n",
      "Received data -> {'devId': '16315000c45bbe7da87e', 'dps': {'1': True, '9': 0, '18': 318, '19': 347, '20': 1197, '101': 3134}}\n",
      "Received data -> {'devId': '16315000c45bbe7da87e', 'dps': {'1': True, '9': 0, '18': 318, '19': 347, '20': 1197, '101': 3134}}\n",
      "Received data -> {'devId': '16315000c45bbe7da87e', 'dps': {'1': True, '9': 0, '18': 318, '19': 347, '20': 1197, '101': 3134}}\n",
      "Received data -> {'devId': '16315000c45bbe7da87e', 'dps': {'18': 341}, 't': 1718586841}\n",
      "Received data -> {'devId': '16315000c45bbe7da87e', 'dps': {'19': 363}, 't': 1718586841}\n",
      "Received data -> {'devId': '16315000c45bbe7da87e', 'dps': {'1': True, '9': 0, '18': 341, '19': 363, '20': 1197, '101': 3134}}\n",
      "Received data -> {'devId': '16315000c45bbe7da87e', 'dps': {'20': 1202}, 't': 1718586841}\n",
      "Received data -> {'devId': '16315000c45bbe7da87e', 'dps': {'1': True, '9': 0, '18': 341, '19': 363, '20': 1202, '101': 3134}}\n",
      "Received data -> {'devId': '16315000c45bbe7da87e', 'dps': {'1': True, '9': 0, '18': 341, '19': 363, '20': 1202, '101': 3134}}\n",
      "Received data -> {'devId': '16315000c45bbe7da87e', 'dps': {'18': 331}, 't': 1718586841}\n",
      "Received data -> {'devId': '16315000c45bbe7da87e', 'dps': {'19': 355}, 't': 1718586841}\n",
      "Received data -> {'devId': '16315000c45bbe7da87e', 'dps': {'20': 1200}, 't': 1718586841}\n",
      "Received data -> {'devId': '16315000c45bbe7da87e', 'dps': {'1': True, '9': 0, '18': 331, '19': 355, '20': 1200, '101': 3134}}\n",
      "Received data -> {'devId': '16315000c45bbe7da87e', 'dps': {'1': True, '9': 0, '18': 331, '19': 355, '20': 1200, '101': 3134}}\n",
      "Received data -> {'devId': '16315000c45bbe7da87e', 'dps': {'1': True, '9': 0, '18': 331, '19': 355, '20': 1200, '101': 3134}}\n",
      "Received data -> {'devId': '16315000c45bbe7da87e', 'dps': {'18': 323}, 't': 1718586842}\n",
      "Received data -> {'devId': '16315000c45bbe7da87e', 'dps': {'1': True, '9': 0, '18': 323, '19': 355, '20': 1200, '101': 3134}}\n",
      "Received data -> {'devId': '16315000c45bbe7da87e', 'dps': {'19': 350}, 't': 1718586842}\n",
      "Received data -> {'devId': '16315000c45bbe7da87e', 'dps': {'20': 1201}, 't': 1718586842}\n",
      "Received data -> {'devId': '16315000c45bbe7da87e', 'dps': {'1': True, '9': 0, '18': 323, '19': 350, '20': 1201, '101': 3134}}\n",
      "Received data -> {'devId': '16315000c45bbe7da87e', 'dps': {'1': True, '9': 0, '18': 323, '19': 350, '20': 1201, '101': 3134}}\n",
      "Received data -> {'devId': '16315000c45bbe7da87e', 'dps': {'20': 1202}, 't': 1718586844}\n",
      "Received data -> {'devId': '16315000c45bbe7da87e', 'dps': {'1': True, '9': 0, '18': 323, '19': 350, '20': 1202, '101': 3134}}\n",
      "Received data -> {'devId': '16315000c45bbe7da87e', 'dps': {'18': 346}, 't': 1718586844}\n",
      "Received data -> {'devId': '16315000c45bbe7da87e', 'dps': {'1': True, '9': 0, '18': 346, '19': 373, '20': 1202, '101': 3134}}\n",
      "Received data -> {'devId': '16315000c45bbe7da87e', 'dps': {'19': 373}, 't': 1718586844}\n",
      "Received data -> {'devId': '16315000c45bbe7da87e', 'dps': {'1': True, '9': 0, '18': 346, '19': 373, '20': 1202, '101': 3134}}\n",
      "Received data -> {'devId': '16315000c45bbe7da87e', 'dps': {'1': True, '9': 0, '18': 346, '19': 373, '20': 1202, '101': 3134}}\n",
      "Received data -> {'devId': '16315000c45bbe7da87e', 'dps': {'18': 330}, 't': 1718586850}\n",
      "Received data -> {'devId': '16315000c45bbe7da87e', 'dps': {'19': 356}, 't': 1718586850}\n",
      "Received data -> {'devId': '16315000c45bbe7da87e', 'dps': {'20': 1201}, 't': 1718586850}\n",
      "Received data -> {'devId': '16315000c45bbe7da87e', 'dps': {'1': True, '9': 0, '18': 330, '19': 356, '20': 1201, '101': 3134}}\n",
      "Received data -> {'devId': '16315000c45bbe7da87e', 'dps': {'1': True, '9': 0, '18': 330, '19': 356, '20': 1201, '101': 3134}}\n",
      "Received data -> {'devId': '16315000c45bbe7da87e', 'dps': {'1': True, '9': 0, '18': 330, '19': 356, '20': 1201, '101': 3134}}\n",
      "Received data -> {'devId': '16315000c45bbe7da87e', 'dps': {'18': 332}, 't': 1718586850}\n",
      "Received data -> {'devId': '16315000c45bbe7da87e', 'dps': {'19': 359}, 't': 1718586850}\n",
      "Received data -> {'devId': '16315000c45bbe7da87e', 'dps': {'1': True, '9': 0, '18': 332, '19': 359, '20': 1201, '101': 3134}}\n",
      "Received data -> {'devId': '16315000c45bbe7da87e', 'dps': {'1': True, '9': 0, '18': 332, '19': 359, '20': 1201, '101': 3134}}\n",
      "Received data -> {'devId': '16315000c45bbe7da87e', 'dps': {'1': True, '9': 0, '18': 332, '19': 359, '20': 1201, '101': 3134}}\n",
      "Received data -> {'devId': '16315000c45bbe7da87e', 'dps': {'18': 322}, 't': 1718586855}\n",
      "Received data -> {'devId': '16315000c45bbe7da87e', 'dps': {'19': 347}, 't': 1718586855}\n",
      "Received data -> {'devId': '16315000c45bbe7da87e', 'dps': {'1': True, '9': 0, '18': 322, '19': 347, '20': 1202, '101': 3134}}\n",
      "Received data -> {'devId': '16315000c45bbe7da87e', 'dps': {'20': 1202}, 't': 1718586855}\n",
      "Received data -> {'devId': '16315000c45bbe7da87e', 'dps': {'1': True, '9': 0, '18': 322, '19': 347, '20': 1202, '101': 3134}}\n",
      "Received data -> {'devId': '16315000c45bbe7da87e', 'dps': {'1': True, '9': 0, '18': 322, '19': 347, '20': 1202, '101': 3134}}\n",
      "Received data -> {'devId': '16315000c45bbe7da87e', 'dps': {'1': True, '9': 0, '18': 322, '19': 347, '20': 1202, '101': 3134}}\n",
      "Received data -> {'devId': '16315000c45bbe7da87e', 'dps': {'18': 328}, 't': 1718586861}\n",
      "Received data -> {'devId': '16315000c45bbe7da87e', 'dps': {'19': 355}, 't': 1718586861}\n",
      "Received data -> {'devId': '16315000c45bbe7da87e', 'dps': {'20': 1204}, 't': 1718586861}\n",
      "Received data -> {'devId': '16315000c45bbe7da87e', 'dps': {'1': True, '9': 0, '18': 328, '19': 355, '20': 1204, '101': 3134}}\n",
      "Received data -> {'devId': '16315000c45bbe7da87e', 'dps': {'1': True, '9': 0, '18': 328, '19': 355, '20': 1204, '101': 3134}}\n",
      "Received data -> {'devId': '16315000c45bbe7da87e', 'dps': {'1': True, '9': 0, '18': 328, '19': 355, '20': 1204, '101': 3134}}\n",
      "Received data -> {'devId': '16315000c45bbe7da87e', 'dps': {'18': 308}, 't': 1718586861}\n",
      "Received data -> {'devId': '16315000c45bbe7da87e', 'dps': {'19': 333}, 't': 1718586861}\n",
      "Received data -> {'devId': '16315000c45bbe7da87e', 'dps': {'1': True, '9': 0, '18': 308, '19': 333, '20': 1204, '101': 3134}}\n",
      "Received data -> {'devId': '16315000c45bbe7da87e', 'dps': {'1': True, '9': 0, '18': 308, '19': 333, '20': 1204, '101': 3134}}\n",
      "Received data -> {'devId': '16315000c45bbe7da87e', 'dps': {'1': True, '9': 0, '18': 308, '19': 333, '20': 1204, '101': 3134}}\n",
      "Received data -> {'devId': '16315000c45bbe7da87e', 'dps': {'18': 324}, 't': 1718586866}\n",
      "Received data -> {'devId': '16315000c45bbe7da87e', 'dps': {'19': 352}, 't': 1718586866}\n",
      "Received data -> {'devId': '16315000c45bbe7da87e', 'dps': {'1': True, '9': 0, '18': 324, '19': 352, '20': 1203, '101': 3134}}\n",
      "Received data -> {'devId': '16315000c45bbe7da87e', 'dps': {'20': 1203}, 't': 1718586867}\n",
      "Received data -> {'devId': '16315000c45bbe7da87e', 'dps': {'1': True, '9': 0, '18': 324, '19': 352, '20': 1203, '101': 3134}}\n",
      "Received data -> {'devId': '16315000c45bbe7da87e', 'dps': {'1': True, '9': 0, '18': 324, '19': 352, '20': 1203, '101': 3134}}\n",
      "Received data -> {'devId': '16315000c45bbe7da87e', 'dps': {'18': 327}, 't': 1718586867}\n",
      "Received data -> {'devId': '16315000c45bbe7da87e', 'dps': {'19': 351}, 't': 1718586867}\n",
      "Received data -> {'devId': '16315000c45bbe7da87e', 'dps': {'1': True, '9': 0, '18': 327, '19': 351, '20': 1203, '101': 3134}}\n",
      "Received data -> {'devId': '16315000c45bbe7da87e', 'dps': {'1': True, '9': 0, '18': 327, '19': 351, '20': 1203, '101': 3134}}\n",
      "Received data -> {'devId': '16315000c45bbe7da87e', 'dps': {'20': 1202}, 't': 1718586867}\n",
      "Received data -> {'devId': '16315000c45bbe7da87e', 'dps': {'1': True, '9': 0, '18': 327, '19': 351, '20': 1202, '101': 3134}}\n",
      "Received data -> {'devId': '16315000c45bbe7da87e', 'dps': {'18': 272}, 't': 1718586872}\n",
      "Received data -> {'devId': '16315000c45bbe7da87e', 'dps': {'1': True, '9': 0, '18': 272, '19': 351, '20': 1202, '101': 3134}}\n",
      "Received data -> {'devId': '16315000c45bbe7da87e', 'dps': {'19': 288}, 't': 1718586872}\n",
      "Received data -> {'devId': '16315000c45bbe7da87e', 'dps': {'1': True, '9': 0, '18': 272, '19': 288, '20': 1202, '101': 3134}}\n"
     ]
    },
    {
     "ename": "KeyboardInterrupt",
     "evalue": "",
     "output_type": "error",
     "traceback": [
      "\u001b[0;31m---------------------------------------------------------------------------\u001b[0m",
      "\u001b[0;31mKeyboardInterrupt\u001b[0m                         Traceback (most recent call last)",
      "Cell \u001b[0;32mIn[59], line 22\u001b[0m\n\u001b[1;32m     19\u001b[0m device\u001b[38;5;241m.\u001b[39msend(payload)\n\u001b[1;32m     21\u001b[0m \u001b[38;5;66;03m# Receive new data. Can be \"None\"\u001b[39;00m\n\u001b[0;32m---> 22\u001b[0m data \u001b[38;5;241m=\u001b[39m \u001b[43mdevice\u001b[49m\u001b[38;5;241;43m.\u001b[39;49m\u001b[43mreceive\u001b[49m\u001b[43m(\u001b[49m\u001b[43m)\u001b[49m\n\u001b[1;32m     24\u001b[0m \u001b[38;5;66;03m# See if any new data is available\u001b[39;00m\n\u001b[1;32m     25\u001b[0m \u001b[38;5;28;01mif\u001b[39;00m data:\n",
      "File \u001b[0;32m~/Documents/PROJECTS/software_energy_consumption/venv/lib/python3.8/site-packages/tinytuya/core.py:1581\u001b[0m, in \u001b[0;36mXenonDevice.receive\u001b[0;34m(self)\u001b[0m\n\u001b[1;32m   1577\u001b[0m \u001b[38;5;28;01mdef\u001b[39;00m \u001b[38;5;21mreceive\u001b[39m(\u001b[38;5;28mself\u001b[39m):\n\u001b[1;32m   1578\u001b[0m \u001b[38;5;250m    \u001b[39m\u001b[38;5;124;03m\"\"\"\u001b[39;00m\n\u001b[1;32m   1579\u001b[0m \u001b[38;5;124;03m    Poll device to read any payload in the buffer.  Timeout results in None returned.\u001b[39;00m\n\u001b[1;32m   1580\u001b[0m \u001b[38;5;124;03m    \"\"\"\u001b[39;00m\n\u001b[0;32m-> 1581\u001b[0m     \u001b[38;5;28;01mreturn\u001b[39;00m \u001b[38;5;28;43mself\u001b[39;49m\u001b[38;5;241;43m.\u001b[39;49m\u001b[43m_send_receive\u001b[49m\u001b[43m(\u001b[49m\u001b[38;5;28;43;01mNone\u001b[39;49;00m\u001b[43m)\u001b[49m\n",
      "File \u001b[0;32m~/Documents/PROJECTS/software_energy_consumption/venv/lib/python3.8/site-packages/tinytuya/core.py:1193\u001b[0m, in \u001b[0;36mXenonDevice._send_receive\u001b[0;34m(self, payload, minresponse, getresponse, decode_response, from_child)\u001b[0m\n\u001b[1;32m   1191\u001b[0m \u001b[38;5;28;01mif\u001b[39;00m getresponse:\n\u001b[1;32m   1192\u001b[0m     do_send \u001b[38;5;241m=\u001b[39m \u001b[38;5;28;01mFalse\u001b[39;00m\n\u001b[0;32m-> 1193\u001b[0m     rmsg \u001b[38;5;241m=\u001b[39m \u001b[38;5;28;43mself\u001b[39;49m\u001b[38;5;241;43m.\u001b[39;49m\u001b[43m_receive\u001b[49m\u001b[43m(\u001b[49m\u001b[43m)\u001b[49m\n\u001b[1;32m   1194\u001b[0m     \u001b[38;5;66;03m# device may send null ack (28 byte) response before a full response\u001b[39;00m\n\u001b[1;32m   1195\u001b[0m     \u001b[38;5;66;03m# consider it an ACK and do not retry the send even if we do not get a full response\u001b[39;00m\n\u001b[1;32m   1196\u001b[0m     \u001b[38;5;28;01mif\u001b[39;00m rmsg:\n",
      "File \u001b[0;32m~/Documents/PROJECTS/software_energy_consumption/venv/lib/python3.8/site-packages/tinytuya/core.py:1081\u001b[0m, in \u001b[0;36mXenonDevice._receive\u001b[0;34m(self)\u001b[0m\n\u001b[1;32m   1078\u001b[0m min_len \u001b[38;5;241m=\u001b[39m min_len_55AA \u001b[38;5;28;01mif\u001b[39;00m min_len_55AA \u001b[38;5;241m<\u001b[39m min_len_6699 \u001b[38;5;28;01melse\u001b[39;00m min_len_6699\n\u001b[1;32m   1079\u001b[0m prefix_len \u001b[38;5;241m=\u001b[39m \u001b[38;5;28mlen\u001b[39m( PREFIX_55AA_BIN )\n\u001b[0;32m-> 1081\u001b[0m data \u001b[38;5;241m=\u001b[39m \u001b[38;5;28;43mself\u001b[39;49m\u001b[38;5;241;43m.\u001b[39;49m\u001b[43m_recv_all\u001b[49m\u001b[43m(\u001b[49m\u001b[43m \u001b[49m\u001b[43mmin_len\u001b[49m\u001b[43m \u001b[49m\u001b[43m)\u001b[49m\n\u001b[1;32m   1083\u001b[0m \u001b[38;5;66;03m# search for the prefix.  if not found, delete everything except\u001b[39;00m\n\u001b[1;32m   1084\u001b[0m \u001b[38;5;66;03m# the last (prefix_len - 1) bytes and recv more to replace it\u001b[39;00m\n\u001b[1;32m   1085\u001b[0m prefix_offset_55AA \u001b[38;5;241m=\u001b[39m data\u001b[38;5;241m.\u001b[39mfind( PREFIX_55AA_BIN )\n",
      "File \u001b[0;32m~/Documents/PROJECTS/software_energy_consumption/venv/lib/python3.8/site-packages/tinytuya/core.py:1055\u001b[0m, in \u001b[0;36mXenonDevice._recv_all\u001b[0;34m(self, length)\u001b[0m\n\u001b[1;32m   1052\u001b[0m data \u001b[38;5;241m=\u001b[39m \u001b[38;5;124mb\u001b[39m\u001b[38;5;124m'\u001b[39m\u001b[38;5;124m'\u001b[39m\n\u001b[1;32m   1054\u001b[0m \u001b[38;5;28;01mwhile\u001b[39;00m length \u001b[38;5;241m>\u001b[39m \u001b[38;5;241m0\u001b[39m:\n\u001b[0;32m-> 1055\u001b[0m     newdata \u001b[38;5;241m=\u001b[39m \u001b[38;5;28;43mself\u001b[39;49m\u001b[38;5;241;43m.\u001b[39;49m\u001b[43msocket\u001b[49m\u001b[38;5;241;43m.\u001b[39;49m\u001b[43mrecv\u001b[49m\u001b[43m(\u001b[49m\u001b[43mlength\u001b[49m\u001b[43m)\u001b[49m\n\u001b[1;32m   1056\u001b[0m     \u001b[38;5;28;01mif\u001b[39;00m \u001b[38;5;129;01mnot\u001b[39;00m newdata \u001b[38;5;129;01mor\u001b[39;00m \u001b[38;5;28mlen\u001b[39m(newdata) \u001b[38;5;241m==\u001b[39m \u001b[38;5;241m0\u001b[39m:\n\u001b[1;32m   1057\u001b[0m         log\u001b[38;5;241m.\u001b[39mdebug(\u001b[38;5;124m\"\u001b[39m\u001b[38;5;124m_recv_all(): no data? \u001b[39m\u001b[38;5;132;01m%r\u001b[39;00m\u001b[38;5;124m\"\u001b[39m, newdata)\n",
      "\u001b[0;31mKeyboardInterrupt\u001b[0m: "
     ]
    }
   ],
   "source": [
    "# We can make an infinite loop or define some condition\n",
    "while True:\n",
    "\n",
    "    # Query the device mesuared data\n",
    "    payload = device.generate_payload(tinytuya.DP_QUERY)\n",
    "    device.send(payload)\n",
    "\n",
    "    # Receive new data. Can be \"None\"\n",
    "    data = device.receive()\n",
    "\n",
    "    # See if any new data is available\n",
    "    if data:\n",
    "        formatted_data = format_device_response(data)\n",
    "        log.loc[len(log)] = formatted_data\n",
    "        print('Received data -> %r' % data)\n",
    "\n",
    "    # Request to refresh the data points \n",
    "    payload = device.generate_payload(tinytuya.UPDATEDPS, ['18', '19', '20', '101', '1'])\n",
    "    device.send(payload)\n",
    "    \n",
    "    # Receive new data. Can be \"None\"\n",
    "    data = device.receive()\n",
    "    \n",
    "    # See if any new data is available\n",
    "    if data:\n",
    "        data = dict(data)\n",
    "        ct = datetime.datetime.now()\n",
    "        formatted_data = format_device_response(data)\n",
    "        print('Received data -> %r' % data)\n",
    "        log.loc[len(log)] = formatted_data"
   ]
  },
  {
   "cell_type": "markdown",
   "metadata": {},
   "source": [
    "#### 03.4. Clean and save the data"
   ]
  },
  {
   "cell_type": "code",
   "execution_count": 60,
   "metadata": {},
   "outputs": [],
   "source": [
    "# Cleaning the missing data\n",
    "log = log[(log.power != -1) & (log.current != -1) & (log.voltage != -1)]\n",
    "\n",
    "# Save the collected data\n",
    "LOG_FILENAME = '../firefox-15.csv'\n",
    "log.to_csv(LOG_FILENAME, index=False)"
   ]
  },
  {
   "cell_type": "markdown",
   "metadata": {},
   "source": [
    "### 04. Analysing the results\n",
    "\n",
    "With the dataframe collected we can visualize the results in tables and charts."
   ]
  },
  {
   "cell_type": "code",
   "execution_count": 61,
   "metadata": {},
   "outputs": [
    {
     "data": {
      "text/html": [
       "<div>\n",
       "<style scoped>\n",
       "    .dataframe tbody tr th:only-of-type {\n",
       "        vertical-align: middle;\n",
       "    }\n",
       "\n",
       "    .dataframe tbody tr th {\n",
       "        vertical-align: top;\n",
       "    }\n",
       "\n",
       "    .dataframe thead th {\n",
       "        text-align: right;\n",
       "    }\n",
       "</style>\n",
       "<table border=\"1\" class=\"dataframe\">\n",
       "  <thead>\n",
       "    <tr style=\"text-align: right;\">\n",
       "      <th></th>\n",
       "      <th>timestamp</th>\n",
       "      <th>current</th>\n",
       "      <th>power</th>\n",
       "      <th>voltage</th>\n",
       "      <th>temperature</th>\n",
       "      <th>is_on</th>\n",
       "    </tr>\n",
       "  </thead>\n",
       "  <tbody>\n",
       "    <tr>\n",
       "      <th>0</th>\n",
       "      <td>2024-06-16 22:12:13.755362</td>\n",
       "      <td>379</td>\n",
       "      <td>489</td>\n",
       "      <td>1196</td>\n",
       "      <td>3134</td>\n",
       "      <td>1</td>\n",
       "    </tr>\n",
       "    <tr>\n",
       "      <th>1</th>\n",
       "      <td>2024-06-16 22:12:14.020651</td>\n",
       "      <td>271</td>\n",
       "      <td>286</td>\n",
       "      <td>1194</td>\n",
       "      <td>3134</td>\n",
       "      <td>1</td>\n",
       "    </tr>\n",
       "    <tr>\n",
       "      <th>2</th>\n",
       "      <td>2024-06-16 22:12:14.059499</td>\n",
       "      <td>271</td>\n",
       "      <td>286</td>\n",
       "      <td>1194</td>\n",
       "      <td>3134</td>\n",
       "      <td>1</td>\n",
       "    </tr>\n",
       "    <tr>\n",
       "      <th>3</th>\n",
       "      <td>2024-06-16 22:12:14.081694</td>\n",
       "      <td>271</td>\n",
       "      <td>286</td>\n",
       "      <td>1194</td>\n",
       "      <td>3134</td>\n",
       "      <td>1</td>\n",
       "    </tr>\n",
       "    <tr>\n",
       "      <th>4</th>\n",
       "      <td>2024-06-16 22:12:19.116406</td>\n",
       "      <td>271</td>\n",
       "      <td>286</td>\n",
       "      <td>1194</td>\n",
       "      <td>3134</td>\n",
       "      <td>1</td>\n",
       "    </tr>\n",
       "  </tbody>\n",
       "</table>\n",
       "</div>"
      ],
      "text/plain": [
       "                    timestamp  current  power  voltage  temperature  is_on\n",
       "0  2024-06-16 22:12:13.755362      379    489     1196         3134      1\n",
       "1  2024-06-16 22:12:14.020651      271    286     1194         3134      1\n",
       "2  2024-06-16 22:12:14.059499      271    286     1194         3134      1\n",
       "3  2024-06-16 22:12:14.081694      271    286     1194         3134      1\n",
       "4  2024-06-16 22:12:19.116406      271    286     1194         3134      1"
      ]
     },
     "execution_count": 61,
     "metadata": {},
     "output_type": "execute_result"
    }
   ],
   "source": [
    "log = pd.read_csv(LOG_FILENAME)\n",
    "log.head()"
   ]
  },
  {
   "cell_type": "markdown",
   "metadata": {},
   "source": [
    "#### 04.1. Plotting the time evolution of the power value"
   ]
  },
  {
   "cell_type": "code",
   "execution_count": 62,
   "metadata": {},
   "outputs": [
    {
     "data": {
      "application/vnd.plotly.v1+json": {
       "config": {
        "plotlyServerURL": "https://plot.ly"
       },
       "data": [
        {
         "hovertemplate": "Timestamp (HH:MM:SS)=%{x}<br>Potência (W)=%{y}<extra></extra>",
         "legendgroup": "",
         "line": {
          "color": "#636efa",
          "dash": "solid"
         },
         "marker": {
          "symbol": "circle"
         },
         "mode": "lines",
         "name": "",
         "orientation": "v",
         "showlegend": false,
         "type": "scatter",
         "x": [
          "2024-06-16 22:12:13.755362",
          "2024-06-16 22:12:14.020651",
          "2024-06-16 22:12:14.059499",
          "2024-06-16 22:12:14.081694",
          "2024-06-16 22:12:19.116406",
          "2024-06-16 22:12:19.377606",
          "2024-06-16 22:12:19.431678",
          "2024-06-16 22:12:19.452086",
          "2024-06-16 22:12:24.498879",
          "2024-06-16 22:12:24.751404",
          "2024-06-16 22:12:24.797811",
          "2024-06-16 22:12:24.819198",
          "2024-06-16 22:12:25.000546",
          "2024-06-16 22:12:25.031713",
          "2024-06-16 22:12:25.051672",
          "2024-06-16 22:12:30.209291",
          "2024-06-16 22:12:30.499091",
          "2024-06-16 22:12:30.514100",
          "2024-06-16 22:12:30.538509",
          "2024-06-16 22:12:30.847353",
          "2024-06-16 22:12:30.865877",
          "2024-06-16 22:12:30.915212",
          "2024-06-16 22:12:32.709076",
          "2024-06-16 22:12:32.986529",
          "2024-06-16 22:12:33.013987",
          "2024-06-16 22:12:34.679007",
          "2024-06-16 22:12:34.944587",
          "2024-06-16 22:12:34.986584",
          "2024-06-16 22:12:40.021258",
          "2024-06-16 22:12:40.266702",
          "2024-06-16 22:12:40.285877",
          "2024-06-16 22:12:45.388929",
          "2024-06-16 22:12:45.657216",
          "2024-06-16 22:12:45.676002",
          "2024-06-16 22:12:45.715305",
          "2024-06-16 22:12:45.906237",
          "2024-06-16 22:12:45.929593",
          "2024-06-16 22:12:50.973208",
          "2024-06-16 22:12:51.231981",
          "2024-06-16 22:12:51.262556",
          "2024-06-16 22:12:51.281883",
          "2024-06-16 22:12:56.326405",
          "2024-06-16 22:12:56.634307",
          "2024-06-16 22:12:56.650566",
          "2024-06-16 22:12:56.671789",
          "2024-06-16 22:12:56.871976",
          "2024-06-16 22:12:56.933360",
          "2024-06-16 22:13:01.982566",
          "2024-06-16 22:13:02.211284",
          "2024-06-16 22:13:02.262353",
          "2024-06-16 22:13:02.286966",
          "2024-06-16 22:13:02.710315",
          "2024-06-16 22:13:02.980841",
          "2024-06-16 22:13:03.005090",
          "2024-06-16 22:13:03.689043",
          "2024-06-16 22:13:03.933589",
          "2024-06-16 22:13:03.967229",
          "2024-06-16 22:13:09.015347",
          "2024-06-16 22:13:09.266376",
          "2024-06-16 22:13:09.311928",
          "2024-06-16 22:13:14.584347",
          "2024-06-16 22:13:14.854759",
          "2024-06-16 22:13:14.870728",
          "2024-06-16 22:13:14.897050",
          "2024-06-16 22:13:19.929419",
          "2024-06-16 22:13:20.193948",
          "2024-06-16 22:13:20.210080",
          "2024-06-16 22:13:20.233708",
          "2024-06-16 22:13:25.327962",
          "2024-06-16 22:13:25.629717",
          "2024-06-16 22:13:25.645116",
          "2024-06-16 22:13:25.673963",
          "2024-06-16 22:13:25.861769",
          "2024-06-16 22:13:25.882484",
          "2024-06-16 22:13:30.935463",
          "2024-06-16 22:13:31.573113",
          "2024-06-16 22:13:31.589272",
          "2024-06-16 22:13:31.632467",
          "2024-06-16 22:13:33.601337",
          "2024-06-16 22:13:33.882852",
          "2024-06-16 22:13:33.910028",
          "2024-06-16 22:13:39.155447",
          "2024-06-16 22:13:39.412861",
          "2024-06-16 22:13:39.445030",
          "2024-06-16 22:13:39.470610",
          "2024-06-16 22:13:39.788186",
          "2024-06-16 22:13:39.812808",
          "2024-06-16 22:13:44.849679",
          "2024-06-16 22:13:45.089515",
          "2024-06-16 22:13:45.131227",
          "2024-06-16 22:13:50.166589",
          "2024-06-16 22:13:50.400516",
          "2024-06-16 22:13:50.420849",
          "2024-06-16 22:13:50.723807",
          "2024-06-16 22:13:50.748229",
          "2024-06-16 22:13:56.046084",
          "2024-06-16 22:13:56.282885",
          "2024-06-16 22:13:56.337070",
          "2024-06-16 22:13:56.358905",
          "2024-06-16 22:14:01.405408",
          "2024-06-16 22:14:01.671875",
          "2024-06-16 22:14:01.702498",
          "2024-06-16 22:14:01.723251",
          "2024-06-16 22:14:01.949018",
          "2024-06-16 22:14:01.968269",
          "2024-06-16 22:14:01.990610",
          "2024-06-16 22:14:02.593333",
          "2024-06-16 22:14:02.881342",
          "2024-06-16 22:14:02.916753",
          "2024-06-16 22:14:04.605276",
          "2024-06-16 22:14:04.863286",
          "2024-06-16 22:14:04.910728",
          "2024-06-16 22:14:10.177803",
          "2024-06-16 22:14:10.445439",
          "2024-06-16 22:14:10.463284",
          "2024-06-16 22:14:10.498076",
          "2024-06-16 22:14:10.758744",
          "2024-06-16 22:14:10.784901",
          "2024-06-16 22:14:15.837431",
          "2024-06-16 22:14:16.111155",
          "2024-06-16 22:14:16.148556",
          "2024-06-16 22:14:16.176212",
          "2024-06-16 22:14:21.242095",
          "2024-06-16 22:14:21.554987",
          "2024-06-16 22:14:21.576625",
          "2024-06-16 22:14:21.611733",
          "2024-06-16 22:14:21.863111",
          "2024-06-16 22:14:21.888332",
          "2024-06-16 22:14:27.073800",
          "2024-06-16 22:14:27.334655",
          "2024-06-16 22:14:27.374981",
          "2024-06-16 22:14:27.396455",
          "2024-06-16 22:14:27.664180",
          "2024-06-16 22:14:27.684734",
          "2024-06-16 22:14:27.755469",
          "2024-06-16 22:14:32.560487",
          "2024-06-16 22:14:32.822151"
         ],
         "xaxis": "x",
         "y": [
          489,
          286,
          286,
          286,
          286,
          516,
          516,
          516,
          516,
          956,
          956,
          956,
          383,
          383,
          383,
          383,
          427,
          427,
          427,
          460,
          460,
          460,
          460,
          413,
          413,
          413,
          421,
          421,
          421,
          424,
          424,
          424,
          431,
          431,
          431,
          475,
          475,
          475,
          332,
          332,
          332,
          332,
          400,
          400,
          400,
          418,
          418,
          418,
          404,
          404,
          404,
          404,
          435,
          435,
          438,
          438,
          438,
          438,
          430,
          430,
          430,
          405,
          405,
          405,
          405,
          343,
          343,
          343,
          343,
          340,
          340,
          340,
          344,
          344,
          344,
          342,
          342,
          342,
          355,
          355,
          355,
          355,
          338,
          338,
          338,
          361,
          361,
          361,
          361,
          342,
          342,
          340,
          340,
          339,
          339,
          339,
          347,
          347,
          347,
          347,
          363,
          363,
          363,
          355,
          355,
          355,
          355,
          350,
          350,
          350,
          373,
          373,
          373,
          356,
          356,
          356,
          359,
          359,
          359,
          347,
          347,
          347,
          347,
          355,
          355,
          355,
          333,
          333,
          333,
          352,
          352,
          352,
          351,
          351,
          351,
          351,
          288
         ],
         "yaxis": "y"
        }
       ],
       "layout": {
        "legend": {
         "tracegroupgap": 0
        },
        "template": {
         "data": {
          "bar": [
           {
            "error_x": {
             "color": "#f2f5fa"
            },
            "error_y": {
             "color": "#f2f5fa"
            },
            "marker": {
             "line": {
              "color": "rgb(17,17,17)",
              "width": 0.5
             },
             "pattern": {
              "fillmode": "overlay",
              "size": 10,
              "solidity": 0.2
             }
            },
            "type": "bar"
           }
          ],
          "barpolar": [
           {
            "marker": {
             "line": {
              "color": "rgb(17,17,17)",
              "width": 0.5
             },
             "pattern": {
              "fillmode": "overlay",
              "size": 10,
              "solidity": 0.2
             }
            },
            "type": "barpolar"
           }
          ],
          "carpet": [
           {
            "aaxis": {
             "endlinecolor": "#A2B1C6",
             "gridcolor": "#506784",
             "linecolor": "#506784",
             "minorgridcolor": "#506784",
             "startlinecolor": "#A2B1C6"
            },
            "baxis": {
             "endlinecolor": "#A2B1C6",
             "gridcolor": "#506784",
             "linecolor": "#506784",
             "minorgridcolor": "#506784",
             "startlinecolor": "#A2B1C6"
            },
            "type": "carpet"
           }
          ],
          "choropleth": [
           {
            "colorbar": {
             "outlinewidth": 0,
             "ticks": ""
            },
            "type": "choropleth"
           }
          ],
          "contour": [
           {
            "colorbar": {
             "outlinewidth": 0,
             "ticks": ""
            },
            "colorscale": [
             [
              0,
              "#0d0887"
             ],
             [
              0.1111111111111111,
              "#46039f"
             ],
             [
              0.2222222222222222,
              "#7201a8"
             ],
             [
              0.3333333333333333,
              "#9c179e"
             ],
             [
              0.4444444444444444,
              "#bd3786"
             ],
             [
              0.5555555555555556,
              "#d8576b"
             ],
             [
              0.6666666666666666,
              "#ed7953"
             ],
             [
              0.7777777777777778,
              "#fb9f3a"
             ],
             [
              0.8888888888888888,
              "#fdca26"
             ],
             [
              1,
              "#f0f921"
             ]
            ],
            "type": "contour"
           }
          ],
          "contourcarpet": [
           {
            "colorbar": {
             "outlinewidth": 0,
             "ticks": ""
            },
            "type": "contourcarpet"
           }
          ],
          "heatmap": [
           {
            "colorbar": {
             "outlinewidth": 0,
             "ticks": ""
            },
            "colorscale": [
             [
              0,
              "#0d0887"
             ],
             [
              0.1111111111111111,
              "#46039f"
             ],
             [
              0.2222222222222222,
              "#7201a8"
             ],
             [
              0.3333333333333333,
              "#9c179e"
             ],
             [
              0.4444444444444444,
              "#bd3786"
             ],
             [
              0.5555555555555556,
              "#d8576b"
             ],
             [
              0.6666666666666666,
              "#ed7953"
             ],
             [
              0.7777777777777778,
              "#fb9f3a"
             ],
             [
              0.8888888888888888,
              "#fdca26"
             ],
             [
              1,
              "#f0f921"
             ]
            ],
            "type": "heatmap"
           }
          ],
          "heatmapgl": [
           {
            "colorbar": {
             "outlinewidth": 0,
             "ticks": ""
            },
            "colorscale": [
             [
              0,
              "#0d0887"
             ],
             [
              0.1111111111111111,
              "#46039f"
             ],
             [
              0.2222222222222222,
              "#7201a8"
             ],
             [
              0.3333333333333333,
              "#9c179e"
             ],
             [
              0.4444444444444444,
              "#bd3786"
             ],
             [
              0.5555555555555556,
              "#d8576b"
             ],
             [
              0.6666666666666666,
              "#ed7953"
             ],
             [
              0.7777777777777778,
              "#fb9f3a"
             ],
             [
              0.8888888888888888,
              "#fdca26"
             ],
             [
              1,
              "#f0f921"
             ]
            ],
            "type": "heatmapgl"
           }
          ],
          "histogram": [
           {
            "marker": {
             "pattern": {
              "fillmode": "overlay",
              "size": 10,
              "solidity": 0.2
             }
            },
            "type": "histogram"
           }
          ],
          "histogram2d": [
           {
            "colorbar": {
             "outlinewidth": 0,
             "ticks": ""
            },
            "colorscale": [
             [
              0,
              "#0d0887"
             ],
             [
              0.1111111111111111,
              "#46039f"
             ],
             [
              0.2222222222222222,
              "#7201a8"
             ],
             [
              0.3333333333333333,
              "#9c179e"
             ],
             [
              0.4444444444444444,
              "#bd3786"
             ],
             [
              0.5555555555555556,
              "#d8576b"
             ],
             [
              0.6666666666666666,
              "#ed7953"
             ],
             [
              0.7777777777777778,
              "#fb9f3a"
             ],
             [
              0.8888888888888888,
              "#fdca26"
             ],
             [
              1,
              "#f0f921"
             ]
            ],
            "type": "histogram2d"
           }
          ],
          "histogram2dcontour": [
           {
            "colorbar": {
             "outlinewidth": 0,
             "ticks": ""
            },
            "colorscale": [
             [
              0,
              "#0d0887"
             ],
             [
              0.1111111111111111,
              "#46039f"
             ],
             [
              0.2222222222222222,
              "#7201a8"
             ],
             [
              0.3333333333333333,
              "#9c179e"
             ],
             [
              0.4444444444444444,
              "#bd3786"
             ],
             [
              0.5555555555555556,
              "#d8576b"
             ],
             [
              0.6666666666666666,
              "#ed7953"
             ],
             [
              0.7777777777777778,
              "#fb9f3a"
             ],
             [
              0.8888888888888888,
              "#fdca26"
             ],
             [
              1,
              "#f0f921"
             ]
            ],
            "type": "histogram2dcontour"
           }
          ],
          "mesh3d": [
           {
            "colorbar": {
             "outlinewidth": 0,
             "ticks": ""
            },
            "type": "mesh3d"
           }
          ],
          "parcoords": [
           {
            "line": {
             "colorbar": {
              "outlinewidth": 0,
              "ticks": ""
             }
            },
            "type": "parcoords"
           }
          ],
          "pie": [
           {
            "automargin": true,
            "type": "pie"
           }
          ],
          "scatter": [
           {
            "marker": {
             "line": {
              "color": "#283442"
             }
            },
            "type": "scatter"
           }
          ],
          "scatter3d": [
           {
            "line": {
             "colorbar": {
              "outlinewidth": 0,
              "ticks": ""
             }
            },
            "marker": {
             "colorbar": {
              "outlinewidth": 0,
              "ticks": ""
             }
            },
            "type": "scatter3d"
           }
          ],
          "scattercarpet": [
           {
            "marker": {
             "colorbar": {
              "outlinewidth": 0,
              "ticks": ""
             }
            },
            "type": "scattercarpet"
           }
          ],
          "scattergeo": [
           {
            "marker": {
             "colorbar": {
              "outlinewidth": 0,
              "ticks": ""
             }
            },
            "type": "scattergeo"
           }
          ],
          "scattergl": [
           {
            "marker": {
             "line": {
              "color": "#283442"
             }
            },
            "type": "scattergl"
           }
          ],
          "scattermapbox": [
           {
            "marker": {
             "colorbar": {
              "outlinewidth": 0,
              "ticks": ""
             }
            },
            "type": "scattermapbox"
           }
          ],
          "scatterpolar": [
           {
            "marker": {
             "colorbar": {
              "outlinewidth": 0,
              "ticks": ""
             }
            },
            "type": "scatterpolar"
           }
          ],
          "scatterpolargl": [
           {
            "marker": {
             "colorbar": {
              "outlinewidth": 0,
              "ticks": ""
             }
            },
            "type": "scatterpolargl"
           }
          ],
          "scatterternary": [
           {
            "marker": {
             "colorbar": {
              "outlinewidth": 0,
              "ticks": ""
             }
            },
            "type": "scatterternary"
           }
          ],
          "surface": [
           {
            "colorbar": {
             "outlinewidth": 0,
             "ticks": ""
            },
            "colorscale": [
             [
              0,
              "#0d0887"
             ],
             [
              0.1111111111111111,
              "#46039f"
             ],
             [
              0.2222222222222222,
              "#7201a8"
             ],
             [
              0.3333333333333333,
              "#9c179e"
             ],
             [
              0.4444444444444444,
              "#bd3786"
             ],
             [
              0.5555555555555556,
              "#d8576b"
             ],
             [
              0.6666666666666666,
              "#ed7953"
             ],
             [
              0.7777777777777778,
              "#fb9f3a"
             ],
             [
              0.8888888888888888,
              "#fdca26"
             ],
             [
              1,
              "#f0f921"
             ]
            ],
            "type": "surface"
           }
          ],
          "table": [
           {
            "cells": {
             "fill": {
              "color": "#506784"
             },
             "line": {
              "color": "rgb(17,17,17)"
             }
            },
            "header": {
             "fill": {
              "color": "#2a3f5f"
             },
             "line": {
              "color": "rgb(17,17,17)"
             }
            },
            "type": "table"
           }
          ]
         },
         "layout": {
          "annotationdefaults": {
           "arrowcolor": "#f2f5fa",
           "arrowhead": 0,
           "arrowwidth": 1
          },
          "autotypenumbers": "strict",
          "coloraxis": {
           "colorbar": {
            "outlinewidth": 0,
            "ticks": ""
           }
          },
          "colorscale": {
           "diverging": [
            [
             0,
             "#8e0152"
            ],
            [
             0.1,
             "#c51b7d"
            ],
            [
             0.2,
             "#de77ae"
            ],
            [
             0.3,
             "#f1b6da"
            ],
            [
             0.4,
             "#fde0ef"
            ],
            [
             0.5,
             "#f7f7f7"
            ],
            [
             0.6,
             "#e6f5d0"
            ],
            [
             0.7,
             "#b8e186"
            ],
            [
             0.8,
             "#7fbc41"
            ],
            [
             0.9,
             "#4d9221"
            ],
            [
             1,
             "#276419"
            ]
           ],
           "sequential": [
            [
             0,
             "#0d0887"
            ],
            [
             0.1111111111111111,
             "#46039f"
            ],
            [
             0.2222222222222222,
             "#7201a8"
            ],
            [
             0.3333333333333333,
             "#9c179e"
            ],
            [
             0.4444444444444444,
             "#bd3786"
            ],
            [
             0.5555555555555556,
             "#d8576b"
            ],
            [
             0.6666666666666666,
             "#ed7953"
            ],
            [
             0.7777777777777778,
             "#fb9f3a"
            ],
            [
             0.8888888888888888,
             "#fdca26"
            ],
            [
             1,
             "#f0f921"
            ]
           ],
           "sequentialminus": [
            [
             0,
             "#0d0887"
            ],
            [
             0.1111111111111111,
             "#46039f"
            ],
            [
             0.2222222222222222,
             "#7201a8"
            ],
            [
             0.3333333333333333,
             "#9c179e"
            ],
            [
             0.4444444444444444,
             "#bd3786"
            ],
            [
             0.5555555555555556,
             "#d8576b"
            ],
            [
             0.6666666666666666,
             "#ed7953"
            ],
            [
             0.7777777777777778,
             "#fb9f3a"
            ],
            [
             0.8888888888888888,
             "#fdca26"
            ],
            [
             1,
             "#f0f921"
            ]
           ]
          },
          "colorway": [
           "#636efa",
           "#EF553B",
           "#00cc96",
           "#ab63fa",
           "#FFA15A",
           "#19d3f3",
           "#FF6692",
           "#B6E880",
           "#FF97FF",
           "#FECB52"
          ],
          "font": {
           "color": "#f2f5fa"
          },
          "geo": {
           "bgcolor": "rgb(17,17,17)",
           "lakecolor": "rgb(17,17,17)",
           "landcolor": "rgb(17,17,17)",
           "showlakes": true,
           "showland": true,
           "subunitcolor": "#506784"
          },
          "hoverlabel": {
           "align": "left"
          },
          "hovermode": "closest",
          "mapbox": {
           "style": "dark"
          },
          "paper_bgcolor": "rgb(17,17,17)",
          "plot_bgcolor": "rgb(17,17,17)",
          "polar": {
           "angularaxis": {
            "gridcolor": "#506784",
            "linecolor": "#506784",
            "ticks": ""
           },
           "bgcolor": "rgb(17,17,17)",
           "radialaxis": {
            "gridcolor": "#506784",
            "linecolor": "#506784",
            "ticks": ""
           }
          },
          "scene": {
           "xaxis": {
            "backgroundcolor": "rgb(17,17,17)",
            "gridcolor": "#506784",
            "gridwidth": 2,
            "linecolor": "#506784",
            "showbackground": true,
            "ticks": "",
            "zerolinecolor": "#C8D4E3"
           },
           "yaxis": {
            "backgroundcolor": "rgb(17,17,17)",
            "gridcolor": "#506784",
            "gridwidth": 2,
            "linecolor": "#506784",
            "showbackground": true,
            "ticks": "",
            "zerolinecolor": "#C8D4E3"
           },
           "zaxis": {
            "backgroundcolor": "rgb(17,17,17)",
            "gridcolor": "#506784",
            "gridwidth": 2,
            "linecolor": "#506784",
            "showbackground": true,
            "ticks": "",
            "zerolinecolor": "#C8D4E3"
           }
          },
          "shapedefaults": {
           "line": {
            "color": "#f2f5fa"
           }
          },
          "sliderdefaults": {
           "bgcolor": "#C8D4E3",
           "bordercolor": "rgb(17,17,17)",
           "borderwidth": 1,
           "tickwidth": 0
          },
          "ternary": {
           "aaxis": {
            "gridcolor": "#506784",
            "linecolor": "#506784",
            "ticks": ""
           },
           "baxis": {
            "gridcolor": "#506784",
            "linecolor": "#506784",
            "ticks": ""
           },
           "bgcolor": "rgb(17,17,17)",
           "caxis": {
            "gridcolor": "#506784",
            "linecolor": "#506784",
            "ticks": ""
           }
          },
          "title": {
           "x": 0.05
          },
          "updatemenudefaults": {
           "bgcolor": "#506784",
           "borderwidth": 0
          },
          "xaxis": {
           "automargin": true,
           "gridcolor": "#283442",
           "linecolor": "#506784",
           "ticks": "",
           "title": {
            "standoff": 15
           },
           "zerolinecolor": "#283442",
           "zerolinewidth": 2
          },
          "yaxis": {
           "automargin": true,
           "gridcolor": "#283442",
           "linecolor": "#506784",
           "ticks": "",
           "title": {
            "standoff": 15
           },
           "zerolinecolor": "#283442",
           "zerolinewidth": 2
          }
         }
        },
        "title": {
         "text": "Evolução da Potência em W (somente computador conectado)"
        },
        "xaxis": {
         "anchor": "y",
         "domain": [
          0,
          1
         ],
         "title": {
          "text": "Timestamp (HH:MM:SS)"
         }
        },
        "yaxis": {
         "anchor": "x",
         "domain": [
          0,
          1
         ],
         "title": {
          "text": "Potência (W)"
         }
        }
       }
      }
     },
     "metadata": {},
     "output_type": "display_data"
    }
   ],
   "source": [
    "fig = px.line(\n",
    "    log, \n",
    "    y=\"power\", \n",
    "    x=\"timestamp\", \n",
    "    template='plotly_dark', \n",
    "    title='Evolução da Potência em W (somente computador conectado)', \n",
    "    labels={'power': 'Potência (W)', 'timestamp': 'Timestamp (HH:MM:SS)'}\n",
    ")\n",
    "\n",
    "fig.show()"
   ]
  },
  {
   "cell_type": "code",
   "execution_count": null,
   "metadata": {},
   "outputs": [],
   "source": []
  }
 ],
 "metadata": {
  "kernelspec": {
   "display_name": "venv",
   "language": "python",
   "name": "python3"
  },
  "language_info": {
   "codemirror_mode": {
    "name": "ipython",
    "version": 3
   },
   "file_extension": ".py",
   "mimetype": "text/x-python",
   "name": "python",
   "nbconvert_exporter": "python",
   "pygments_lexer": "ipython3",
   "version": "3.8.10"
  }
 },
 "nbformat": 4,
 "nbformat_minor": 2
}
