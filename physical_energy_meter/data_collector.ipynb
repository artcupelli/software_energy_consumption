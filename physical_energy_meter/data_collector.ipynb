{
 "cells": [
  {
   "cell_type": "markdown",
   "metadata": {},
   "source": [
    "## Physical Energy Meter Data Collection"
   ]
  },
  {
   "cell_type": "code",
   "execution_count": 1,
   "metadata": {},
   "outputs": [],
   "source": [
    "import plotly.express as px\n",
    "import pandas as pd\n",
    "import tinytuya\n",
    "import datetime\n",
    "import yaml"
   ]
  },
  {
   "cell_type": "markdown",
   "metadata": {},
   "source": [
    "### 01. Device info\n",
    "In order to connect with the device, we need to specify a few information like the Device ID, IP and KEY (provided by the Tuya Developer plataform)."
   ]
  },
  {
   "cell_type": "code",
   "execution_count": 23,
   "metadata": {},
   "outputs": [],
   "source": [
    "# Reading the YAML file with the device info\n",
    "with open('../secrets.yaml', 'r') as file:\n",
    "    secrets_info = yaml.safe_load(file)"
   ]
  },
  {
   "cell_type": "code",
   "execution_count": 3,
   "metadata": {},
   "outputs": [],
   "source": [
    "DEVICE_KEY = secrets_info[\"DEVICE_KEY\"]\n",
    "DEVICE_ID = secrets_info[\"DEVICE_ID\"]\n",
    "DEVICE_IP = secrets_info[\"DEVICE_IP\"]\n",
    "LOCAL_KEY = secrets_info[\"LOCAL_KEY\"]\n",
    "VERSION = secrets_info[\"VERSION\"]"
   ]
  },
  {
   "cell_type": "markdown",
   "metadata": {},
   "source": [
    "### 02. Instanciating the device connection\n",
    "\n",
    "Now we can instanciate a connection to the device."
   ]
  },
  {
   "cell_type": "code",
   "execution_count": 4,
   "metadata": {},
   "outputs": [],
   "source": [
    "# Following the lib docs, instanciating an OutletDevice\n",
    "device = tinytuya.OutletDevice(\n",
    "    dev_id=DEVICE_ID,\n",
    "    address=DEVICE_IP,      \n",
    "    local_key=LOCAL_KEY, \n",
    "    version=VERSION\n",
    ")\n",
    "\n",
    "device.set_socketPersistent(True)"
   ]
  },
  {
   "cell_type": "markdown",
   "metadata": {},
   "source": [
    "### 03. Collecting the device data\n",
    "\n",
    "To collect the energy data, we just have to create loop making multiple requests and saving the results in a dataframe. "
   ]
  },
  {
   "cell_type": "markdown",
   "metadata": {},
   "source": [
    "#### 03.1. Creating the output dataframe"
   ]
  },
  {
   "cell_type": "code",
   "execution_count": 5,
   "metadata": {},
   "outputs": [],
   "source": [
    "# Request responses dataframe\n",
    "log = pd.DataFrame(columns=['timestamp', 'current', 'power', 'voltage', 'temperature', 'is_on'])"
   ]
  },
  {
   "cell_type": "markdown",
   "metadata": {},
   "source": [
    "#### 03.2. Formating the response output"
   ]
  },
  {
   "cell_type": "code",
   "execution_count": 6,
   "metadata": {},
   "outputs": [],
   "source": [
    "def format_device_response(raw_response: any) -> dict:\n",
    "    \"\"\"\n",
    "    Format the JSON device response to a friendly format for the log dataframe.\n",
    "\n",
    "    Parameters\n",
    "    ----------\n",
    "    response: dict\n",
    "        The raw response fromd device.\n",
    "\n",
    "    Returns\n",
    "    -------\n",
    "    dict:\n",
    "        Formmatted response.\n",
    "    \"\"\"\n",
    "    data = dict(raw_response)\n",
    "    timestamp = datetime.datetime.now()\n",
    "\n",
    "    formatted_data = {\n",
    "            'temperature': data['dps']['101'] if '101' in data['dps'] else -1, \n",
    "            'current': data['dps']['18'] if '18' in data['dps'] else -1, \n",
    "            'voltage': data['dps']['20'] if '20' in data['dps'] else -1, \n",
    "            'power': data['dps']['19'] if '19' in data['dps'] else -1 ,\n",
    "            'is_on': data['dps']['1'] if '1' in data['dps'] else -1, \n",
    "            'device_id': data['devId'],\n",
    "            'timestamp': timestamp, \n",
    "        }\n",
    "    \n",
    "    return formatted_data"
   ]
  },
  {
   "cell_type": "markdown",
   "metadata": {},
   "source": [
    "#### 03.3. Requests loop"
   ]
  },
  {
   "cell_type": "code",
   "execution_count": 7,
   "metadata": {},
   "outputs": [
    {
     "name": "stdout",
     "output_type": "stream",
     "text": [
      "Received data -> {'devId': '16315000c45bbe7da87e', 'dps': {'1': True, '9': 0, '18': 409, '19': 464, '20': 1181, '101': 30}}\n",
      "Received data -> {'devId': '16315000c45bbe7da87e', 'dps': {'18': 380}, 't': 1701665333}\n",
      "Received data -> {'devId': '16315000c45bbe7da87e', 'dps': {'1': True, '9': 0, '18': 380, '19': 404, '20': 1181, '101': 30}}\n",
      "Received data -> {'devId': '16315000c45bbe7da87e', 'dps': {'19': 404}, 't': 1701665333}\n",
      "Received data -> {'devId': '16315000c45bbe7da87e', 'dps': {'1': True, '9': 0, '18': 380, '19': 404, '20': 1181, '101': 30}}\n",
      "Received data -> {'devId': '16315000c45bbe7da87e', 'dps': {'1': True, '9': 0, '18': 380, '19': 404, '20': 1181, '101': 30}}\n",
      "Received data -> {'devId': '16315000c45bbe7da87e', 'dps': {'18': 385}, 't': 1701665338}\n",
      "Received data -> {'devId': '16315000c45bbe7da87e', 'dps': {'19': 413}, 't': 1701665338}\n",
      "Received data -> {'devId': '16315000c45bbe7da87e', 'dps': {'1': True, '9': 0, '18': 385, '19': 413, '20': 1181, '101': 30}}\n",
      "Received data -> {'devId': '16315000c45bbe7da87e', 'dps': {'1': True, '9': 0, '18': 385, '19': 413, '20': 1181, '101': 30}}\n",
      "Received data -> {'devId': '16315000c45bbe7da87e', 'dps': {'1': True, '9': 0, '18': 385, '19': 413, '20': 1181, '101': 30}}\n",
      "Received data -> {'devId': '16315000c45bbe7da87e', 'dps': {'18': 389}, 't': 1701665344}\n",
      "Received data -> {'devId': '16315000c45bbe7da87e', 'dps': {'1': True, '9': 0, '18': 389, '19': 418, '20': 1181, '101': 30}}\n",
      "Received data -> {'devId': '16315000c45bbe7da87e', 'dps': {'19': 418}, 't': 1701665344}\n",
      "Received data -> {'devId': '16315000c45bbe7da87e', 'dps': {'20': 1182}, 't': 1701665344}\n",
      "Received data -> {'devId': '16315000c45bbe7da87e', 'dps': {'1': True, '9': 0, '18': 389, '19': 418, '20': 1182, '101': 30}}\n",
      "Received data -> {'devId': '16315000c45bbe7da87e', 'dps': {'1': True, '9': 0, '18': 389, '19': 418, '20': 1182, '101': 30}}\n",
      "Received data -> {'devId': '16315000c45bbe7da87e', 'dps': {'1': True, '9': 0, '18': 389, '19': 418, '20': 1182, '101': 30}}\n",
      "Received data -> {'devId': '16315000c45bbe7da87e', 'dps': {'18': 364}, 't': 1701665349}\n",
      "Received data -> {'devId': '16315000c45bbe7da87e', 'dps': {'1': True, '9': 0, '18': 364, '19': 394, '20': 1182, '101': 30}}\n",
      "Received data -> {'devId': '16315000c45bbe7da87e', 'dps': {'19': 394}, 't': 1701665349}\n",
      "Received data -> {'devId': '16315000c45bbe7da87e', 'dps': {'1': True, '9': 0, '18': 364, '19': 394, '20': 1182, '101': 30}}\n",
      "Received data -> {'devId': '16315000c45bbe7da87e', 'dps': {'1': True, '9': 0, '18': 364, '19': 394, '20': 1182, '101': 30}}\n",
      "Received data -> {'devId': '16315000c45bbe7da87e', 'dps': {'18': 395}, 't': 1701665355}\n",
      "Received data -> {'devId': '16315000c45bbe7da87e', 'dps': {'1': True, '9': 0, '18': 395, '19': 422, '20': 1183, '101': 30}}\n",
      "Received data -> {'devId': '16315000c45bbe7da87e', 'dps': {'19': 422}, 't': 1701665355}\n",
      "Received data -> {'devId': '16315000c45bbe7da87e', 'dps': {'20': 1183}, 't': 1701665355}\n",
      "Received data -> {'devId': '16315000c45bbe7da87e', 'dps': {'1': True, '9': 0, '18': 395, '19': 422, '20': 1183, '101': 30}}\n",
      "Received data -> {'devId': '16315000c45bbe7da87e', 'dps': {'1': True, '9': 0, '18': 395, '19': 422, '20': 1183, '101': 30}}\n",
      "Received data -> {'devId': '16315000c45bbe7da87e', 'dps': {'18': 377}, 't': 1701665360}\n",
      "Received data -> {'devId': '16315000c45bbe7da87e', 'dps': {'1': True, '9': 0, '18': 377, '19': 422, '20': 1183, '101': 30}}\n",
      "Received data -> {'devId': '16315000c45bbe7da87e', 'dps': {'19': 407}, 't': 1701665360}\n",
      "Received data -> {'devId': '16315000c45bbe7da87e', 'dps': {'20': 1182}, 't': 1701665360}\n",
      "Received data -> {'devId': '16315000c45bbe7da87e', 'dps': {'1': True, '9': 0, '18': 377, '19': 407, '20': 1182, '101': 30}}\n",
      "Received data -> {'devId': '16315000c45bbe7da87e', 'dps': {'1': True, '9': 0, '18': 377, '19': 407, '20': 1182, '101': 30}}\n",
      "Received data -> {'devId': '16315000c45bbe7da87e', 'dps': {'20': 1183}, 't': 1701665362}\n",
      "Received data -> {'devId': '16315000c45bbe7da87e', 'dps': {'1': True, '9': 0, '18': 377, '19': 407, '20': 1183, '101': 30}}\n",
      "Received data -> {'devId': '16315000c45bbe7da87e', 'dps': {'18': 382}, 't': 1701665362}\n",
      "Received data -> {'devId': '16315000c45bbe7da87e', 'dps': {'19': 412}, 't': 1701665362}\n",
      "Received data -> {'devId': '16315000c45bbe7da87e', 'dps': {'1': True, '9': 0, '18': 382, '19': 412, '20': 1183, '101': 30}}\n",
      "Received data -> {'devId': '16315000c45bbe7da87e', 'dps': {'1': True, '9': 0, '18': 382, '19': 412, '20': 1183, '101': 30}}\n",
      "Received data -> {'devId': '16315000c45bbe7da87e', 'dps': {'1': True, '9': 0, '18': 382, '19': 412, '20': 1183, '101': 30}}\n",
      "Received data -> {'devId': '16315000c45bbe7da87e', 'dps': {'18': 379}, 't': 1701665367}\n",
      "Received data -> {'devId': '16315000c45bbe7da87e', 'dps': {'19': 408}, 't': 1701665367}\n",
      "Received data -> {'devId': '16315000c45bbe7da87e', 'dps': {'1': True, '9': 0, '18': 379, '19': 408, '20': 1183, '101': 30}}\n",
      "Received data -> {'devId': '16315000c45bbe7da87e', 'dps': {'1': True, '9': 0, '18': 379, '19': 408, '20': 1183, '101': 30}}\n",
      "Received data -> {'devId': '16315000c45bbe7da87e', 'dps': {'18': 395}, 't': 1701665368}\n",
      "Received data -> {'devId': '16315000c45bbe7da87e', 'dps': {'19': 421}, 't': 1701665368}\n",
      "Received data -> {'devId': '16315000c45bbe7da87e', 'dps': {'1': True, '9': 0, '18': 395, '19': 421, '20': 1183, '101': 30}}\n",
      "Received data -> {'devId': '16315000c45bbe7da87e', 'dps': {'1': True, '9': 0, '18': 395, '19': 421, '20': 1183, '101': 30}}\n",
      "Received data -> {'devId': '16315000c45bbe7da87e', 'dps': {'1': True, '9': 0, '18': 395, '19': 421, '20': 1183, '101': 30}}\n",
      "Received data -> {'devId': '16315000c45bbe7da87e', 'dps': {'18': 382}, 't': 1701665373}\n",
      "Received data -> {'devId': '16315000c45bbe7da87e', 'dps': {'19': 411}, 't': 1701665373}\n",
      "Received data -> {'devId': '16315000c45bbe7da87e', 'dps': {'1': True, '9': 0, '18': 382, '19': 411, '20': 1183, '101': 30}}\n",
      "Received data -> {'devId': '16315000c45bbe7da87e', 'dps': {'1': True, '9': 0, '18': 382, '19': 411, '20': 1183, '101': 30}}\n",
      "Received data -> {'devId': '16315000c45bbe7da87e', 'dps': {'1': True, '9': 0, '18': 382, '19': 411, '20': 1183, '101': 30}}\n",
      "Received data -> {'devId': '16315000c45bbe7da87e', 'dps': {'18': 377}, 't': 1701665378}\n",
      "Received data -> {'devId': '16315000c45bbe7da87e', 'dps': {'19': 405}, 't': 1701665378}\n",
      "Received data -> {'devId': '16315000c45bbe7da87e', 'dps': {'1': True, '9': 0, '18': 377, '19': 405, '20': 1183, '101': 30}}\n",
      "Received data -> {'devId': '16315000c45bbe7da87e', 'dps': {'1': True, '9': 0, '18': 377, '19': 405, '20': 1183, '101': 30}}\n",
      "Received data -> {'devId': '16315000c45bbe7da87e', 'dps': {'18': 369}, 't': 1701665379}\n",
      "Received data -> {'devId': '16315000c45bbe7da87e', 'dps': {'19': 394}, 't': 1701665379}\n",
      "Received data -> {'devId': '16315000c45bbe7da87e', 'dps': {'1': True, '9': 0, '18': 369, '19': 394, '20': 1183, '101': 30}}\n",
      "Received data -> {'devId': '16315000c45bbe7da87e', 'dps': {'1': True, '9': 0, '18': 369, '19': 394, '20': 1183, '101': 30}}\n",
      "Received data -> {'devId': '16315000c45bbe7da87e', 'dps': {'1': True, '9': 0, '18': 369, '19': 394, '20': 1183, '101': 30}}\n",
      "Received data -> {'devId': '16315000c45bbe7da87e', 'dps': {'18': 387}, 't': 1701665384}\n",
      "Received data -> {'devId': '16315000c45bbe7da87e', 'dps': {'1': True, '9': 0, '18': 387, '19': 415, '20': 1183, '101': 30}}\n",
      "Received data -> {'devId': '16315000c45bbe7da87e', 'dps': {'19': 415}, 't': 1701665384}\n",
      "Received data -> {'devId': '16315000c45bbe7da87e', 'dps': {'1': True, '9': 0, '18': 387, '19': 415, '20': 1183, '101': 30}}\n",
      "Received data -> {'devId': '16315000c45bbe7da87e', 'dps': {'18': 380}, 't': 1701665385}\n",
      "Received data -> {'devId': '16315000c45bbe7da87e', 'dps': {'19': 408}, 't': 1701665385}\n",
      "Received data -> {'devId': '16315000c45bbe7da87e', 'dps': {'20': 1182}, 't': 1701665385}\n",
      "Received data -> {'devId': '16315000c45bbe7da87e', 'dps': {'1': True, '9': 0, '18': 380, '19': 408, '20': 1182, '101': 30}}\n",
      "Received data -> {'devId': '16315000c45bbe7da87e', 'dps': {'1': True, '9': 0, '18': 380, '19': 408, '20': 1182, '101': 30}}\n",
      "Received data -> {'devId': '16315000c45bbe7da87e', 'dps': {'1': True, '9': 0, '18': 380, '19': 408, '20': 1182, '101': 30}}\n",
      "Received data -> {'devId': '16315000c45bbe7da87e', 'dps': {'18': 375}, 't': 1701665389}\n",
      "Received data -> {'devId': '16315000c45bbe7da87e', 'dps': {'1': True, '9': 0, '18': 375, '19': 408, '20': 1182, '101': 30}}\n",
      "Received data -> {'devId': '16315000c45bbe7da87e', 'dps': {'18': 391}, 't': 1701665390}\n",
      "Received data -> {'devId': '16315000c45bbe7da87e', 'dps': {'1': True, '9': 0, '18': 391, '19': 418, '20': 1182, '101': 30}}\n",
      "Received data -> {'devId': '16315000c45bbe7da87e', 'dps': {'19': 418}, 't': 1701665390}\n",
      "Received data -> {'devId': '16315000c45bbe7da87e', 'dps': {'1': True, '9': 0, '18': 391, '19': 418, '20': 1182, '101': 30}}\n",
      "Received data -> {'devId': '16315000c45bbe7da87e', 'dps': {'19': 407}, 't': 1701665390}\n",
      "Received data -> {'devId': '16315000c45bbe7da87e', 'dps': {'1': True, '9': 0, '18': 391, '19': 407, '20': 1182, '101': 30}}\n",
      "Received data -> {'devId': '16315000c45bbe7da87e', 'dps': {'18': 380}, 't': 1701665391}\n",
      "Received data -> {'devId': '16315000c45bbe7da87e', 'dps': {'1': True, '9': 0, '18': 380, '19': 407, '20': 1181, '101': 30}}\n",
      "Received data -> {'devId': '16315000c45bbe7da87e', 'dps': {'20': 1181}, 't': 1701665391}\n",
      "Received data -> {'devId': '16315000c45bbe7da87e', 'dps': {'1': True, '9': 0, '18': 380, '19': 407, '20': 1181, '101': 30}}\n",
      "Received data -> {'devId': '16315000c45bbe7da87e', 'dps': {'1': True, '9': 0, '18': 380, '19': 407, '20': 1181, '101': 30}}\n",
      "Received data -> {'devId': '16315000c45bbe7da87e', 'dps': {'18': 391}, 't': 1701665396}\n",
      "Received data -> {'devId': '16315000c45bbe7da87e', 'dps': {'1': True, '9': 0, '18': 391, '19': 418, '20': 1180, '101': 30}}\n",
      "Received data -> {'devId': '16315000c45bbe7da87e', 'dps': {'19': 418}, 't': 1701665396}\n",
      "Received data -> {'devId': '16315000c45bbe7da87e', 'dps': {'20': 1180}, 't': 1701665396}\n",
      "Received data -> {'devId': '16315000c45bbe7da87e', 'dps': {'1': True, '9': 0, '18': 391, '19': 418, '20': 1180, '101': 30}}\n",
      "Received data -> {'devId': '16315000c45bbe7da87e', 'dps': {'1': True, '9': 0, '18': 391, '19': 418, '20': 1180, '101': 30}}\n",
      "Received data -> {'devId': '16315000c45bbe7da87e', 'dps': {'19': 419}, 't': 1701665397}\n",
      "Received data -> {'devId': '16315000c45bbe7da87e', 'dps': {'20': 1181}, 't': 1701665397}\n",
      "Received data -> {'devId': '16315000c45bbe7da87e', 'dps': {'1': True, '9': 0, '18': 391, '19': 419, '20': 1181, '101': 30}}\n",
      "Received data -> {'devId': '16315000c45bbe7da87e', 'dps': {'1': True, '9': 0, '18': 391, '19': 419, '20': 1181, '101': 30}}\n",
      "Received data -> {'devId': '16315000c45bbe7da87e', 'dps': {'1': True, '9': 0, '18': 391, '19': 419, '20': 1181, '101': 30}}\n",
      "Received data -> {'devId': '16315000c45bbe7da87e', 'dps': {'18': 379}, 't': 1701665402}\n",
      "Received data -> {'devId': '16315000c45bbe7da87e', 'dps': {'19': 406}, 't': 1701665402}\n",
      "Received data -> {'devId': '16315000c45bbe7da87e', 'dps': {'1': True, '9': 0, '18': 379, '19': 406, '20': 1181, '101': 30}}\n",
      "Received data -> {'devId': '16315000c45bbe7da87e', 'dps': {'1': True, '9': 0, '18': 379, '19': 406, '20': 1181, '101': 30}}\n",
      "Received data -> {'devId': '16315000c45bbe7da87e', 'dps': {'1': True, '9': 0, '18': 379, '19': 406, '20': 1181, '101': 30}}\n",
      "Received data -> {'devId': '16315000c45bbe7da87e', 'dps': {'18': 371}, 't': 1701665407}\n",
      "Received data -> {'devId': '16315000c45bbe7da87e', 'dps': {'1': True, '9': 0, '18': 371, '19': 401, '20': 1181, '101': 30}}\n",
      "Received data -> {'devId': '16315000c45bbe7da87e', 'dps': {'19': 401}, 't': 1701665407}\n",
      "Received data -> {'devId': '16315000c45bbe7da87e', 'dps': {'1': True, '9': 0, '18': 371, '19': 401, '20': 1181, '101': 30}}\n",
      "Received data -> {'devId': '16315000c45bbe7da87e', 'dps': {'18': 425}, 't': 1701665408}\n",
      "Received data -> {'devId': '16315000c45bbe7da87e', 'dps': {'19': 458}, 't': 1701665408}\n",
      "Received data -> {'devId': '16315000c45bbe7da87e', 'dps': {'1': True, '9': 0, '18': 425, '19': 458, '20': 1181, '101': 30}}\n",
      "Received data -> {'devId': '16315000c45bbe7da87e', 'dps': {'1': True, '9': 0, '18': 425, '19': 458, '20': 1181, '101': 30}}\n",
      "Received data -> {'devId': '16315000c45bbe7da87e', 'dps': {'1': True, '9': 0, '18': 425, '19': 458, '20': 1181, '101': 30}}\n",
      "Received data -> {'devId': '16315000c45bbe7da87e', 'dps': {'18': 503}, 't': 1701665413}\n",
      "Received data -> {'devId': '16315000c45bbe7da87e', 'dps': {'1': True, '9': 0, '18': 503, '19': 545, '20': 1182, '101': 30}}\n",
      "Received data -> {'devId': '16315000c45bbe7da87e', 'dps': {'19': 545}, 't': 1701665413}\n",
      "Received data -> {'devId': '16315000c45bbe7da87e', 'dps': {'20': 1182}, 't': 1701665413}\n",
      "Received data -> {'devId': '16315000c45bbe7da87e', 'dps': {'1': True, '9': 0, '18': 503, '19': 545, '20': 1182, '101': 30}}\n",
      "Received data -> {'devId': '16315000c45bbe7da87e', 'dps': {'1': True, '9': 0, '18': 503, '19': 545, '20': 1182, '101': 30}}\n",
      "Received data -> {'devId': '16315000c45bbe7da87e', 'dps': {'1': True, '9': 0, '18': 503, '19': 545, '20': 1182, '101': 30}}\n",
      "Received data -> {'devId': '16315000c45bbe7da87e', 'dps': {'18': 462}, 't': 1701665418}\n",
      "Received data -> {'devId': '16315000c45bbe7da87e', 'dps': {'19': 502}, 't': 1701665419}\n",
      "Received data -> {'devId': '16315000c45bbe7da87e', 'dps': {'20': 1181}, 't': 1701665419}\n",
      "Received data -> {'devId': '16315000c45bbe7da87e', 'dps': {'1': True, '9': 0, '18': 462, '19': 502, '20': 1181, '101': 30}}\n",
      "Received data -> {'devId': '16315000c45bbe7da87e', 'dps': {'1': True, '9': 0, '18': 462, '19': 502, '20': 1181, '101': 30}}\n",
      "Received data -> {'devId': '16315000c45bbe7da87e', 'dps': {'1': True, '9': 0, '18': 462, '19': 502, '20': 1181, '101': 30}}\n",
      "Received data -> {'devId': '16315000c45bbe7da87e', 'dps': {'18': 489}, 't': 1701665419}\n",
      "Received data -> {'devId': '16315000c45bbe7da87e', 'dps': {'19': 530}, 't': 1701665419}\n",
      "Received data -> {'devId': '16315000c45bbe7da87e', 'dps': {'1': True, '9': 0, '18': 489, '19': 530, '20': 1181, '101': 30}}\n",
      "Received data -> {'devId': '16315000c45bbe7da87e', 'dps': {'1': True, '9': 0, '18': 489, '19': 530, '20': 1181, '101': 30}}\n",
      "Received data -> {'devId': '16315000c45bbe7da87e', 'dps': {'19': 497}, 't': 1701665420}\n",
      "Received data -> {'devId': '16315000c45bbe7da87e', 'dps': {'1': True, '9': 0, '18': 489, '19': 497, '20': 1181, '101': 30}}\n",
      "Received data -> {'devId': '16315000c45bbe7da87e', 'dps': {'18': 481}, 't': 1701665421}\n",
      "Received data -> {'devId': '16315000c45bbe7da87e', 'dps': {'19': 507}, 't': 1701665421}\n",
      "Received data -> {'devId': '16315000c45bbe7da87e', 'dps': {'1': True, '9': 0, '18': 481, '19': 507, '20': 1181, '101': 30}}\n",
      "Received data -> {'devId': '16315000c45bbe7da87e', 'dps': {'1': True, '9': 0, '18': 481, '19': 507, '20': 1181, '101': 30}}\n",
      "Received data -> {'devId': '16315000c45bbe7da87e', 'dps': {'1': True, '9': 0, '18': 481, '19': 507, '20': 1181, '101': 30}}\n",
      "Received data -> {'devId': '16315000c45bbe7da87e', 'dps': {'18': 444}, 't': 1701665426}\n",
      "Received data -> {'devId': '16315000c45bbe7da87e', 'dps': {'1': True, '9': 0, '18': 444, '19': 469, '20': 1181, '101': 30}}\n",
      "Received data -> {'devId': '16315000c45bbe7da87e', 'dps': {'19': 469}, 't': 1701665426}\n",
      "Received data -> {'devId': '16315000c45bbe7da87e', 'dps': {'1': True, '9': 0, '18': 444, '19': 469, '20': 1181, '101': 30}}\n",
      "Received data -> {'devId': '16315000c45bbe7da87e', 'dps': {'18': 424}, 't': 1701665427}\n",
      "Received data -> {'devId': '16315000c45bbe7da87e', 'dps': {'19': 453}, 't': 1701665427}\n",
      "Received data -> {'devId': '16315000c45bbe7da87e', 'dps': {'20': 1182}, 't': 1701665427}\n",
      "Received data -> {'devId': '16315000c45bbe7da87e', 'dps': {'1': True, '9': 0, '18': 424, '19': 453, '20': 1182, '101': 30}}\n",
      "Received data -> {'devId': '16315000c45bbe7da87e', 'dps': {'1': True, '9': 0, '18': 424, '19': 453, '20': 1182, '101': 30}}\n",
      "Received data -> {'devId': '16315000c45bbe7da87e', 'dps': {'1': True, '9': 0, '18': 424, '19': 453, '20': 1182, '101': 30}}\n",
      "Received data -> {'devId': '16315000c45bbe7da87e', 'dps': {'1': True, '9': 0, '18': 424, '19': 453, '20': 1182, '101': 30}}\n",
      "Received data -> {'devId': '16315000c45bbe7da87e', 'dps': {'18': 395}, 't': 1701665432}\n",
      "Received data -> {'devId': '16315000c45bbe7da87e', 'dps': {'1': True, '9': 0, '18': 395, '19': 427, '20': 1182, '101': 30}}\n",
      "Received data -> {'devId': '16315000c45bbe7da87e', 'dps': {'19': 427}, 't': 1701665432}\n",
      "Received data -> {'devId': '16315000c45bbe7da87e', 'dps': {'1': True, '9': 0, '18': 395, '19': 427, '20': 1182, '101': 30}}\n",
      "Received data -> {'devId': '16315000c45bbe7da87e', 'dps': {'1': True, '9': 0, '18': 395, '19': 427, '20': 1182, '101': 30}}\n",
      "Received data -> {'devId': '16315000c45bbe7da87e', 'dps': {'18': 463}, 't': 1701665437}\n",
      "Received data -> {'devId': '16315000c45bbe7da87e', 'dps': {'1': True, '9': 0, '18': 463, '19': 493, '20': 1181, '101': 30}}\n",
      "Received data -> {'devId': '16315000c45bbe7da87e', 'dps': {'19': 493}, 't': 1701665437}\n",
      "Received data -> {'devId': '16315000c45bbe7da87e', 'dps': {'20': 1181}, 't': 1701665437}\n",
      "Received data -> {'devId': '16315000c45bbe7da87e', 'dps': {'1': True, '9': 0, '18': 463, '19': 493, '20': 1181, '101': 30}}\n",
      "Received data -> {'devId': '16315000c45bbe7da87e', 'dps': {'1': True, '9': 0, '18': 463, '19': 493, '20': 1181, '101': 30}}\n",
      "Received data -> {'devId': '16315000c45bbe7da87e', 'dps': {'18': 504}, 't': 1701665438}\n",
      "Received data -> {'devId': '16315000c45bbe7da87e', 'dps': {'19': 533}, 't': 1701665438}\n",
      "Received data -> {'devId': '16315000c45bbe7da87e', 'dps': {'1': True, '9': 0, '18': 504, '19': 533, '20': 1181, '101': 30}}\n",
      "Received data -> {'devId': '16315000c45bbe7da87e', 'dps': {'1': True, '9': 0, '18': 504, '19': 533, '20': 1181, '101': 30}}\n",
      "Received data -> {'devId': '16315000c45bbe7da87e', 'dps': {'1': True, '9': 0, '18': 504, '19': 533, '20': 1181, '101': 30}}\n",
      "Received data -> {'devId': '16315000c45bbe7da87e', 'dps': {'18': 449}, 't': 1701665443}\n",
      "Received data -> {'devId': '16315000c45bbe7da87e', 'dps': {'1': True, '9': 0, '18': 449, '19': 472, '20': 1182, '101': 30}}\n",
      "Received data -> {'devId': '16315000c45bbe7da87e', 'dps': {'19': 472}, 't': 1701665443}\n",
      "Received data -> {'devId': '16315000c45bbe7da87e', 'dps': {'20': 1182}, 't': 1701665443}\n",
      "Received data -> {'devId': '16315000c45bbe7da87e', 'dps': {'1': True, '9': 0, '18': 449, '19': 472, '20': 1182, '101': 30}}\n",
      "Received data -> {'devId': '16315000c45bbe7da87e', 'dps': {'1': True, '9': 0, '18': 449, '19': 472, '20': 1182, '101': 30}}\n",
      "Received data -> {'devId': '16315000c45bbe7da87e', 'dps': {'1': True, '9': 0, '18': 449, '19': 472, '20': 1182, '101': 30}}\n",
      "Received data -> {'devId': '16315000c45bbe7da87e', 'dps': {'18': 784}, 't': 1701665448}\n",
      "Received data -> {'devId': '16315000c45bbe7da87e', 'dps': {'19': 883}, 't': 1701665449}\n",
      "Received data -> {'devId': '16315000c45bbe7da87e', 'dps': {'1': True, '9': 0, '18': 784, '19': 883, '20': 1180, '101': 30}}\n",
      "Received data -> {'devId': '16315000c45bbe7da87e', 'dps': {'20': 1180}, 't': 1701665449}\n",
      "Received data -> {'devId': '16315000c45bbe7da87e', 'dps': {'1': True, '9': 0, '18': 784, '19': 883, '20': 1180, '101': 30}}\n",
      "Received data -> {'devId': '16315000c45bbe7da87e', 'dps': {'1': True, '9': 0, '18': 784, '19': 883, '20': 1180, '101': 30}}\n",
      "Received data -> {'devId': '16315000c45bbe7da87e', 'dps': {'18': 532}, 't': 1701665449}\n",
      "Received data -> {'devId': '16315000c45bbe7da87e', 'dps': {'19': 582}, 't': 1701665449}\n",
      "Received data -> {'devId': '16315000c45bbe7da87e', 'dps': {'1': True, '9': 0, '18': 532, '19': 582, '20': 1182, '101': 30}}\n",
      "Received data -> {'devId': '16315000c45bbe7da87e', 'dps': {'20': 1182}, 't': 1701665449}\n",
      "Received data -> {'devId': '16315000c45bbe7da87e', 'dps': {'1': True, '9': 0, '18': 532, '19': 582, '20': 1182, '101': 30}}\n",
      "Received data -> {'devId': '16315000c45bbe7da87e', 'dps': {'1': True, '9': 0, '18': 532, '19': 582, '20': 1182, '101': 30}}\n",
      "Received data -> {'devId': '16315000c45bbe7da87e', 'dps': {'19': 464}, 't': 1701665450}\n",
      "Received data -> {'devId': '16315000c45bbe7da87e', 'dps': {'1': True, '9': 0, '18': 532, '19': 464, '20': 1182, '101': 30}}\n",
      "Received data -> {'devId': '16315000c45bbe7da87e', 'dps': {'18': 433}, 't': 1701665451}\n",
      "Received data -> {'devId': '16315000c45bbe7da87e', 'dps': {'1': True, '9': 0, '18': 433, '19': 464, '20': 1183, '101': 30}}\n",
      "Received data -> {'devId': '16315000c45bbe7da87e', 'dps': {'20': 1183}, 't': 1701665451}\n",
      "Received data -> {'devId': '16315000c45bbe7da87e', 'dps': {'1': True, '9': 0, '18': 433, '19': 464, '20': 1183, '101': 30}}\n",
      "Received data -> {'devId': '16315000c45bbe7da87e', 'dps': {'1': True, '9': 0, '18': 433, '19': 464, '20': 1183, '101': 30}}\n",
      "Received data -> {'devId': '16315000c45bbe7da87e', 'dps': {'18': 428}, 't': 1701665456}\n",
      "Received data -> {'devId': '16315000c45bbe7da87e', 'dps': {'1': True, '9': 0, '18': 428, '19': 464, '20': 1183, '101': 30}}\n",
      "Received data -> {'devId': '16315000c45bbe7da87e', 'dps': {'1': True, '9': 0, '18': 428, '19': 464, '20': 1183, '101': 30}}\n",
      "Received data -> {'devId': '16315000c45bbe7da87e', 'dps': {'18': 412}, 't': 1701665461}\n",
      "Received data -> {'devId': '16315000c45bbe7da87e', 'dps': {'1': True, '9': 0, '18': 412, '19': 446, '20': 1183, '101': 30}}\n",
      "Received data -> {'devId': '16315000c45bbe7da87e', 'dps': {'19': 446}, 't': 1701665462}\n",
      "Received data -> {'devId': '16315000c45bbe7da87e', 'dps': {'1': True, '9': 0, '18': 412, '19': 446, '20': 1183, '101': 30}}\n",
      "Received data -> {'devId': '16315000c45bbe7da87e', 'dps': {'18': 452}, 't': 1701665462}\n",
      "Received data -> {'devId': '16315000c45bbe7da87e', 'dps': {'19': 488}, 't': 1701665462}\n",
      "Received data -> {'devId': '16315000c45bbe7da87e', 'dps': {'1': True, '9': 0, '18': 452, '19': 488, '20': 1183, '101': 30}}\n",
      "Received data -> {'devId': '16315000c45bbe7da87e', 'dps': {'1': True, '9': 0, '18': 452, '19': 488, '20': 1183, '101': 30}}\n",
      "Received data -> {'devId': '16315000c45bbe7da87e', 'dps': {'1': True, '9': 0, '18': 452, '19': 488, '20': 1183, '101': 30}}\n",
      "Received data -> {'devId': '16315000c45bbe7da87e', 'dps': {'18': 474}, 't': 1701665467}\n",
      "Received data -> {'devId': '16315000c45bbe7da87e', 'dps': {'1': True, '9': 0, '18': 474, '19': 514, '20': 1182, '101': 30}}\n",
      "Received data -> {'devId': '16315000c45bbe7da87e', 'dps': {'19': 514}, 't': 1701665467}\n",
      "Received data -> {'devId': '16315000c45bbe7da87e', 'dps': {'20': 1182}, 't': 1701665467}\n",
      "Received data -> {'devId': '16315000c45bbe7da87e', 'dps': {'1': True, '9': 0, '18': 474, '19': 514, '20': 1182, '101': 30}}\n",
      "Received data -> {'devId': '16315000c45bbe7da87e', 'dps': {'1': True, '9': 0, '18': 474, '19': 514, '20': 1182, '101': 30}}\n",
      "Received data -> {'devId': '16315000c45bbe7da87e', 'dps': {'18': 446}, 't': 1701665468}\n",
      "Received data -> {'devId': '16315000c45bbe7da87e', 'dps': {'19': 480}, 't': 1701665468}\n",
      "Received data -> {'devId': '16315000c45bbe7da87e', 'dps': {'1': True, '9': 0, '18': 446, '19': 480, '20': 1182, '101': 30}}\n",
      "Received data -> {'devId': '16315000c45bbe7da87e', 'dps': {'1': True, '9': 0, '18': 446, '19': 480, '20': 1182, '101': 30}}\n",
      "Received data -> {'devId': '16315000c45bbe7da87e', 'dps': {'1': True, '9': 0, '18': 446, '19': 480, '20': 1182, '101': 30}}\n",
      "Received data -> {'devId': '16315000c45bbe7da87e', 'dps': {'18': 397}, 't': 1701665473}\n",
      "Received data -> {'devId': '16315000c45bbe7da87e', 'dps': {'19': 431}, 't': 1701665473}\n",
      "Received data -> {'devId': '16315000c45bbe7da87e', 'dps': {'1': True, '9': 0, '18': 397, '19': 431, '20': 1182, '101': 30}}\n",
      "Received data -> {'devId': '16315000c45bbe7da87e', 'dps': {'1': True, '9': 0, '18': 397, '19': 431, '20': 1182, '101': 30}}\n",
      "Received data -> {'devId': '16315000c45bbe7da87e', 'dps': {'1': True, '9': 0, '18': 397, '19': 431, '20': 1182, '101': 30}}\n",
      "Received data -> {'devId': '16315000c45bbe7da87e', 'dps': {'18': 392}, 't': 1701665478}\n",
      "Received data -> {'devId': '16315000c45bbe7da87e', 'dps': {'1': True, '9': 0, '18': 392, '19': 425, '20': 1183, '101': 30}}\n",
      "Received data -> {'devId': '16315000c45bbe7da87e', 'dps': {'19': 425}, 't': 1701665478}\n",
      "Received data -> {'devId': '16315000c45bbe7da87e', 'dps': {'20': 1183}, 't': 1701665478}\n",
      "Received data -> {'devId': '16315000c45bbe7da87e', 'dps': {'1': True, '9': 0, '18': 392, '19': 425, '20': 1183, '101': 30}}\n",
      "Received data -> {'devId': '16315000c45bbe7da87e', 'dps': {'1': True, '9': 0, '18': 392, '19': 425, '20': 1183, '101': 30}}\n",
      "Received data -> {'devId': '16315000c45bbe7da87e', 'dps': {'18': 423}, 't': 1701665479}\n",
      "Received data -> {'devId': '16315000c45bbe7da87e', 'dps': {'19': 456}, 't': 1701665479}\n",
      "Received data -> {'devId': '16315000c45bbe7da87e', 'dps': {'1': True, '9': 0, '18': 423, '19': 456, '20': 1183, '101': 30}}\n",
      "Received data -> {'devId': '16315000c45bbe7da87e', 'dps': {'1': True, '9': 0, '18': 423, '19': 456, '20': 1183, '101': 30}}\n",
      "Received data -> {'devId': '16315000c45bbe7da87e', 'dps': {'19': 544}, 't': 1701665480}\n",
      "Received data -> {'devId': '16315000c45bbe7da87e', 'dps': {'1': True, '9': 0, '18': 423, '19': 544, '20': 1183, '101': 30}}\n",
      "Received data -> {'devId': '16315000c45bbe7da87e', 'dps': {'18': 503}, 't': 1701665481}\n",
      "Received data -> {'devId': '16315000c45bbe7da87e', 'dps': {'1': True, '9': 0, '18': 503, '19': 544, '20': 1183, '101': 30}}\n",
      "Received data -> {'devId': '16315000c45bbe7da87e', 'dps': {'1': True, '9': 0, '18': 503, '19': 544, '20': 1183, '101': 30}}\n",
      "Received data -> {'devId': '16315000c45bbe7da87e', 'dps': {'18': 401}, 't': 1701665486}\n",
      "Received data -> {'devId': '16315000c45bbe7da87e', 'dps': {'1': True, '9': 0, '18': 401, '19': 431, '20': 1183, '101': 30}}\n",
      "Received data -> {'devId': '16315000c45bbe7da87e', 'dps': {'19': 431}, 't': 1701665486}\n",
      "Received data -> {'devId': '16315000c45bbe7da87e', 'dps': {'1': True, '9': 0, '18': 401, '19': 431, '20': 1183, '101': 30}}\n",
      "Received data -> {'devId': '16315000c45bbe7da87e', 'dps': {'18': 376}, 't': 1701665487}\n",
      "Received data -> {'devId': '16315000c45bbe7da87e', 'dps': {'19': 407}, 't': 1701665487}\n",
      "Received data -> {'devId': '16315000c45bbe7da87e', 'dps': {'1': True, '9': 0, '18': 376, '19': 407, '20': 1183, '101': 30}}\n",
      "Received data -> {'devId': '16315000c45bbe7da87e', 'dps': {'1': True, '9': 0, '18': 376, '19': 407, '20': 1183, '101': 30}}\n",
      "Received data -> {'devId': '16315000c45bbe7da87e', 'dps': {'1': True, '9': 0, '18': 376, '19': 407, '20': 1183, '101': 30}}\n",
      "Received data -> {'devId': '16315000c45bbe7da87e', 'dps': {'18': 397}, 't': 1701665492}\n",
      "Received data -> {'devId': '16315000c45bbe7da87e', 'dps': {'1': True, '9': 0, '18': 397, '19': 431, '20': 1184, '101': 30}}\n",
      "Received data -> {'devId': '16315000c45bbe7da87e', 'dps': {'19': 431}, 't': 1701665492}\n",
      "Received data -> {'devId': '16315000c45bbe7da87e', 'dps': {'20': 1184}, 't': 1701665492}\n",
      "Received data -> {'devId': '16315000c45bbe7da87e', 'dps': {'1': True, '9': 0, '18': 397, '19': 431, '20': 1184, '101': 30}}\n",
      "Received data -> {'devId': '16315000c45bbe7da87e', 'dps': {'1': True, '9': 0, '18': 397, '19': 431, '20': 1184, '101': 30}}\n",
      "Received data -> {'devId': '16315000c45bbe7da87e', 'dps': {'1': True, '9': 0, '18': 397, '19': 431, '20': 1184, '101': 30}}\n",
      "Received data -> {'devId': '16315000c45bbe7da87e', 'dps': {'18': 392}, 't': 1701665497}\n",
      "Received data -> {'devId': '16315000c45bbe7da87e', 'dps': {'1': True, '9': 0, '18': 392, '19': 429, '20': 1184, '101': 30}}\n",
      "Received data -> {'devId': '16315000c45bbe7da87e', 'dps': {'19': 429}, 't': 1701665497}\n",
      "Received data -> {'devId': '16315000c45bbe7da87e', 'dps': {'1': True, '9': 0, '18': 392, '19': 429, '20': 1184, '101': 30}}\n",
      "Received data -> {'devId': '16315000c45bbe7da87e', 'dps': {'18': 689}, 't': 1701665498}\n",
      "Received data -> {'devId': '16315000c45bbe7da87e', 'dps': {'19': 737}, 't': 1701665498}\n",
      "Received data -> {'devId': '16315000c45bbe7da87e', 'dps': {'1': True, '9': 0, '18': 689, '19': 737, '20': 1181, '101': 30}}\n",
      "Received data -> {'devId': '16315000c45bbe7da87e', 'dps': {'20': 1181}, 't': 1701665498}\n",
      "Received data -> {'devId': '16315000c45bbe7da87e', 'dps': {'1': True, '9': 0, '18': 689, '19': 737, '20': 1181, '101': 30}}\n",
      "Received data -> {'devId': '16315000c45bbe7da87e', 'dps': {'1': True, '9': 0, '18': 689, '19': 737, '20': 1181, '101': 30}}\n",
      "Received data -> {'devId': '16315000c45bbe7da87e', 'dps': {'1': True, '9': 0, '18': 689, '19': 737, '20': 1181, '101': 30}}\n",
      "Received data -> {'devId': '16315000c45bbe7da87e', 'dps': {'18': 669}, 't': 1701665503}\n",
      "Received data -> {'devId': '16315000c45bbe7da87e', 'dps': {'19': 758}, 't': 1701665503}\n",
      "Received data -> {'devId': '16315000c45bbe7da87e', 'dps': {'1': True, '9': 0, '18': 669, '19': 758, '20': 1183, '101': 30}}\n",
      "Received data -> {'devId': '16315000c45bbe7da87e', 'dps': {'20': 1183}, 't': 1701665503}\n",
      "Received data -> {'devId': '16315000c45bbe7da87e', 'dps': {'1': True, '9': 0, '18': 669, '19': 758, '20': 1183, '101': 30}}\n",
      "Received data -> {'devId': '16315000c45bbe7da87e', 'dps': {'1': True, '9': 0, '18': 669, '19': 758, '20': 1183, '101': 30}}\n",
      "Received data -> {'devId': '16315000c45bbe7da87e', 'dps': {'1': True, '9': 0, '18': 669, '19': 758, '20': 1183, '101': 30}}\n",
      "Received data -> {'devId': '16315000c45bbe7da87e', 'dps': {'18': 417}, 't': 1701665508}\n",
      "Received data -> {'devId': '16315000c45bbe7da87e', 'dps': {'1': True, '9': 0, '18': 417, '19': 449, '20': 1184, '101': 30}}\n",
      "Received data -> {'devId': '16315000c45bbe7da87e', 'dps': {'19': 449}, 't': 1701665509}\n",
      "Received data -> {'devId': '16315000c45bbe7da87e', 'dps': {'20': 1184}, 't': 1701665509}\n",
      "Received data -> {'devId': '16315000c45bbe7da87e', 'dps': {'1': True, '9': 0, '18': 417, '19': 449, '20': 1184, '101': 30}}\n",
      "Received data -> {'devId': '16315000c45bbe7da87e', 'dps': {'1': True, '9': 0, '18': 417, '19': 449, '20': 1184, '101': 30}}\n",
      "Received data -> {'devId': '16315000c45bbe7da87e', 'dps': {'18': 634}, 't': 1701665509}\n",
      "Received data -> {'devId': '16315000c45bbe7da87e', 'dps': {'1': True, '9': 0, '18': 634, '19': 449, '20': 1184, '101': 30}}\n",
      "Received data -> {'devId': '16315000c45bbe7da87e', 'dps': {'19': 702}, 't': 1701665510}\n",
      "Received data -> {'devId': '16315000c45bbe7da87e', 'dps': {'1': True, '9': 0, '18': 634, '19': 702, '20': 1183, '101': 30}}\n",
      "Received data -> {'devId': '16315000c45bbe7da87e', 'dps': {'20': 1183}, 't': 1701665510}\n",
      "Received data -> {'devId': '16315000c45bbe7da87e', 'dps': {'1': True, '9': 0, '18': 634, '19': 702, '20': 1183, '101': 30}}\n",
      "Received data -> {'devId': '16315000c45bbe7da87e', 'dps': {'20': 1184}, 't': 1701665511}\n",
      "Received data -> {'devId': '16315000c45bbe7da87e', 'dps': {'1': True, '9': 0, '18': 634, '19': 702, '20': 1184, '101': 30}}\n",
      "Received data -> {'devId': '16315000c45bbe7da87e', 'dps': {'18': 438}, 't': 1701665512}\n",
      "Received data -> {'devId': '16315000c45bbe7da87e', 'dps': {'1': True, '9': 0, '18': 438, '19': 479, '20': 1184, '101': 30}}\n",
      "Received data -> {'devId': '16315000c45bbe7da87e', 'dps': {'19': 479}, 't': 1701665512}\n",
      "Received data -> {'devId': '16315000c45bbe7da87e', 'dps': {'1': True, '9': 0, '18': 438, '19': 479, '20': 1184, '101': 30}}\n",
      "Received data -> {'devId': '16315000c45bbe7da87e', 'dps': {'1': True, '9': 0, '18': 438, '19': 479, '20': 1184, '101': 30}}\n",
      "Received data -> {'devId': '16315000c45bbe7da87e', 'dps': {'18': 476}, 't': 1701665517}\n",
      "Received data -> {'devId': '16315000c45bbe7da87e', 'dps': {'1': True, '9': 0, '18': 476, '19': 512, '20': 1184, '101': 30}}\n",
      "Received data -> {'devId': '16315000c45bbe7da87e', 'dps': {'19': 512}, 't': 1701665517}\n",
      "Received data -> {'devId': '16315000c45bbe7da87e', 'dps': {'1': True, '9': 0, '18': 476, '19': 512, '20': 1184, '101': 30}}\n",
      "Received data -> {'devId': '16315000c45bbe7da87e', 'dps': {'1': True, '9': 0, '18': 476, '19': 512, '20': 1184, '101': 30}}\n",
      "Received data -> {'devId': '16315000c45bbe7da87e', 'dps': {'18': 370}, 't': 1701665522}\n",
      "Received data -> {'devId': '16315000c45bbe7da87e', 'dps': {'1': True, '9': 0, '18': 370, '19': 399, '20': 1184, '101': 30}}\n",
      "Received data -> {'devId': '16315000c45bbe7da87e', 'dps': {'19': 399}, 't': 1701665522}\n",
      "Received data -> {'devId': '16315000c45bbe7da87e', 'dps': {'1': True, '9': 0, '18': 370, '19': 399, '20': 1184, '101': 30}}\n",
      "Received data -> {'devId': '16315000c45bbe7da87e', 'dps': {'18': 385}, 't': 1701665523}\n",
      "Received data -> {'devId': '16315000c45bbe7da87e', 'dps': {'19': 415}, 't': 1701665523}\n",
      "Received data -> {'devId': '16315000c45bbe7da87e', 'dps': {'1': True, '9': 0, '18': 385, '19': 415, '20': 1184, '101': 30}}\n",
      "Received data -> {'devId': '16315000c45bbe7da87e', 'dps': {'1': True, '9': 0, '18': 385, '19': 415, '20': 1184, '101': 30}}\n",
      "Received data -> {'devId': '16315000c45bbe7da87e', 'dps': {'1': True, '9': 0, '18': 385, '19': 415, '20': 1184, '101': 30}}\n",
      "Received data -> {'devId': '16315000c45bbe7da87e', 'dps': {'18': 390}, 't': 1701665528}\n"
     ]
    }
   ],
   "source": [
    "# We can make an infinite loop or define some condition\n",
    "while(len(log) <= 300):\n",
    "\n",
    "    # Query the device mesuared data\n",
    "    payload = device.generate_payload(tinytuya.DP_QUERY)\n",
    "    device.send(payload)\n",
    "\n",
    "    # Receive new data. Can be \"None\"\n",
    "    data = device.receive()\n",
    "\n",
    "    # See if any new data is available\n",
    "    if data:\n",
    "        formatted_data = format_device_response(data)\n",
    "        log.loc[len(log)] = formatted_data\n",
    "        print('Received data -> %r' % data)\n",
    "\n",
    "    # Request to refresh the data points \n",
    "    payload = device.generate_payload(tinytuya.UPDATEDPS, ['18', '19', '20', '101', '1'])\n",
    "    device.send(payload)\n",
    "    \n",
    "    # Receive new data. Can be \"None\"\n",
    "    data = device.receive()\n",
    "    \n",
    "    # See if any new data is available\n",
    "    if data:\n",
    "        data = dict(data)\n",
    "        ct = datetime.datetime.now()\n",
    "        formatted_data = format_device_response(data)\n",
    "        print('Received data -> %r' % data)\n",
    "        log.loc[len(log)] = formatted_data"
   ]
  },
  {
   "cell_type": "markdown",
   "metadata": {},
   "source": [
    "#### 03.4. Clean and save the data"
   ]
  },
  {
   "cell_type": "code",
   "execution_count": 18,
   "metadata": {},
   "outputs": [],
   "source": [
    "# Cleaning the missing data\n",
    "log = log[(log.power != -1) & (log.current != -1) & (log.voltage != -1)]\n",
    "\n",
    "# Save the collected data\n",
    "LOG_FILENAME = '../collected_data/2023_12_04_computer_consumption.csv'\n",
    "log.to_csv(LOG_FILENAME, index=False)"
   ]
  },
  {
   "cell_type": "markdown",
   "metadata": {},
   "source": [
    "### 04. Analysing the results\n",
    "\n",
    "With the dataframe collected we can visualize the results in tables and charts."
   ]
  },
  {
   "cell_type": "code",
   "execution_count": 19,
   "metadata": {},
   "outputs": [
    {
     "data": {
      "text/html": [
       "<div>\n",
       "<style scoped>\n",
       "    .dataframe tbody tr th:only-of-type {\n",
       "        vertical-align: middle;\n",
       "    }\n",
       "\n",
       "    .dataframe tbody tr th {\n",
       "        vertical-align: top;\n",
       "    }\n",
       "\n",
       "    .dataframe thead th {\n",
       "        text-align: right;\n",
       "    }\n",
       "</style>\n",
       "<table border=\"1\" class=\"dataframe\">\n",
       "  <thead>\n",
       "    <tr style=\"text-align: right;\">\n",
       "      <th></th>\n",
       "      <th>timestamp</th>\n",
       "      <th>current</th>\n",
       "      <th>power</th>\n",
       "      <th>voltage</th>\n",
       "      <th>temperature</th>\n",
       "      <th>is_on</th>\n",
       "    </tr>\n",
       "  </thead>\n",
       "  <tbody>\n",
       "    <tr>\n",
       "      <th>0</th>\n",
       "      <td>2023-12-04 01:46:46.721023</td>\n",
       "      <td>409</td>\n",
       "      <td>464</td>\n",
       "      <td>1181</td>\n",
       "      <td>30</td>\n",
       "      <td>1</td>\n",
       "    </tr>\n",
       "    <tr>\n",
       "      <th>1</th>\n",
       "      <td>2023-12-04 01:46:46.996234</td>\n",
       "      <td>380</td>\n",
       "      <td>404</td>\n",
       "      <td>1181</td>\n",
       "      <td>30</td>\n",
       "      <td>1</td>\n",
       "    </tr>\n",
       "    <tr>\n",
       "      <th>2</th>\n",
       "      <td>2023-12-04 01:46:47.052390</td>\n",
       "      <td>380</td>\n",
       "      <td>404</td>\n",
       "      <td>1181</td>\n",
       "      <td>30</td>\n",
       "      <td>1</td>\n",
       "    </tr>\n",
       "    <tr>\n",
       "      <th>3</th>\n",
       "      <td>2023-12-04 01:46:52.116230</td>\n",
       "      <td>380</td>\n",
       "      <td>404</td>\n",
       "      <td>1181</td>\n",
       "      <td>30</td>\n",
       "      <td>1</td>\n",
       "    </tr>\n",
       "    <tr>\n",
       "      <th>4</th>\n",
       "      <td>2023-12-04 01:46:52.368182</td>\n",
       "      <td>385</td>\n",
       "      <td>413</td>\n",
       "      <td>1181</td>\n",
       "      <td>30</td>\n",
       "      <td>1</td>\n",
       "    </tr>\n",
       "  </tbody>\n",
       "</table>\n",
       "</div>"
      ],
      "text/plain": [
       "                    timestamp  current  power  voltage  temperature  is_on\n",
       "0  2023-12-04 01:46:46.721023      409    464     1181           30      1\n",
       "1  2023-12-04 01:46:46.996234      380    404     1181           30      1\n",
       "2  2023-12-04 01:46:47.052390      380    404     1181           30      1\n",
       "3  2023-12-04 01:46:52.116230      380    404     1181           30      1\n",
       "4  2023-12-04 01:46:52.368182      385    413     1181           30      1"
      ]
     },
     "execution_count": 19,
     "metadata": {},
     "output_type": "execute_result"
    }
   ],
   "source": [
    "log = pd.read_csv(LOG_FILENAME)\n",
    "log.head()"
   ]
  },
  {
   "cell_type": "markdown",
   "metadata": {},
   "source": [
    "#### 04.1. Plotting the time evolution of the power value"
   ]
  },
  {
   "cell_type": "code",
   "execution_count": 22,
   "metadata": {},
   "outputs": [
    {
     "data": {
      "application/vnd.plotly.v1+json": {
       "config": {
        "plotlyServerURL": "https://plot.ly"
       },
       "data": [
        {
         "hovertemplate": "Timestamp (HH:MM:SS)=%{x}<br>Potência (W)=%{y}<extra></extra>",
         "legendgroup": "",
         "line": {
          "color": "#636efa",
          "dash": "solid"
         },
         "marker": {
          "symbol": "circle"
         },
         "mode": "lines",
         "name": "",
         "orientation": "v",
         "showlegend": false,
         "type": "scatter",
         "x": [
          "2023-12-04 01:46:46.721023",
          "2023-12-04 01:46:46.996234",
          "2023-12-04 01:46:47.052390",
          "2023-12-04 01:46:52.116230",
          "2023-12-04 01:46:52.368182",
          "2023-12-04 01:46:52.401817",
          "2023-12-04 01:46:57.544349",
          "2023-12-04 01:46:57.832357",
          "2023-12-04 01:46:57.905349",
          "2023-12-04 01:46:57.936764",
          "2023-12-04 01:47:03.074036",
          "2023-12-04 01:47:03.337810",
          "2023-12-04 01:47:03.380952",
          "2023-12-04 01:47:08.602108",
          "2023-12-04 01:47:08.858157",
          "2023-12-04 01:47:08.923261",
          "2023-12-04 01:47:08.956758",
          "2023-12-04 01:47:13.631589",
          "2023-12-04 01:47:13.948022",
          "2023-12-04 01:47:13.981180",
          "2023-12-04 01:47:15.630280",
          "2023-12-04 01:47:15.937792",
          "2023-12-04 01:47:15.970804",
          "2023-12-04 01:47:21.198736",
          "2023-12-04 01:47:21.498124",
          "2023-12-04 01:47:21.530361",
          "2023-12-04 01:47:21.824373",
          "2023-12-04 01:47:21.881260",
          "2023-12-04 01:47:26.946158",
          "2023-12-04 01:47:27.225263",
          "2023-12-04 01:47:27.257189",
          "2023-12-04 01:47:32.313357",
          "2023-12-04 01:47:32.605124",
          "2023-12-04 01:47:32.639449",
          "2023-12-04 01:47:32.868515",
          "2023-12-04 01:47:32.899620",
          "2023-12-04 01:47:38.095667",
          "2023-12-04 01:47:38.368821",
          "2023-12-04 01:47:38.421091",
          "2023-12-04 01:47:38.788492",
          "2023-12-04 01:47:38.828865",
          "2023-12-04 01:47:38.862195",
          "2023-12-04 01:47:43.616927",
          "2023-12-04 01:47:43.885029",
          "2023-12-04 01:47:43.938598",
          "2023-12-04 01:47:44.620414",
          "2023-12-04 01:47:44.903092",
          "2023-12-04 01:47:44.962538",
          "2023-12-04 01:47:50.076396",
          "2023-12-04 01:47:50.360915",
          "2023-12-04 01:47:50.431921",
          "2023-12-04 01:47:50.463245",
          "2023-12-04 01:47:50.762241",
          "2023-12-04 01:47:50.831321",
          "2023-12-04 01:47:55.883677",
          "2023-12-04 01:47:56.139829",
          "2023-12-04 01:47:56.171885",
          "2023-12-04 01:48:01.236162",
          "2023-12-04 01:48:01.515814",
          "2023-12-04 01:48:01.566970",
          "2023-12-04 01:48:01.815409",
          "2023-12-04 01:48:01.849928",
          "2023-12-04 01:48:06.974032",
          "2023-12-04 01:48:07.224144",
          "2023-12-04 01:48:07.280250",
          "2023-12-04 01:48:07.313244",
          "2023-12-04 01:48:12.369975",
          "2023-12-04 01:48:12.652992",
          "2023-12-04 01:48:12.683105",
          "2023-12-04 01:48:12.717569",
          "2023-12-04 01:48:12.906894",
          "2023-12-04 01:48:12.940237",
          "2023-12-04 01:48:14.580321",
          "2023-12-04 01:48:14.867346",
          "2023-12-04 01:48:14.899295",
          "2023-12-04 01:48:20.178682",
          "2023-12-04 01:48:20.444984",
          "2023-12-04 01:48:20.501586",
          "2023-12-04 01:48:20.743041",
          "2023-12-04 01:48:20.771274",
          "2023-12-04 01:48:20.809323",
          "2023-12-04 01:48:25.870152",
          "2023-12-04 01:48:26.145974",
          "2023-12-04 01:48:26.200275",
          "2023-12-04 01:48:31.266479",
          "2023-12-04 01:48:31.550186",
          "2023-12-04 01:48:31.624358",
          "2023-12-04 01:48:31.656612",
          "2023-12-04 01:48:31.840560",
          "2023-12-04 01:48:31.878858",
          "2023-12-04 01:48:36.939146",
          "2023-12-04 01:48:37.216443",
          "2023-12-04 01:48:37.279304",
          "2023-12-04 01:48:37.312137",
          "2023-12-04 01:48:42.367704",
          "2023-12-04 01:48:42.633227",
          "2023-12-04 01:48:42.677419",
          "2023-12-04 01:48:42.711519",
          "2023-12-04 01:48:42.926616",
          "2023-12-04 01:48:42.972683",
          "2023-12-04 01:48:43.011132",
          "2023-12-04 01:48:44.541163",
          "2023-12-04 01:48:44.822660",
          "2023-12-04 01:48:44.867811",
          "2023-12-04 01:48:49.977823",
          "2023-12-04 01:48:50.265725",
          "2023-12-04 01:48:55.327981",
          "2023-12-04 01:48:55.596934",
          "2023-12-04 01:48:55.644224",
          "2023-12-04 01:48:55.897364",
          "2023-12-04 01:48:55.930367",
          "2023-12-04 01:49:00.986309",
          "2023-12-04 01:49:01.267234",
          "2023-12-04 01:49:01.335799",
          "2023-12-04 01:49:01.368408",
          "2023-12-04 01:49:01.645043",
          "2023-12-04 01:49:01.695394",
          "2023-12-04 01:49:06.872343",
          "2023-12-04 01:49:07.142026",
          "2023-12-04 01:49:07.175772",
          "2023-12-04 01:49:12.228085",
          "2023-12-04 01:49:12.505946",
          "2023-12-04 01:49:12.564590",
          "2023-12-04 01:49:12.599914",
          "2023-12-04 01:49:12.796872",
          "2023-12-04 01:49:12.829877",
          "2023-12-04 01:49:14.522283",
          "2023-12-04 01:49:14.809433",
          "2023-12-04 01:49:20.083938",
          "2023-12-04 01:49:20.329082",
          "2023-12-04 01:49:20.388775",
          "2023-12-04 01:49:20.723558",
          "2023-12-04 01:49:20.756611",
          "2023-12-04 01:49:25.822468",
          "2023-12-04 01:49:26.096817",
          "2023-12-04 01:49:26.156613",
          "2023-12-04 01:49:26.188957",
          "2023-12-04 01:49:31.242205",
          "2023-12-04 01:49:31.528311",
          "2023-12-04 01:49:31.577403",
          "2023-12-04 01:49:31.808511",
          "2023-12-04 01:49:31.849664",
          "2023-12-04 01:49:31.887775",
          "2023-12-04 01:49:36.942024",
          "2023-12-04 01:49:37.198687",
          "2023-12-04 01:49:37.253629",
          "2023-12-04 01:49:37.287637",
          "2023-12-04 01:49:42.339023",
          "2023-12-04 01:49:42.626337",
          "2023-12-04 01:49:42.702057",
          "2023-12-04 01:49:42.737063",
          "2023-12-04 01:49:43.499061",
          "2023-12-04 01:49:43.781692",
          "2023-12-04 01:49:43.845697",
          "2023-12-04 01:49:45.477421",
          "2023-12-04 01:49:45.744872",
          "2023-12-04 01:49:45.791529",
          "2023-12-04 01:49:50.861628",
          "2023-12-04 01:49:51.135009",
          "2023-12-04 01:49:51.194225",
          "2023-12-04 01:49:56.257637",
          "2023-12-04 01:49:56.515086",
          "2023-12-04 01:49:56.574820",
          "2023-12-04 01:49:56.795208",
          "2023-12-04 01:49:56.829017",
          "2023-12-04 01:50:02.065536"
         ],
         "xaxis": "x",
         "y": [
          464,
          404,
          404,
          404,
          413,
          413,
          413,
          418,
          418,
          418,
          418,
          394,
          394,
          394,
          422,
          422,
          422,
          422,
          407,
          407,
          407,
          412,
          412,
          412,
          408,
          408,
          421,
          421,
          421,
          411,
          411,
          411,
          405,
          405,
          394,
          394,
          394,
          415,
          415,
          408,
          408,
          408,
          408,
          418,
          418,
          407,
          407,
          407,
          407,
          418,
          418,
          418,
          419,
          419,
          419,
          406,
          406,
          406,
          401,
          401,
          458,
          458,
          458,
          545,
          545,
          545,
          545,
          502,
          502,
          502,
          530,
          530,
          497,
          507,
          507,
          507,
          469,
          469,
          453,
          453,
          453,
          453,
          427,
          427,
          427,
          493,
          493,
          493,
          533,
          533,
          533,
          472,
          472,
          472,
          472,
          883,
          883,
          883,
          582,
          582,
          582,
          464,
          464,
          464,
          464,
          464,
          464,
          446,
          446,
          488,
          488,
          488,
          514,
          514,
          514,
          480,
          480,
          480,
          431,
          431,
          431,
          425,
          425,
          425,
          456,
          456,
          544,
          544,
          544,
          431,
          431,
          407,
          407,
          407,
          431,
          431,
          431,
          431,
          429,
          429,
          737,
          737,
          737,
          737,
          758,
          758,
          758,
          758,
          449,
          449,
          449,
          449,
          702,
          702,
          702,
          479,
          479,
          479,
          512,
          512,
          512,
          399,
          399,
          415,
          415,
          415
         ],
         "yaxis": "y"
        }
       ],
       "layout": {
        "legend": {
         "tracegroupgap": 0
        },
        "template": {
         "data": {
          "bar": [
           {
            "error_x": {
             "color": "#f2f5fa"
            },
            "error_y": {
             "color": "#f2f5fa"
            },
            "marker": {
             "line": {
              "color": "rgb(17,17,17)",
              "width": 0.5
             },
             "pattern": {
              "fillmode": "overlay",
              "size": 10,
              "solidity": 0.2
             }
            },
            "type": "bar"
           }
          ],
          "barpolar": [
           {
            "marker": {
             "line": {
              "color": "rgb(17,17,17)",
              "width": 0.5
             },
             "pattern": {
              "fillmode": "overlay",
              "size": 10,
              "solidity": 0.2
             }
            },
            "type": "barpolar"
           }
          ],
          "carpet": [
           {
            "aaxis": {
             "endlinecolor": "#A2B1C6",
             "gridcolor": "#506784",
             "linecolor": "#506784",
             "minorgridcolor": "#506784",
             "startlinecolor": "#A2B1C6"
            },
            "baxis": {
             "endlinecolor": "#A2B1C6",
             "gridcolor": "#506784",
             "linecolor": "#506784",
             "minorgridcolor": "#506784",
             "startlinecolor": "#A2B1C6"
            },
            "type": "carpet"
           }
          ],
          "choropleth": [
           {
            "colorbar": {
             "outlinewidth": 0,
             "ticks": ""
            },
            "type": "choropleth"
           }
          ],
          "contour": [
           {
            "colorbar": {
             "outlinewidth": 0,
             "ticks": ""
            },
            "colorscale": [
             [
              0,
              "#0d0887"
             ],
             [
              0.1111111111111111,
              "#46039f"
             ],
             [
              0.2222222222222222,
              "#7201a8"
             ],
             [
              0.3333333333333333,
              "#9c179e"
             ],
             [
              0.4444444444444444,
              "#bd3786"
             ],
             [
              0.5555555555555556,
              "#d8576b"
             ],
             [
              0.6666666666666666,
              "#ed7953"
             ],
             [
              0.7777777777777778,
              "#fb9f3a"
             ],
             [
              0.8888888888888888,
              "#fdca26"
             ],
             [
              1,
              "#f0f921"
             ]
            ],
            "type": "contour"
           }
          ],
          "contourcarpet": [
           {
            "colorbar": {
             "outlinewidth": 0,
             "ticks": ""
            },
            "type": "contourcarpet"
           }
          ],
          "heatmap": [
           {
            "colorbar": {
             "outlinewidth": 0,
             "ticks": ""
            },
            "colorscale": [
             [
              0,
              "#0d0887"
             ],
             [
              0.1111111111111111,
              "#46039f"
             ],
             [
              0.2222222222222222,
              "#7201a8"
             ],
             [
              0.3333333333333333,
              "#9c179e"
             ],
             [
              0.4444444444444444,
              "#bd3786"
             ],
             [
              0.5555555555555556,
              "#d8576b"
             ],
             [
              0.6666666666666666,
              "#ed7953"
             ],
             [
              0.7777777777777778,
              "#fb9f3a"
             ],
             [
              0.8888888888888888,
              "#fdca26"
             ],
             [
              1,
              "#f0f921"
             ]
            ],
            "type": "heatmap"
           }
          ],
          "heatmapgl": [
           {
            "colorbar": {
             "outlinewidth": 0,
             "ticks": ""
            },
            "colorscale": [
             [
              0,
              "#0d0887"
             ],
             [
              0.1111111111111111,
              "#46039f"
             ],
             [
              0.2222222222222222,
              "#7201a8"
             ],
             [
              0.3333333333333333,
              "#9c179e"
             ],
             [
              0.4444444444444444,
              "#bd3786"
             ],
             [
              0.5555555555555556,
              "#d8576b"
             ],
             [
              0.6666666666666666,
              "#ed7953"
             ],
             [
              0.7777777777777778,
              "#fb9f3a"
             ],
             [
              0.8888888888888888,
              "#fdca26"
             ],
             [
              1,
              "#f0f921"
             ]
            ],
            "type": "heatmapgl"
           }
          ],
          "histogram": [
           {
            "marker": {
             "pattern": {
              "fillmode": "overlay",
              "size": 10,
              "solidity": 0.2
             }
            },
            "type": "histogram"
           }
          ],
          "histogram2d": [
           {
            "colorbar": {
             "outlinewidth": 0,
             "ticks": ""
            },
            "colorscale": [
             [
              0,
              "#0d0887"
             ],
             [
              0.1111111111111111,
              "#46039f"
             ],
             [
              0.2222222222222222,
              "#7201a8"
             ],
             [
              0.3333333333333333,
              "#9c179e"
             ],
             [
              0.4444444444444444,
              "#bd3786"
             ],
             [
              0.5555555555555556,
              "#d8576b"
             ],
             [
              0.6666666666666666,
              "#ed7953"
             ],
             [
              0.7777777777777778,
              "#fb9f3a"
             ],
             [
              0.8888888888888888,
              "#fdca26"
             ],
             [
              1,
              "#f0f921"
             ]
            ],
            "type": "histogram2d"
           }
          ],
          "histogram2dcontour": [
           {
            "colorbar": {
             "outlinewidth": 0,
             "ticks": ""
            },
            "colorscale": [
             [
              0,
              "#0d0887"
             ],
             [
              0.1111111111111111,
              "#46039f"
             ],
             [
              0.2222222222222222,
              "#7201a8"
             ],
             [
              0.3333333333333333,
              "#9c179e"
             ],
             [
              0.4444444444444444,
              "#bd3786"
             ],
             [
              0.5555555555555556,
              "#d8576b"
             ],
             [
              0.6666666666666666,
              "#ed7953"
             ],
             [
              0.7777777777777778,
              "#fb9f3a"
             ],
             [
              0.8888888888888888,
              "#fdca26"
             ],
             [
              1,
              "#f0f921"
             ]
            ],
            "type": "histogram2dcontour"
           }
          ],
          "mesh3d": [
           {
            "colorbar": {
             "outlinewidth": 0,
             "ticks": ""
            },
            "type": "mesh3d"
           }
          ],
          "parcoords": [
           {
            "line": {
             "colorbar": {
              "outlinewidth": 0,
              "ticks": ""
             }
            },
            "type": "parcoords"
           }
          ],
          "pie": [
           {
            "automargin": true,
            "type": "pie"
           }
          ],
          "scatter": [
           {
            "marker": {
             "line": {
              "color": "#283442"
             }
            },
            "type": "scatter"
           }
          ],
          "scatter3d": [
           {
            "line": {
             "colorbar": {
              "outlinewidth": 0,
              "ticks": ""
             }
            },
            "marker": {
             "colorbar": {
              "outlinewidth": 0,
              "ticks": ""
             }
            },
            "type": "scatter3d"
           }
          ],
          "scattercarpet": [
           {
            "marker": {
             "colorbar": {
              "outlinewidth": 0,
              "ticks": ""
             }
            },
            "type": "scattercarpet"
           }
          ],
          "scattergeo": [
           {
            "marker": {
             "colorbar": {
              "outlinewidth": 0,
              "ticks": ""
             }
            },
            "type": "scattergeo"
           }
          ],
          "scattergl": [
           {
            "marker": {
             "line": {
              "color": "#283442"
             }
            },
            "type": "scattergl"
           }
          ],
          "scattermapbox": [
           {
            "marker": {
             "colorbar": {
              "outlinewidth": 0,
              "ticks": ""
             }
            },
            "type": "scattermapbox"
           }
          ],
          "scatterpolar": [
           {
            "marker": {
             "colorbar": {
              "outlinewidth": 0,
              "ticks": ""
             }
            },
            "type": "scatterpolar"
           }
          ],
          "scatterpolargl": [
           {
            "marker": {
             "colorbar": {
              "outlinewidth": 0,
              "ticks": ""
             }
            },
            "type": "scatterpolargl"
           }
          ],
          "scatterternary": [
           {
            "marker": {
             "colorbar": {
              "outlinewidth": 0,
              "ticks": ""
             }
            },
            "type": "scatterternary"
           }
          ],
          "surface": [
           {
            "colorbar": {
             "outlinewidth": 0,
             "ticks": ""
            },
            "colorscale": [
             [
              0,
              "#0d0887"
             ],
             [
              0.1111111111111111,
              "#46039f"
             ],
             [
              0.2222222222222222,
              "#7201a8"
             ],
             [
              0.3333333333333333,
              "#9c179e"
             ],
             [
              0.4444444444444444,
              "#bd3786"
             ],
             [
              0.5555555555555556,
              "#d8576b"
             ],
             [
              0.6666666666666666,
              "#ed7953"
             ],
             [
              0.7777777777777778,
              "#fb9f3a"
             ],
             [
              0.8888888888888888,
              "#fdca26"
             ],
             [
              1,
              "#f0f921"
             ]
            ],
            "type": "surface"
           }
          ],
          "table": [
           {
            "cells": {
             "fill": {
              "color": "#506784"
             },
             "line": {
              "color": "rgb(17,17,17)"
             }
            },
            "header": {
             "fill": {
              "color": "#2a3f5f"
             },
             "line": {
              "color": "rgb(17,17,17)"
             }
            },
            "type": "table"
           }
          ]
         },
         "layout": {
          "annotationdefaults": {
           "arrowcolor": "#f2f5fa",
           "arrowhead": 0,
           "arrowwidth": 1
          },
          "autotypenumbers": "strict",
          "coloraxis": {
           "colorbar": {
            "outlinewidth": 0,
            "ticks": ""
           }
          },
          "colorscale": {
           "diverging": [
            [
             0,
             "#8e0152"
            ],
            [
             0.1,
             "#c51b7d"
            ],
            [
             0.2,
             "#de77ae"
            ],
            [
             0.3,
             "#f1b6da"
            ],
            [
             0.4,
             "#fde0ef"
            ],
            [
             0.5,
             "#f7f7f7"
            ],
            [
             0.6,
             "#e6f5d0"
            ],
            [
             0.7,
             "#b8e186"
            ],
            [
             0.8,
             "#7fbc41"
            ],
            [
             0.9,
             "#4d9221"
            ],
            [
             1,
             "#276419"
            ]
           ],
           "sequential": [
            [
             0,
             "#0d0887"
            ],
            [
             0.1111111111111111,
             "#46039f"
            ],
            [
             0.2222222222222222,
             "#7201a8"
            ],
            [
             0.3333333333333333,
             "#9c179e"
            ],
            [
             0.4444444444444444,
             "#bd3786"
            ],
            [
             0.5555555555555556,
             "#d8576b"
            ],
            [
             0.6666666666666666,
             "#ed7953"
            ],
            [
             0.7777777777777778,
             "#fb9f3a"
            ],
            [
             0.8888888888888888,
             "#fdca26"
            ],
            [
             1,
             "#f0f921"
            ]
           ],
           "sequentialminus": [
            [
             0,
             "#0d0887"
            ],
            [
             0.1111111111111111,
             "#46039f"
            ],
            [
             0.2222222222222222,
             "#7201a8"
            ],
            [
             0.3333333333333333,
             "#9c179e"
            ],
            [
             0.4444444444444444,
             "#bd3786"
            ],
            [
             0.5555555555555556,
             "#d8576b"
            ],
            [
             0.6666666666666666,
             "#ed7953"
            ],
            [
             0.7777777777777778,
             "#fb9f3a"
            ],
            [
             0.8888888888888888,
             "#fdca26"
            ],
            [
             1,
             "#f0f921"
            ]
           ]
          },
          "colorway": [
           "#636efa",
           "#EF553B",
           "#00cc96",
           "#ab63fa",
           "#FFA15A",
           "#19d3f3",
           "#FF6692",
           "#B6E880",
           "#FF97FF",
           "#FECB52"
          ],
          "font": {
           "color": "#f2f5fa"
          },
          "geo": {
           "bgcolor": "rgb(17,17,17)",
           "lakecolor": "rgb(17,17,17)",
           "landcolor": "rgb(17,17,17)",
           "showlakes": true,
           "showland": true,
           "subunitcolor": "#506784"
          },
          "hoverlabel": {
           "align": "left"
          },
          "hovermode": "closest",
          "mapbox": {
           "style": "dark"
          },
          "paper_bgcolor": "rgb(17,17,17)",
          "plot_bgcolor": "rgb(17,17,17)",
          "polar": {
           "angularaxis": {
            "gridcolor": "#506784",
            "linecolor": "#506784",
            "ticks": ""
           },
           "bgcolor": "rgb(17,17,17)",
           "radialaxis": {
            "gridcolor": "#506784",
            "linecolor": "#506784",
            "ticks": ""
           }
          },
          "scene": {
           "xaxis": {
            "backgroundcolor": "rgb(17,17,17)",
            "gridcolor": "#506784",
            "gridwidth": 2,
            "linecolor": "#506784",
            "showbackground": true,
            "ticks": "",
            "zerolinecolor": "#C8D4E3"
           },
           "yaxis": {
            "backgroundcolor": "rgb(17,17,17)",
            "gridcolor": "#506784",
            "gridwidth": 2,
            "linecolor": "#506784",
            "showbackground": true,
            "ticks": "",
            "zerolinecolor": "#C8D4E3"
           },
           "zaxis": {
            "backgroundcolor": "rgb(17,17,17)",
            "gridcolor": "#506784",
            "gridwidth": 2,
            "linecolor": "#506784",
            "showbackground": true,
            "ticks": "",
            "zerolinecolor": "#C8D4E3"
           }
          },
          "shapedefaults": {
           "line": {
            "color": "#f2f5fa"
           }
          },
          "sliderdefaults": {
           "bgcolor": "#C8D4E3",
           "bordercolor": "rgb(17,17,17)",
           "borderwidth": 1,
           "tickwidth": 0
          },
          "ternary": {
           "aaxis": {
            "gridcolor": "#506784",
            "linecolor": "#506784",
            "ticks": ""
           },
           "baxis": {
            "gridcolor": "#506784",
            "linecolor": "#506784",
            "ticks": ""
           },
           "bgcolor": "rgb(17,17,17)",
           "caxis": {
            "gridcolor": "#506784",
            "linecolor": "#506784",
            "ticks": ""
           }
          },
          "title": {
           "x": 0.05
          },
          "updatemenudefaults": {
           "bgcolor": "#506784",
           "borderwidth": 0
          },
          "xaxis": {
           "automargin": true,
           "gridcolor": "#283442",
           "linecolor": "#506784",
           "ticks": "",
           "title": {
            "standoff": 15
           },
           "zerolinecolor": "#283442",
           "zerolinewidth": 2
          },
          "yaxis": {
           "automargin": true,
           "gridcolor": "#283442",
           "linecolor": "#506784",
           "ticks": "",
           "title": {
            "standoff": 15
           },
           "zerolinecolor": "#283442",
           "zerolinewidth": 2
          }
         }
        },
        "title": {
         "text": "Evolução da Potência em W (somente computador conectado)"
        },
        "xaxis": {
         "anchor": "y",
         "domain": [
          0,
          1
         ],
         "title": {
          "text": "Timestamp (HH:MM:SS)"
         }
        },
        "yaxis": {
         "anchor": "x",
         "domain": [
          0,
          1
         ],
         "title": {
          "text": "Potência (W)"
         }
        }
       }
      }
     },
     "metadata": {},
     "output_type": "display_data"
    }
   ],
   "source": [
    "fig = px.line(\n",
    "    log, \n",
    "    y=\"power\", \n",
    "    x=\"timestamp\", \n",
    "    template='plotly_dark', \n",
    "    title='Evolução da Potência em W (somente computador conectado)', \n",
    "    labels={'power': 'Potência (W)', 'timestamp': 'Timestamp (HH:MM:SS)'}\n",
    ")\n",
    "\n",
    "fig.show()"
   ]
  }
 ],
 "metadata": {
  "kernelspec": {
   "display_name": "venv",
   "language": "python",
   "name": "python3"
  },
  "language_info": {
   "codemirror_mode": {
    "name": "ipython",
    "version": 3
   },
   "file_extension": ".py",
   "mimetype": "text/x-python",
   "name": "python",
   "nbconvert_exporter": "python",
   "pygments_lexer": "ipython3",
   "version": "3.10.0"
  }
 },
 "nbformat": 4,
 "nbformat_minor": 2
}
